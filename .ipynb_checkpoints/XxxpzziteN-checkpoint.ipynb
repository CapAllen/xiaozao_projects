{
 "cells": [
  {
   "cell_type": "markdown",
   "metadata": {},
   "source": [
    "# 数据准备"
   ]
  },
  {
   "cell_type": "code",
   "execution_count": 232,
   "metadata": {},
   "outputs": [],
   "source": [
    "# 导入工具包\n",
    "import pandas as pd\n",
    "import seaborn as sns\n",
    "import matplotlib.pyplot as plt\n",
    "%matplotlib inline\n",
    "# 加载数据\n",
    "mobike=pd.read_csv('week4.mobike.csv')"
   ]
  },
  {
   "cell_type": "markdown",
   "metadata": {},
   "source": [
    "# 数据概况分析"
   ]
  },
  {
   "cell_type": "code",
   "execution_count": 233,
   "metadata": {},
   "outputs": [
    {
     "name": "stdout",
     "output_type": "stream",
     "text": [
      "<class 'pandas.core.frame.DataFrame'>\n",
      "RangeIndex: 6427 entries, 0 to 6426\n",
      "Data columns (total 15 columns):\n",
      "Unnamed: 0           6427 non-null int64\n",
      "user_id              6427 non-null int64\n",
      "start_time           6427 non-null object\n",
      "end_time             6427 non-null object\n",
      "timeduration         6427 non-null int64\n",
      "bikeid               6427 non-null int64\n",
      "tripduration         6427 non-null int64\n",
      "from_station_id      6427 non-null int64\n",
      "from_station_name    6427 non-null object\n",
      "to_station_id        6427 non-null int64\n",
      "to_station_name      6427 non-null object\n",
      "usertype             6427 non-null object\n",
      "gender               5938 non-null object\n",
      "birthyear            5956 non-null float64\n",
      "age                  6427 non-null object\n",
      "dtypes: float64(1), int64(7), object(7)\n",
      "memory usage: 753.3+ KB\n"
     ]
    }
   ],
   "source": [
    "mobike.info()"
   ]
  },
  {
   "cell_type": "code",
   "execution_count": 234,
   "metadata": {},
   "outputs": [
    {
     "data": {
      "text/html": [
       "<div>\n",
       "<style scoped>\n",
       "    .dataframe tbody tr th:only-of-type {\n",
       "        vertical-align: middle;\n",
       "    }\n",
       "\n",
       "    .dataframe tbody tr th {\n",
       "        vertical-align: top;\n",
       "    }\n",
       "\n",
       "    .dataframe thead th {\n",
       "        text-align: right;\n",
       "    }\n",
       "</style>\n",
       "<table border=\"1\" class=\"dataframe\">\n",
       "  <thead>\n",
       "    <tr style=\"text-align: right;\">\n",
       "      <th></th>\n",
       "      <th>Unnamed: 0</th>\n",
       "      <th>user_id</th>\n",
       "      <th>start_time</th>\n",
       "      <th>end_time</th>\n",
       "      <th>timeduration</th>\n",
       "      <th>bikeid</th>\n",
       "      <th>tripduration</th>\n",
       "      <th>from_station_id</th>\n",
       "      <th>from_station_name</th>\n",
       "      <th>to_station_id</th>\n",
       "      <th>to_station_name</th>\n",
       "      <th>usertype</th>\n",
       "      <th>gender</th>\n",
       "      <th>birthyear</th>\n",
       "      <th>age</th>\n",
       "    </tr>\n",
       "  </thead>\n",
       "  <tbody>\n",
       "    <tr>\n",
       "      <td>0</td>\n",
       "      <td>439283</td>\n",
       "      <td>21499218</td>\n",
       "      <td>11/14/2018 7:37</td>\n",
       "      <td>11/14/2018 7:44</td>\n",
       "      <td>7</td>\n",
       "      <td>2631</td>\n",
       "      <td>436</td>\n",
       "      <td>319</td>\n",
       "      <td>Greenview Ave &amp; Diversey Pkwy</td>\n",
       "      <td>67</td>\n",
       "      <td>Sheffield Ave &amp; Fullerton Ave</td>\n",
       "      <td>Subscriber</td>\n",
       "      <td>Male</td>\n",
       "      <td>1982.0</td>\n",
       "      <td>37</td>\n",
       "    </tr>\n",
       "    <tr>\n",
       "      <td>1</td>\n",
       "      <td>603317</td>\n",
       "      <td>21694389</td>\n",
       "      <td>12/18/2018 19:02</td>\n",
       "      <td>12/18/2018 19:10</td>\n",
       "      <td>7</td>\n",
       "      <td>1565</td>\n",
       "      <td>445</td>\n",
       "      <td>164</td>\n",
       "      <td>Franklin St &amp; Lake St</td>\n",
       "      <td>195</td>\n",
       "      <td>Columbus Dr &amp; Randolph St</td>\n",
       "      <td>Subscriber</td>\n",
       "      <td>Male</td>\n",
       "      <td>1988.0</td>\n",
       "      <td>31</td>\n",
       "    </tr>\n",
       "    <tr>\n",
       "      <td>2</td>\n",
       "      <td>109957</td>\n",
       "      <td>21110722</td>\n",
       "      <td>10/9/2018 12:37</td>\n",
       "      <td>10/9/2018 12:55</td>\n",
       "      <td>18</td>\n",
       "      <td>2231</td>\n",
       "      <td>1090</td>\n",
       "      <td>163</td>\n",
       "      <td>Damen Ave &amp; Clybourn Ave</td>\n",
       "      <td>69</td>\n",
       "      <td>Damen Ave &amp; Pierce Ave</td>\n",
       "      <td>Customer</td>\n",
       "      <td>Male</td>\n",
       "      <td>1989.0</td>\n",
       "      <td>30</td>\n",
       "    </tr>\n",
       "    <tr>\n",
       "      <td>3</td>\n",
       "      <td>428082</td>\n",
       "      <td>21485409</td>\n",
       "      <td>11/12/2018 12:30</td>\n",
       "      <td>11/12/2018 12:40</td>\n",
       "      <td>9</td>\n",
       "      <td>4226</td>\n",
       "      <td>581</td>\n",
       "      <td>226</td>\n",
       "      <td>Racine Ave &amp; Belmont Ave</td>\n",
       "      <td>308</td>\n",
       "      <td>Seeley Ave &amp; Roscoe St</td>\n",
       "      <td>Subscriber</td>\n",
       "      <td>Female</td>\n",
       "      <td>1989.0</td>\n",
       "      <td>30</td>\n",
       "    </tr>\n",
       "    <tr>\n",
       "      <td>4</td>\n",
       "      <td>395437</td>\n",
       "      <td>21445994</td>\n",
       "      <td>11/7/2018 7:29</td>\n",
       "      <td>11/7/2018 7:35</td>\n",
       "      <td>6</td>\n",
       "      <td>3475</td>\n",
       "      <td>390</td>\n",
       "      <td>77</td>\n",
       "      <td>Clinton St &amp; Madison St</td>\n",
       "      <td>621</td>\n",
       "      <td>Aberdeen St &amp; Randolph St</td>\n",
       "      <td>Subscriber</td>\n",
       "      <td>Male</td>\n",
       "      <td>1979.0</td>\n",
       "      <td>40</td>\n",
       "    </tr>\n",
       "  </tbody>\n",
       "</table>\n",
       "</div>"
      ],
      "text/plain": [
       "   Unnamed: 0   user_id        start_time          end_time  timeduration  \\\n",
       "0      439283  21499218   11/14/2018 7:37   11/14/2018 7:44             7   \n",
       "1      603317  21694389  12/18/2018 19:02  12/18/2018 19:10             7   \n",
       "2      109957  21110722   10/9/2018 12:37   10/9/2018 12:55            18   \n",
       "3      428082  21485409  11/12/2018 12:30  11/12/2018 12:40             9   \n",
       "4      395437  21445994    11/7/2018 7:29    11/7/2018 7:35             6   \n",
       "\n",
       "   bikeid  tripduration  from_station_id              from_station_name  \\\n",
       "0    2631           436              319  Greenview Ave & Diversey Pkwy   \n",
       "1    1565           445              164          Franklin St & Lake St   \n",
       "2    2231          1090              163       Damen Ave & Clybourn Ave   \n",
       "3    4226           581              226       Racine Ave & Belmont Ave   \n",
       "4    3475           390               77        Clinton St & Madison St   \n",
       "\n",
       "   to_station_id                to_station_name    usertype  gender  \\\n",
       "0             67  Sheffield Ave & Fullerton Ave  Subscriber    Male   \n",
       "1            195      Columbus Dr & Randolph St  Subscriber    Male   \n",
       "2             69         Damen Ave & Pierce Ave    Customer    Male   \n",
       "3            308         Seeley Ave & Roscoe St  Subscriber  Female   \n",
       "4            621      Aberdeen St & Randolph St  Subscriber    Male   \n",
       "\n",
       "   birthyear age  \n",
       "0     1982.0  37  \n",
       "1     1988.0  31  \n",
       "2     1989.0  30  \n",
       "3     1989.0  30  \n",
       "4     1979.0  40  "
      ]
     },
     "execution_count": 234,
     "metadata": {},
     "output_type": "execute_result"
    }
   ],
   "source": [
    "mobike.head()"
   ]
  },
  {
   "cell_type": "code",
   "execution_count": 235,
   "metadata": {},
   "outputs": [
    {
     "data": {
      "text/html": [
       "<div>\n",
       "<style scoped>\n",
       "    .dataframe tbody tr th:only-of-type {\n",
       "        vertical-align: middle;\n",
       "    }\n",
       "\n",
       "    .dataframe tbody tr th {\n",
       "        vertical-align: top;\n",
       "    }\n",
       "\n",
       "    .dataframe thead th {\n",
       "        text-align: right;\n",
       "    }\n",
       "</style>\n",
       "<table border=\"1\" class=\"dataframe\">\n",
       "  <thead>\n",
       "    <tr style=\"text-align: right;\">\n",
       "      <th></th>\n",
       "      <th>Unnamed: 0</th>\n",
       "      <th>user_id</th>\n",
       "      <th>timeduration</th>\n",
       "      <th>bikeid</th>\n",
       "      <th>tripduration</th>\n",
       "      <th>from_station_id</th>\n",
       "      <th>to_station_id</th>\n",
       "      <th>birthyear</th>\n",
       "    </tr>\n",
       "  </thead>\n",
       "  <tbody>\n",
       "    <tr>\n",
       "      <td>count</td>\n",
       "      <td>6427.000000</td>\n",
       "      <td>6.427000e+03</td>\n",
       "      <td>6427.000000</td>\n",
       "      <td>6427.000000</td>\n",
       "      <td>6.427000e+03</td>\n",
       "      <td>6427.000000</td>\n",
       "      <td>6427.000000</td>\n",
       "      <td>5956.000000</td>\n",
       "    </tr>\n",
       "    <tr>\n",
       "      <td>mean</td>\n",
       "      <td>317005.228411</td>\n",
       "      <td>2.135519e+07</td>\n",
       "      <td>11.778902</td>\n",
       "      <td>3491.637934</td>\n",
       "      <td>1.060471e+03</td>\n",
       "      <td>195.038432</td>\n",
       "      <td>198.502567</td>\n",
       "      <td>1982.488583</td>\n",
       "    </tr>\n",
       "    <tr>\n",
       "      <td>std</td>\n",
       "      <td>184583.896111</td>\n",
       "      <td>2.181294e+05</td>\n",
       "      <td>9.692236</td>\n",
       "      <td>1912.171846</td>\n",
       "      <td>1.456811e+04</td>\n",
       "      <td>148.170025</td>\n",
       "      <td>148.939873</td>\n",
       "      <td>11.147859</td>\n",
       "    </tr>\n",
       "    <tr>\n",
       "      <td>min</td>\n",
       "      <td>51.000000</td>\n",
       "      <td>2.098358e+07</td>\n",
       "      <td>0.000000</td>\n",
       "      <td>2.000000</td>\n",
       "      <td>6.100000e+01</td>\n",
       "      <td>2.000000</td>\n",
       "      <td>2.000000</td>\n",
       "      <td>1906.000000</td>\n",
       "    </tr>\n",
       "    <tr>\n",
       "      <td>25%</td>\n",
       "      <td>159093.000000</td>\n",
       "      <td>2.116805e+07</td>\n",
       "      <td>5.000000</td>\n",
       "      <td>1852.000000</td>\n",
       "      <td>3.490000e+02</td>\n",
       "      <td>77.000000</td>\n",
       "      <td>80.000000</td>\n",
       "      <td>1977.000000</td>\n",
       "    </tr>\n",
       "    <tr>\n",
       "      <td>50%</td>\n",
       "      <td>314569.000000</td>\n",
       "      <td>2.135114e+07</td>\n",
       "      <td>9.000000</td>\n",
       "      <td>3618.000000</td>\n",
       "      <td>5.590000e+02</td>\n",
       "      <td>168.000000</td>\n",
       "      <td>172.000000</td>\n",
       "      <td>1986.000000</td>\n",
       "    </tr>\n",
       "    <tr>\n",
       "      <td>75%</td>\n",
       "      <td>476273.500000</td>\n",
       "      <td>2.154376e+07</td>\n",
       "      <td>15.000000</td>\n",
       "      <td>5179.500000</td>\n",
       "      <td>9.320000e+02</td>\n",
       "      <td>287.000000</td>\n",
       "      <td>287.000000</td>\n",
       "      <td>1991.000000</td>\n",
       "    </tr>\n",
       "    <tr>\n",
       "      <td>max</td>\n",
       "      <td>642522.000000</td>\n",
       "      <td>2.174223e+07</td>\n",
       "      <td>59.000000</td>\n",
       "      <td>6470.000000</td>\n",
       "      <td>1.139070e+06</td>\n",
       "      <td>662.000000</td>\n",
       "      <td>661.000000</td>\n",
       "      <td>2002.000000</td>\n",
       "    </tr>\n",
       "  </tbody>\n",
       "</table>\n",
       "</div>"
      ],
      "text/plain": [
       "          Unnamed: 0       user_id  timeduration       bikeid  tripduration  \\\n",
       "count    6427.000000  6.427000e+03   6427.000000  6427.000000  6.427000e+03   \n",
       "mean   317005.228411  2.135519e+07     11.778902  3491.637934  1.060471e+03   \n",
       "std    184583.896111  2.181294e+05      9.692236  1912.171846  1.456811e+04   \n",
       "min        51.000000  2.098358e+07      0.000000     2.000000  6.100000e+01   \n",
       "25%    159093.000000  2.116805e+07      5.000000  1852.000000  3.490000e+02   \n",
       "50%    314569.000000  2.135114e+07      9.000000  3618.000000  5.590000e+02   \n",
       "75%    476273.500000  2.154376e+07     15.000000  5179.500000  9.320000e+02   \n",
       "max    642522.000000  2.174223e+07     59.000000  6470.000000  1.139070e+06   \n",
       "\n",
       "       from_station_id  to_station_id    birthyear  \n",
       "count      6427.000000    6427.000000  5956.000000  \n",
       "mean        195.038432     198.502567  1982.488583  \n",
       "std         148.170025     148.939873    11.147859  \n",
       "min           2.000000       2.000000  1906.000000  \n",
       "25%          77.000000      80.000000  1977.000000  \n",
       "50%         168.000000     172.000000  1986.000000  \n",
       "75%         287.000000     287.000000  1991.000000  \n",
       "max         662.000000     661.000000  2002.000000  "
      ]
     },
     "execution_count": 235,
     "metadata": {},
     "output_type": "execute_result"
    }
   ],
   "source": [
    "mobike.describe()"
   ]
  },
  {
   "cell_type": "markdown",
   "metadata": {},
   "source": [
    "# 数据清洗"
   ]
  },
  {
   "cell_type": "code",
   "execution_count": 236,
   "metadata": {},
   "outputs": [],
   "source": [
    "#drop不需要的数据\n",
    "mobike.drop(['Unnamed: 0','user_id','bikeid','from_station_id','from_station_name','to_station_id','to_station_name'],axis=1,inplace=True)"
   ]
  },
  {
   "cell_type": "code",
   "execution_count": 237,
   "metadata": {},
   "outputs": [
    {
     "data": {
      "text/html": [
       "<div>\n",
       "<style scoped>\n",
       "    .dataframe tbody tr th:only-of-type {\n",
       "        vertical-align: middle;\n",
       "    }\n",
       "\n",
       "    .dataframe tbody tr th {\n",
       "        vertical-align: top;\n",
       "    }\n",
       "\n",
       "    .dataframe thead th {\n",
       "        text-align: right;\n",
       "    }\n",
       "</style>\n",
       "<table border=\"1\" class=\"dataframe\">\n",
       "  <thead>\n",
       "    <tr style=\"text-align: right;\">\n",
       "      <th></th>\n",
       "      <th>start_time</th>\n",
       "      <th>end_time</th>\n",
       "      <th>timeduration</th>\n",
       "      <th>tripduration</th>\n",
       "      <th>usertype</th>\n",
       "      <th>gender</th>\n",
       "      <th>birthyear</th>\n",
       "      <th>age</th>\n",
       "    </tr>\n",
       "  </thead>\n",
       "  <tbody>\n",
       "    <tr>\n",
       "      <td>0</td>\n",
       "      <td>11/14/2018 7:37</td>\n",
       "      <td>11/14/2018 7:44</td>\n",
       "      <td>7</td>\n",
       "      <td>436</td>\n",
       "      <td>Subscriber</td>\n",
       "      <td>Male</td>\n",
       "      <td>1982.0</td>\n",
       "      <td>37</td>\n",
       "    </tr>\n",
       "    <tr>\n",
       "      <td>1</td>\n",
       "      <td>12/18/2018 19:02</td>\n",
       "      <td>12/18/2018 19:10</td>\n",
       "      <td>7</td>\n",
       "      <td>445</td>\n",
       "      <td>Subscriber</td>\n",
       "      <td>Male</td>\n",
       "      <td>1988.0</td>\n",
       "      <td>31</td>\n",
       "    </tr>\n",
       "    <tr>\n",
       "      <td>2</td>\n",
       "      <td>10/9/2018 12:37</td>\n",
       "      <td>10/9/2018 12:55</td>\n",
       "      <td>18</td>\n",
       "      <td>1090</td>\n",
       "      <td>Customer</td>\n",
       "      <td>Male</td>\n",
       "      <td>1989.0</td>\n",
       "      <td>30</td>\n",
       "    </tr>\n",
       "    <tr>\n",
       "      <td>3</td>\n",
       "      <td>11/12/2018 12:30</td>\n",
       "      <td>11/12/2018 12:40</td>\n",
       "      <td>9</td>\n",
       "      <td>581</td>\n",
       "      <td>Subscriber</td>\n",
       "      <td>Female</td>\n",
       "      <td>1989.0</td>\n",
       "      <td>30</td>\n",
       "    </tr>\n",
       "    <tr>\n",
       "      <td>4</td>\n",
       "      <td>11/7/2018 7:29</td>\n",
       "      <td>11/7/2018 7:35</td>\n",
       "      <td>6</td>\n",
       "      <td>390</td>\n",
       "      <td>Subscriber</td>\n",
       "      <td>Male</td>\n",
       "      <td>1979.0</td>\n",
       "      <td>40</td>\n",
       "    </tr>\n",
       "  </tbody>\n",
       "</table>\n",
       "</div>"
      ],
      "text/plain": [
       "         start_time          end_time  timeduration  tripduration    usertype  \\\n",
       "0   11/14/2018 7:37   11/14/2018 7:44             7           436  Subscriber   \n",
       "1  12/18/2018 19:02  12/18/2018 19:10             7           445  Subscriber   \n",
       "2   10/9/2018 12:37   10/9/2018 12:55            18          1090    Customer   \n",
       "3  11/12/2018 12:30  11/12/2018 12:40             9           581  Subscriber   \n",
       "4    11/7/2018 7:29    11/7/2018 7:35             6           390  Subscriber   \n",
       "\n",
       "   gender  birthyear age  \n",
       "0    Male     1982.0  37  \n",
       "1    Male     1988.0  31  \n",
       "2    Male     1989.0  30  \n",
       "3  Female     1989.0  30  \n",
       "4    Male     1979.0  40  "
      ]
     },
     "execution_count": 237,
     "metadata": {},
     "output_type": "execute_result"
    }
   ],
   "source": [
    "mobike.head()"
   ]
  },
  {
   "cell_type": "code",
   "execution_count": 238,
   "metadata": {},
   "outputs": [],
   "source": [
    "#删除包含缺失值的行\n",
    "mobike=mobike.dropna(how='any')"
   ]
  },
  {
   "cell_type": "code",
   "execution_count": 239,
   "metadata": {},
   "outputs": [
    {
     "name": "stdout",
     "output_type": "stream",
     "text": [
      "<class 'pandas.core.frame.DataFrame'>\n",
      "Int64Index: 5938 entries, 0 to 6426\n",
      "Data columns (total 8 columns):\n",
      "start_time      5938 non-null object\n",
      "end_time        5938 non-null object\n",
      "timeduration    5938 non-null int64\n",
      "tripduration    5938 non-null int64\n",
      "usertype        5938 non-null object\n",
      "gender          5938 non-null object\n",
      "birthyear       5938 non-null float64\n",
      "age             5938 non-null object\n",
      "dtypes: float64(1), int64(2), object(5)\n",
      "memory usage: 417.5+ KB\n"
     ]
    }
   ],
   "source": [
    "mobike.info()"
   ]
  },
  {
   "cell_type": "code",
   "execution_count": 240,
   "metadata": {},
   "outputs": [],
   "source": [
    "#处理异常值\n",
    "\n",
    "#处理age异常值\n",
    "mobike['age']=mobike['birthyear'].apply(lambda x:2019-x)\n",
    "mobike=mobike[mobike['age']<=80]\n",
    "mobike=mobike[mobike['age']>=18]\n",
    "\n",
    "#处理tripduration异常值\n",
    "mobike=mobike[mobike['tripduration']<=4800]"
   ]
  },
  {
   "cell_type": "code",
   "execution_count": 241,
   "metadata": {},
   "outputs": [
    {
     "data": {
      "text/html": [
       "<div>\n",
       "<style scoped>\n",
       "    .dataframe tbody tr th:only-of-type {\n",
       "        vertical-align: middle;\n",
       "    }\n",
       "\n",
       "    .dataframe tbody tr th {\n",
       "        vertical-align: top;\n",
       "    }\n",
       "\n",
       "    .dataframe thead th {\n",
       "        text-align: right;\n",
       "    }\n",
       "</style>\n",
       "<table border=\"1\" class=\"dataframe\">\n",
       "  <thead>\n",
       "    <tr style=\"text-align: right;\">\n",
       "      <th></th>\n",
       "      <th>timeduration</th>\n",
       "      <th>tripduration</th>\n",
       "      <th>birthyear</th>\n",
       "      <th>age</th>\n",
       "    </tr>\n",
       "  </thead>\n",
       "  <tbody>\n",
       "    <tr>\n",
       "      <td>count</td>\n",
       "      <td>5896.000000</td>\n",
       "      <td>5896.000000</td>\n",
       "      <td>5896.000000</td>\n",
       "      <td>5896.000000</td>\n",
       "    </tr>\n",
       "    <tr>\n",
       "      <td>mean</td>\n",
       "      <td>10.655868</td>\n",
       "      <td>677.966588</td>\n",
       "      <td>1982.532564</td>\n",
       "      <td>36.467436</td>\n",
       "    </tr>\n",
       "    <tr>\n",
       "      <td>std</td>\n",
       "      <td>8.158343</td>\n",
       "      <td>520.497138</td>\n",
       "      <td>11.031697</td>\n",
       "      <td>11.031697</td>\n",
       "    </tr>\n",
       "    <tr>\n",
       "      <td>min</td>\n",
       "      <td>0.000000</td>\n",
       "      <td>61.000000</td>\n",
       "      <td>1940.000000</td>\n",
       "      <td>18.000000</td>\n",
       "    </tr>\n",
       "    <tr>\n",
       "      <td>25%</td>\n",
       "      <td>5.000000</td>\n",
       "      <td>336.750000</td>\n",
       "      <td>1977.000000</td>\n",
       "      <td>28.000000</td>\n",
       "    </tr>\n",
       "    <tr>\n",
       "      <td>50%</td>\n",
       "      <td>8.000000</td>\n",
       "      <td>524.500000</td>\n",
       "      <td>1986.000000</td>\n",
       "      <td>33.000000</td>\n",
       "    </tr>\n",
       "    <tr>\n",
       "      <td>75%</td>\n",
       "      <td>14.000000</td>\n",
       "      <td>846.000000</td>\n",
       "      <td>1991.000000</td>\n",
       "      <td>42.000000</td>\n",
       "    </tr>\n",
       "    <tr>\n",
       "      <td>max</td>\n",
       "      <td>59.000000</td>\n",
       "      <td>4751.000000</td>\n",
       "      <td>2001.000000</td>\n",
       "      <td>79.000000</td>\n",
       "    </tr>\n",
       "  </tbody>\n",
       "</table>\n",
       "</div>"
      ],
      "text/plain": [
       "       timeduration  tripduration    birthyear          age\n",
       "count   5896.000000   5896.000000  5896.000000  5896.000000\n",
       "mean      10.655868    677.966588  1982.532564    36.467436\n",
       "std        8.158343    520.497138    11.031697    11.031697\n",
       "min        0.000000     61.000000  1940.000000    18.000000\n",
       "25%        5.000000    336.750000  1977.000000    28.000000\n",
       "50%        8.000000    524.500000  1986.000000    33.000000\n",
       "75%       14.000000    846.000000  1991.000000    42.000000\n",
       "max       59.000000   4751.000000  2001.000000    79.000000"
      ]
     },
     "execution_count": 241,
     "metadata": {},
     "output_type": "execute_result"
    }
   ],
   "source": [
    "mobike.describe()"
   ]
  },
  {
   "cell_type": "code",
   "execution_count": 242,
   "metadata": {},
   "outputs": [
    {
     "data": {
      "text/html": [
       "<div>\n",
       "<style scoped>\n",
       "    .dataframe tbody tr th:only-of-type {\n",
       "        vertical-align: middle;\n",
       "    }\n",
       "\n",
       "    .dataframe tbody tr th {\n",
       "        vertical-align: top;\n",
       "    }\n",
       "\n",
       "    .dataframe thead th {\n",
       "        text-align: right;\n",
       "    }\n",
       "</style>\n",
       "<table border=\"1\" class=\"dataframe\">\n",
       "  <thead>\n",
       "    <tr style=\"text-align: right;\">\n",
       "      <th></th>\n",
       "      <th>start_time</th>\n",
       "      <th>end_time</th>\n",
       "      <th>timeduration</th>\n",
       "      <th>tripduration</th>\n",
       "      <th>usertype</th>\n",
       "      <th>gender</th>\n",
       "      <th>birthyear</th>\n",
       "      <th>age</th>\n",
       "    </tr>\n",
       "  </thead>\n",
       "  <tbody>\n",
       "    <tr>\n",
       "      <td>0</td>\n",
       "      <td>11/14/2018 7:37</td>\n",
       "      <td>11/14/2018 7:44</td>\n",
       "      <td>7</td>\n",
       "      <td>436</td>\n",
       "      <td>Subscriber</td>\n",
       "      <td>Male</td>\n",
       "      <td>1982.0</td>\n",
       "      <td>37.0</td>\n",
       "    </tr>\n",
       "    <tr>\n",
       "      <td>1</td>\n",
       "      <td>12/18/2018 19:02</td>\n",
       "      <td>12/18/2018 19:10</td>\n",
       "      <td>7</td>\n",
       "      <td>445</td>\n",
       "      <td>Subscriber</td>\n",
       "      <td>Male</td>\n",
       "      <td>1988.0</td>\n",
       "      <td>31.0</td>\n",
       "    </tr>\n",
       "    <tr>\n",
       "      <td>2</td>\n",
       "      <td>10/9/2018 12:37</td>\n",
       "      <td>10/9/2018 12:55</td>\n",
       "      <td>18</td>\n",
       "      <td>1090</td>\n",
       "      <td>Customer</td>\n",
       "      <td>Male</td>\n",
       "      <td>1989.0</td>\n",
       "      <td>30.0</td>\n",
       "    </tr>\n",
       "    <tr>\n",
       "      <td>3</td>\n",
       "      <td>11/12/2018 12:30</td>\n",
       "      <td>11/12/2018 12:40</td>\n",
       "      <td>9</td>\n",
       "      <td>581</td>\n",
       "      <td>Subscriber</td>\n",
       "      <td>Female</td>\n",
       "      <td>1989.0</td>\n",
       "      <td>30.0</td>\n",
       "    </tr>\n",
       "    <tr>\n",
       "      <td>4</td>\n",
       "      <td>11/7/2018 7:29</td>\n",
       "      <td>11/7/2018 7:35</td>\n",
       "      <td>6</td>\n",
       "      <td>390</td>\n",
       "      <td>Subscriber</td>\n",
       "      <td>Male</td>\n",
       "      <td>1979.0</td>\n",
       "      <td>40.0</td>\n",
       "    </tr>\n",
       "  </tbody>\n",
       "</table>\n",
       "</div>"
      ],
      "text/plain": [
       "         start_time          end_time  timeduration  tripduration    usertype  \\\n",
       "0   11/14/2018 7:37   11/14/2018 7:44             7           436  Subscriber   \n",
       "1  12/18/2018 19:02  12/18/2018 19:10             7           445  Subscriber   \n",
       "2   10/9/2018 12:37   10/9/2018 12:55            18          1090    Customer   \n",
       "3  11/12/2018 12:30  11/12/2018 12:40             9           581  Subscriber   \n",
       "4    11/7/2018 7:29    11/7/2018 7:35             6           390  Subscriber   \n",
       "\n",
       "   gender  birthyear   age  \n",
       "0    Male     1982.0  37.0  \n",
       "1    Male     1988.0  31.0  \n",
       "2    Male     1989.0  30.0  \n",
       "3  Female     1989.0  30.0  \n",
       "4    Male     1979.0  40.0  "
      ]
     },
     "execution_count": 242,
     "metadata": {},
     "output_type": "execute_result"
    }
   ],
   "source": [
    "mobike.head()"
   ]
  },
  {
   "cell_type": "code",
   "execution_count": 243,
   "metadata": {},
   "outputs": [],
   "source": [
    "#处理时间类型数据\n",
    "\n",
    "# 将start_time转变为日期时间格式\n",
    "mobike['start_time']=pd.to_datetime(mobike['start_time'])\n",
    "mobike['end_time']=pd.to_datetime(mobike['end_time'])\n",
    "\n",
    "# 将数据集中的类别变量转化为数字型变量\n",
    "mobike=pd.get_dummies(mobike)"
   ]
  },
  {
   "cell_type": "code",
   "execution_count": 244,
   "metadata": {},
   "outputs": [],
   "source": [
    "mobike.drop(['gender_Female','usertype_Customer','birthyear'],axis=1,inplace=True)"
   ]
  },
  {
   "cell_type": "code",
   "execution_count": 245,
   "metadata": {},
   "outputs": [
    {
     "data": {
      "text/html": [
       "<div>\n",
       "<style scoped>\n",
       "    .dataframe tbody tr th:only-of-type {\n",
       "        vertical-align: middle;\n",
       "    }\n",
       "\n",
       "    .dataframe tbody tr th {\n",
       "        vertical-align: top;\n",
       "    }\n",
       "\n",
       "    .dataframe thead th {\n",
       "        text-align: right;\n",
       "    }\n",
       "</style>\n",
       "<table border=\"1\" class=\"dataframe\">\n",
       "  <thead>\n",
       "    <tr style=\"text-align: right;\">\n",
       "      <th></th>\n",
       "      <th>start_time</th>\n",
       "      <th>end_time</th>\n",
       "      <th>timeduration</th>\n",
       "      <th>tripduration</th>\n",
       "      <th>age</th>\n",
       "      <th>usertype_Subscriber</th>\n",
       "      <th>gender_Male</th>\n",
       "    </tr>\n",
       "  </thead>\n",
       "  <tbody>\n",
       "    <tr>\n",
       "      <td>0</td>\n",
       "      <td>2018-11-14 07:37:00</td>\n",
       "      <td>2018-11-14 07:44:00</td>\n",
       "      <td>7</td>\n",
       "      <td>436</td>\n",
       "      <td>37.0</td>\n",
       "      <td>1</td>\n",
       "      <td>1</td>\n",
       "    </tr>\n",
       "    <tr>\n",
       "      <td>1</td>\n",
       "      <td>2018-12-18 19:02:00</td>\n",
       "      <td>2018-12-18 19:10:00</td>\n",
       "      <td>7</td>\n",
       "      <td>445</td>\n",
       "      <td>31.0</td>\n",
       "      <td>1</td>\n",
       "      <td>1</td>\n",
       "    </tr>\n",
       "    <tr>\n",
       "      <td>2</td>\n",
       "      <td>2018-10-09 12:37:00</td>\n",
       "      <td>2018-10-09 12:55:00</td>\n",
       "      <td>18</td>\n",
       "      <td>1090</td>\n",
       "      <td>30.0</td>\n",
       "      <td>0</td>\n",
       "      <td>1</td>\n",
       "    </tr>\n",
       "    <tr>\n",
       "      <td>3</td>\n",
       "      <td>2018-11-12 12:30:00</td>\n",
       "      <td>2018-11-12 12:40:00</td>\n",
       "      <td>9</td>\n",
       "      <td>581</td>\n",
       "      <td>30.0</td>\n",
       "      <td>1</td>\n",
       "      <td>0</td>\n",
       "    </tr>\n",
       "    <tr>\n",
       "      <td>4</td>\n",
       "      <td>2018-11-07 07:29:00</td>\n",
       "      <td>2018-11-07 07:35:00</td>\n",
       "      <td>6</td>\n",
       "      <td>390</td>\n",
       "      <td>40.0</td>\n",
       "      <td>1</td>\n",
       "      <td>1</td>\n",
       "    </tr>\n",
       "  </tbody>\n",
       "</table>\n",
       "</div>"
      ],
      "text/plain": [
       "           start_time            end_time  timeduration  tripduration   age  \\\n",
       "0 2018-11-14 07:37:00 2018-11-14 07:44:00             7           436  37.0   \n",
       "1 2018-12-18 19:02:00 2018-12-18 19:10:00             7           445  31.0   \n",
       "2 2018-10-09 12:37:00 2018-10-09 12:55:00            18          1090  30.0   \n",
       "3 2018-11-12 12:30:00 2018-11-12 12:40:00             9           581  30.0   \n",
       "4 2018-11-07 07:29:00 2018-11-07 07:35:00             6           390  40.0   \n",
       "\n",
       "   usertype_Subscriber  gender_Male  \n",
       "0                    1            1  \n",
       "1                    1            1  \n",
       "2                    0            1  \n",
       "3                    1            0  \n",
       "4                    1            1  "
      ]
     },
     "execution_count": 245,
     "metadata": {},
     "output_type": "execute_result"
    }
   ],
   "source": [
    "mobike.head()"
   ]
  },
  {
   "cell_type": "code",
   "execution_count": 246,
   "metadata": {},
   "outputs": [
    {
     "name": "stdout",
     "output_type": "stream",
     "text": [
      "<class 'pandas.core.frame.DataFrame'>\n",
      "Int64Index: 5896 entries, 0 to 6426\n",
      "Data columns (total 7 columns):\n",
      "start_time             5896 non-null datetime64[ns]\n",
      "end_time               5896 non-null datetime64[ns]\n",
      "timeduration           5896 non-null int64\n",
      "tripduration           5896 non-null int64\n",
      "age                    5896 non-null float64\n",
      "usertype_Subscriber    5896 non-null uint8\n",
      "gender_Male            5896 non-null uint8\n",
      "dtypes: datetime64[ns](2), float64(1), int64(2), uint8(2)\n",
      "memory usage: 287.9 KB\n"
     ]
    }
   ],
   "source": [
    "mobike.info()"
   ]
  },
  {
   "cell_type": "markdown",
   "metadata": {},
   "source": [
    "# 聚类分析模型建立 与 评估"
   ]
  },
  {
   "cell_type": "code",
   "execution_count": 247,
   "metadata": {},
   "outputs": [],
   "source": [
    "#选择变量并进行标准化\n",
    "mobike_5=mobike[['timeduration','tripduration','age','usertype_Subscriber','gender_Male']]\n",
    "from sklearn.preprocessing import scale\n",
    "x=pd.DataFrame(scale(mobike_5))"
   ]
  },
  {
   "cell_type": "code",
   "execution_count": 248,
   "metadata": {},
   "outputs": [
    {
     "data": {
      "text/plain": [
       "KMeans(algorithm='auto', copy_x=True, init='k-means++', max_iter=300,\n",
       "       n_clusters=3, n_init=10, n_jobs=None, precompute_distances='auto',\n",
       "       random_state=10, tol=0.0001, verbose=0)"
      ]
     },
     "execution_count": 248,
     "metadata": {},
     "output_type": "execute_result"
    }
   ],
   "source": [
    "#创建3个群\n",
    "from sklearn import cluster\n",
    "model=cluster.KMeans(n_clusters=3,random_state=10)\n",
    "model.fit(x)"
   ]
  },
  {
   "cell_type": "code",
   "execution_count": 249,
   "metadata": {},
   "outputs": [
    {
     "name": "stderr",
     "output_type": "stream",
     "text": [
      "/Users/yangfeiran/opt/anaconda3/lib/python3.7/site-packages/ipykernel_launcher.py:2: SettingWithCopyWarning: \n",
      "A value is trying to be set on a copy of a slice from a DataFrame.\n",
      "Try using .loc[row_indexer,col_indexer] = value instead\n",
      "\n",
      "See the caveats in the documentation: http://pandas.pydata.org/pandas-docs/stable/user_guide/indexing.html#returning-a-view-versus-a-copy\n",
      "  \n"
     ]
    },
    {
     "data": {
      "text/html": [
       "<div>\n",
       "<style scoped>\n",
       "    .dataframe tbody tr th:only-of-type {\n",
       "        vertical-align: middle;\n",
       "    }\n",
       "\n",
       "    .dataframe tbody tr th {\n",
       "        vertical-align: top;\n",
       "    }\n",
       "\n",
       "    .dataframe thead th {\n",
       "        text-align: right;\n",
       "    }\n",
       "</style>\n",
       "<table border=\"1\" class=\"dataframe\">\n",
       "  <thead>\n",
       "    <tr style=\"text-align: right;\">\n",
       "      <th></th>\n",
       "      <th>timeduration</th>\n",
       "      <th>tripduration</th>\n",
       "      <th>age</th>\n",
       "      <th>usertype_Subscriber</th>\n",
       "      <th>gender_Male</th>\n",
       "      <th>cluster</th>\n",
       "    </tr>\n",
       "  </thead>\n",
       "  <tbody>\n",
       "    <tr>\n",
       "      <td>0</td>\n",
       "      <td>7</td>\n",
       "      <td>436</td>\n",
       "      <td>37.0</td>\n",
       "      <td>1</td>\n",
       "      <td>1</td>\n",
       "      <td>0</td>\n",
       "    </tr>\n",
       "    <tr>\n",
       "      <td>1</td>\n",
       "      <td>7</td>\n",
       "      <td>445</td>\n",
       "      <td>31.0</td>\n",
       "      <td>1</td>\n",
       "      <td>1</td>\n",
       "      <td>0</td>\n",
       "    </tr>\n",
       "    <tr>\n",
       "      <td>2</td>\n",
       "      <td>18</td>\n",
       "      <td>1090</td>\n",
       "      <td>30.0</td>\n",
       "      <td>0</td>\n",
       "      <td>1</td>\n",
       "      <td>2</td>\n",
       "    </tr>\n",
       "    <tr>\n",
       "      <td>3</td>\n",
       "      <td>9</td>\n",
       "      <td>581</td>\n",
       "      <td>30.0</td>\n",
       "      <td>1</td>\n",
       "      <td>0</td>\n",
       "      <td>0</td>\n",
       "    </tr>\n",
       "    <tr>\n",
       "      <td>4</td>\n",
       "      <td>6</td>\n",
       "      <td>390</td>\n",
       "      <td>40.0</td>\n",
       "      <td>1</td>\n",
       "      <td>1</td>\n",
       "      <td>0</td>\n",
       "    </tr>\n",
       "  </tbody>\n",
       "</table>\n",
       "</div>"
      ],
      "text/plain": [
       "   timeduration  tripduration   age  usertype_Subscriber  gender_Male  cluster\n",
       "0             7           436  37.0                    1            1        0\n",
       "1             7           445  31.0                    1            1        0\n",
       "2            18          1090  30.0                    0            1        2\n",
       "3             9           581  30.0                    1            0        0\n",
       "4             6           390  40.0                    1            1        0"
      ]
     },
     "execution_count": 249,
     "metadata": {},
     "output_type": "execute_result"
    }
   ],
   "source": [
    "#查看分群效果\n",
    "mobike_5['cluster']=model.labels_\n",
    "mobike_5.head()"
   ]
  },
  {
   "cell_type": "code",
   "execution_count": 250,
   "metadata": {},
   "outputs": [
    {
     "data": {
      "text/plain": [
       "<matplotlib.axes._subplots.AxesSubplot at 0x1a1a7c8490>"
      ]
     },
     "execution_count": 250,
     "metadata": {},
     "output_type": "execute_result"
    },
    {
     "data": {
      "image/png": "[encoded data removed]",
      "text/plain": [
       "<Figure size 432x288 with 1 Axes>"
      ]
     },
     "metadata": {
      "needs_background": "light"
     },
     "output_type": "display_data"
    }
   ],
   "source": [
    "sns.scatterplot(x='age',y='timeduration',hue='cluster',data=mobike_5)#用散点图可视化呈现分群效果"
   ]
  },
  {
   "cell_type": "code",
   "execution_count": 251,
   "metadata": {},
   "outputs": [
    {
     "data": {
      "text/html": [
       "<div>\n",
       "<style scoped>\n",
       "    .dataframe tbody tr th:only-of-type {\n",
       "        vertical-align: middle;\n",
       "    }\n",
       "\n",
       "    .dataframe tbody tr th {\n",
       "        vertical-align: top;\n",
       "    }\n",
       "\n",
       "    .dataframe thead th {\n",
       "        text-align: right;\n",
       "    }\n",
       "</style>\n",
       "<table border=\"1\" class=\"dataframe\">\n",
       "  <thead>\n",
       "    <tr style=\"text-align: right;\">\n",
       "      <th></th>\n",
       "      <th>count</th>\n",
       "      <th>mean</th>\n",
       "      <th>std</th>\n",
       "      <th>min</th>\n",
       "      <th>25%</th>\n",
       "      <th>50%</th>\n",
       "      <th>75%</th>\n",
       "      <th>max</th>\n",
       "    </tr>\n",
       "    <tr>\n",
       "      <th>cluster</th>\n",
       "      <th></th>\n",
       "      <th></th>\n",
       "      <th></th>\n",
       "      <th></th>\n",
       "      <th></th>\n",
       "      <th></th>\n",
       "      <th></th>\n",
       "      <th></th>\n",
       "    </tr>\n",
       "  </thead>\n",
       "  <tbody>\n",
       "    <tr>\n",
       "      <td>0</td>\n",
       "      <td>4627.0</td>\n",
       "      <td>36.435487</td>\n",
       "      <td>11.045650</td>\n",
       "      <td>18.0</td>\n",
       "      <td>28.0</td>\n",
       "      <td>33.0</td>\n",
       "      <td>42.00</td>\n",
       "      <td>79.0</td>\n",
       "    </tr>\n",
       "    <tr>\n",
       "      <td>1</td>\n",
       "      <td>1080.0</td>\n",
       "      <td>37.147222</td>\n",
       "      <td>10.988308</td>\n",
       "      <td>18.0</td>\n",
       "      <td>29.0</td>\n",
       "      <td>34.0</td>\n",
       "      <td>43.25</td>\n",
       "      <td>73.0</td>\n",
       "    </tr>\n",
       "    <tr>\n",
       "      <td>2</td>\n",
       "      <td>189.0</td>\n",
       "      <td>33.365079</td>\n",
       "      <td>10.418327</td>\n",
       "      <td>18.0</td>\n",
       "      <td>25.0</td>\n",
       "      <td>30.0</td>\n",
       "      <td>39.00</td>\n",
       "      <td>63.0</td>\n",
       "    </tr>\n",
       "  </tbody>\n",
       "</table>\n",
       "</div>"
      ],
      "text/plain": [
       "          count       mean        std   min   25%   50%    75%   max\n",
       "cluster                                                             \n",
       "0        4627.0  36.435487  11.045650  18.0  28.0  33.0  42.00  79.0\n",
       "1        1080.0  37.147222  10.988308  18.0  29.0  34.0  43.25  73.0\n",
       "2         189.0  33.365079  10.418327  18.0  25.0  30.0  39.00  63.0"
      ]
     },
     "execution_count": 251,
     "metadata": {},
     "output_type": "execute_result"
    }
   ],
   "source": [
    "mobike_5.groupby(['cluster'])['age'].describe()#查看单个变量的分群效果"
   ]
  },
  {
   "cell_type": "code",
   "execution_count": 252,
   "metadata": {},
   "outputs": [
    {
     "name": "stdout",
     "output_type": "stream",
     "text": [
      "0.3995972351585507\n"
     ]
    }
   ],
   "source": [
    "#模型的评估\n",
    "from sklearn import metrics#调用sklearn的metrics库\n",
    "x_cluster=model.fit_predict(x)#个体与群的距离\n",
    "score=metrics.silhouette_score(x,x_cluster)#评分越高，个体与群越近；评分越低，个体与群越远\n",
    "print(score)"
   ]
  },
  {
   "cell_type": "markdown",
   "metadata": {},
   "source": [
    "# 模型优化"
   ]
  },
  {
   "cell_type": "markdown",
   "metadata": {},
   "source": [
    "方式1 调整群数--创建5个群"
   ]
  },
  {
   "cell_type": "code",
   "execution_count": 253,
   "metadata": {},
   "outputs": [],
   "source": [
    "#选择变量并进行标准化\n",
    "mobike_5=mobike[['timeduration','tripduration','age','usertype_Subscriber','gender_Male']]\n",
    "from sklearn.preprocessing import scale\n",
    "x=pd.DataFrame(scale(mobike_5))"
   ]
  },
  {
   "cell_type": "code",
   "execution_count": 254,
   "metadata": {},
   "outputs": [
    {
     "data": {
      "text/plain": [
       "KMeans(algorithm='auto', copy_x=True, init='k-means++', max_iter=300,\n",
       "       n_clusters=5, n_init=10, n_jobs=None, precompute_distances='auto',\n",
       "       random_state=10, tol=0.0001, verbose=0)"
      ]
     },
     "execution_count": 254,
     "metadata": {},
     "output_type": "execute_result"
    }
   ],
   "source": [
    "#创建5个群\n",
    "from sklearn import cluster\n",
    "model=cluster.KMeans(n_clusters=5,random_state=10)\n",
    "model.fit(x)"
   ]
  },
  {
   "cell_type": "code",
   "execution_count": 255,
   "metadata": {},
   "outputs": [
    {
     "name": "stderr",
     "output_type": "stream",
     "text": [
      "/Users/yangfeiran/opt/anaconda3/lib/python3.7/site-packages/ipykernel_launcher.py:2: SettingWithCopyWarning: \n",
      "A value is trying to be set on a copy of a slice from a DataFrame.\n",
      "Try using .loc[row_indexer,col_indexer] = value instead\n",
      "\n",
      "See the caveats in the documentation: http://pandas.pydata.org/pandas-docs/stable/user_guide/indexing.html#returning-a-view-versus-a-copy\n",
      "  \n"
     ]
    },
    {
     "data": {
      "text/plain": [
       "<matplotlib.axes._subplots.AxesSubplot at 0x1a1a7f4250>"
      ]
     },
     "execution_count": 255,
     "metadata": {},
     "output_type": "execute_result"
    },
    {
     "data": {
      "image/png": "[encoded data removed]",
      "text/plain": [
       "<Figure size 432x288 with 1 Axes>"
      ]
     },
     "metadata": {
      "needs_background": "light"
     },
     "output_type": "display_data"
    }
   ],
   "source": [
    "#查看分群效果\n",
    "mobike_5['cluster']=model.labels_\n",
    "sns.scatterplot(x='age',y='timeduration',hue='cluster',data=mobike_5)#用散点图可视化呈现分群效果"
   ]
  },
  {
   "cell_type": "code",
   "execution_count": 256,
   "metadata": {},
   "outputs": [
    {
     "name": "stdout",
     "output_type": "stream",
     "text": [
      "0.4493690200740134\n"
     ]
    }
   ],
   "source": [
    "#模型的评估\n",
    "from sklearn import metrics#调用sklearn的metrics库\n",
    "x_cluster=model.fit_predict(x)#个体与群的距离\n",
    "score=metrics.silhouette_score(x,x_cluster)#评分越高，个体与群越近；评分越低，个体与群越远\n",
    "print(score)"
   ]
  },
  {
   "cell_type": "markdown",
   "metadata": {},
   "source": [
    "方式2 调整变量--去掉tripduration使用4个变量"
   ]
  },
  {
   "cell_type": "code",
   "execution_count": 257,
   "metadata": {},
   "outputs": [],
   "source": [
    "#选择变量并进行标准化\n",
    "mobike_4=mobike[['timeduration','age','usertype_Subscriber','gender_Male']]\n",
    "from sklearn.preprocessing import scale\n",
    "x=pd.DataFrame(scale(mobike_4))"
   ]
  },
  {
   "cell_type": "code",
   "execution_count": 258,
   "metadata": {},
   "outputs": [
    {
     "data": {
      "text/plain": [
       "KMeans(algorithm='auto', copy_x=True, init='k-means++', max_iter=300,\n",
       "       n_clusters=5, n_init=10, n_jobs=None, precompute_distances='auto',\n",
       "       random_state=10, tol=0.0001, verbose=0)"
      ]
     },
     "execution_count": 258,
     "metadata": {},
     "output_type": "execute_result"
    }
   ],
   "source": [
    "#创建5个群\n",
    "from sklearn import cluster\n",
    "model=cluster.KMeans(n_clusters=5,random_state=10)\n",
    "model.fit(x)"
   ]
  },
  {
   "cell_type": "code",
   "execution_count": 259,
   "metadata": {},
   "outputs": [
    {
     "name": "stderr",
     "output_type": "stream",
     "text": [
      "/Users/yangfeiran/opt/anaconda3/lib/python3.7/site-packages/ipykernel_launcher.py:2: SettingWithCopyWarning: \n",
      "A value is trying to be set on a copy of a slice from a DataFrame.\n",
      "Try using .loc[row_indexer,col_indexer] = value instead\n",
      "\n",
      "See the caveats in the documentation: http://pandas.pydata.org/pandas-docs/stable/user_guide/indexing.html#returning-a-view-versus-a-copy\n",
      "  \n"
     ]
    },
    {
     "data": {
      "text/plain": [
       "<matplotlib.axes._subplots.AxesSubplot at 0x1a1cfa8810>"
      ]
     },
     "execution_count": 259,
     "metadata": {},
     "output_type": "execute_result"
    },
    {
     "data": {
      "image/png": "[encoded data removed]",
      "text/plain": [
       "<Figure size 432x288 with 1 Axes>"
      ]
     },
     "metadata": {
      "needs_background": "light"
     },
     "output_type": "display_data"
    }
   ],
   "source": [
    "#查看分群效果\n",
    "mobike_4['cluster']=model.labels_\n",
    "sns.scatterplot(x='age',y='timeduration',hue='cluster',data=mobike_5)#用散点图可视化呈现分群效果"
   ]
  },
  {
   "cell_type": "code",
   "execution_count": 260,
   "metadata": {},
   "outputs": [
    {
     "name": "stdout",
     "output_type": "stream",
     "text": [
      "0.48800142037474786\n"
     ]
    }
   ],
   "source": [
    "#模型的评估\n",
    "from sklearn import metrics#调用sklearn的metrics库\n",
    "x_cluster=model.fit_predict(x)#个体与群的距离\n",
    "score=metrics.silhouette_score(x,x_cluster)#评分越高，个体与群越近；评分越低，个体与群越远\n",
    "print(score)"
   ]
  },
  {
   "cell_type": "code",
   "execution_count": 261,
   "metadata": {},
   "outputs": [
    {
     "data": {
      "text/html": [
       "<div>\n",
       "<style scoped>\n",
       "    .dataframe tbody tr th:only-of-type {\n",
       "        vertical-align: middle;\n",
       "    }\n",
       "\n",
       "    .dataframe tbody tr th {\n",
       "        vertical-align: top;\n",
       "    }\n",
       "\n",
       "    .dataframe thead th {\n",
       "        text-align: right;\n",
       "    }\n",
       "</style>\n",
       "<table border=\"1\" class=\"dataframe\">\n",
       "  <thead>\n",
       "    <tr style=\"text-align: right;\">\n",
       "      <th></th>\n",
       "      <th>count</th>\n",
       "      <th>mean</th>\n",
       "      <th>std</th>\n",
       "      <th>min</th>\n",
       "      <th>25%</th>\n",
       "      <th>50%</th>\n",
       "      <th>75%</th>\n",
       "      <th>max</th>\n",
       "    </tr>\n",
       "    <tr>\n",
       "      <th>cluster</th>\n",
       "      <th></th>\n",
       "      <th></th>\n",
       "      <th></th>\n",
       "      <th></th>\n",
       "      <th></th>\n",
       "      <th></th>\n",
       "      <th></th>\n",
       "      <th></th>\n",
       "    </tr>\n",
       "  </thead>\n",
       "  <tbody>\n",
       "    <tr>\n",
       "      <td>0</td>\n",
       "      <td>1107.0</td>\n",
       "      <td>53.394761</td>\n",
       "      <td>7.349115</td>\n",
       "      <td>42.0</td>\n",
       "      <td>47.0</td>\n",
       "      <td>52.0</td>\n",
       "      <td>58.5</td>\n",
       "      <td>79.0</td>\n",
       "    </tr>\n",
       "    <tr>\n",
       "      <td>1</td>\n",
       "      <td>1173.0</td>\n",
       "      <td>34.463768</td>\n",
       "      <td>9.711087</td>\n",
       "      <td>18.0</td>\n",
       "      <td>28.0</td>\n",
       "      <td>31.0</td>\n",
       "      <td>39.0</td>\n",
       "      <td>62.0</td>\n",
       "    </tr>\n",
       "    <tr>\n",
       "      <td>2</td>\n",
       "      <td>2848.0</td>\n",
       "      <td>31.126756</td>\n",
       "      <td>5.278651</td>\n",
       "      <td>18.0</td>\n",
       "      <td>27.0</td>\n",
       "      <td>31.0</td>\n",
       "      <td>35.0</td>\n",
       "      <td>43.0</td>\n",
       "    </tr>\n",
       "    <tr>\n",
       "      <td>3</td>\n",
       "      <td>189.0</td>\n",
       "      <td>33.365079</td>\n",
       "      <td>10.418327</td>\n",
       "      <td>18.0</td>\n",
       "      <td>25.0</td>\n",
       "      <td>30.0</td>\n",
       "      <td>39.0</td>\n",
       "      <td>63.0</td>\n",
       "    </tr>\n",
       "    <tr>\n",
       "      <td>4</td>\n",
       "      <td>579.0</td>\n",
       "      <td>35.445596</td>\n",
       "      <td>8.509819</td>\n",
       "      <td>20.0</td>\n",
       "      <td>30.0</td>\n",
       "      <td>34.0</td>\n",
       "      <td>40.0</td>\n",
       "      <td>65.0</td>\n",
       "    </tr>\n",
       "  </tbody>\n",
       "</table>\n",
       "</div>"
      ],
      "text/plain": [
       "          count       mean        std   min   25%   50%   75%   max\n",
       "cluster                                                            \n",
       "0        1107.0  53.394761   7.349115  42.0  47.0  52.0  58.5  79.0\n",
       "1        1173.0  34.463768   9.711087  18.0  28.0  31.0  39.0  62.0\n",
       "2        2848.0  31.126756   5.278651  18.0  27.0  31.0  35.0  43.0\n",
       "3         189.0  33.365079  10.418327  18.0  25.0  30.0  39.0  63.0\n",
       "4         579.0  35.445596   8.509819  20.0  30.0  34.0  40.0  65.0"
      ]
     },
     "execution_count": 261,
     "metadata": {},
     "output_type": "execute_result"
    }
   ],
   "source": [
    "mobike_4.groupby(['cluster'])['age'].describe()#查看单个变量的分群效果"
   ]
  },
  {
   "cell_type": "code",
   "execution_count": 262,
   "metadata": {},
   "outputs": [
    {
     "data": {
      "text/html": [
       "<div>\n",
       "<style scoped>\n",
       "    .dataframe tbody tr th:only-of-type {\n",
       "        vertical-align: middle;\n",
       "    }\n",
       "\n",
       "    .dataframe tbody tr th {\n",
       "        vertical-align: top;\n",
       "    }\n",
       "\n",
       "    .dataframe thead th {\n",
       "        text-align: right;\n",
       "    }\n",
       "</style>\n",
       "<table border=\"1\" class=\"dataframe\">\n",
       "  <thead>\n",
       "    <tr style=\"text-align: right;\">\n",
       "      <th></th>\n",
       "      <th>count</th>\n",
       "      <th>mean</th>\n",
       "      <th>std</th>\n",
       "      <th>min</th>\n",
       "      <th>25%</th>\n",
       "      <th>50%</th>\n",
       "      <th>75%</th>\n",
       "      <th>max</th>\n",
       "    </tr>\n",
       "    <tr>\n",
       "      <th>cluster</th>\n",
       "      <th></th>\n",
       "      <th></th>\n",
       "      <th></th>\n",
       "      <th></th>\n",
       "      <th></th>\n",
       "      <th></th>\n",
       "      <th></th>\n",
       "      <th></th>\n",
       "    </tr>\n",
       "  </thead>\n",
       "  <tbody>\n",
       "    <tr>\n",
       "      <td>0</td>\n",
       "      <td>1107.0</td>\n",
       "      <td>9.056911</td>\n",
       "      <td>4.965834</td>\n",
       "      <td>1.0</td>\n",
       "      <td>5.0</td>\n",
       "      <td>8.0</td>\n",
       "      <td>12.0</td>\n",
       "      <td>30.0</td>\n",
       "    </tr>\n",
       "    <tr>\n",
       "      <td>1</td>\n",
       "      <td>1173.0</td>\n",
       "      <td>10.092924</td>\n",
       "      <td>6.189201</td>\n",
       "      <td>1.0</td>\n",
       "      <td>5.0</td>\n",
       "      <td>9.0</td>\n",
       "      <td>14.0</td>\n",
       "      <td>28.0</td>\n",
       "    </tr>\n",
       "    <tr>\n",
       "      <td>2</td>\n",
       "      <td>2848.0</td>\n",
       "      <td>7.601475</td>\n",
       "      <td>4.041872</td>\n",
       "      <td>0.0</td>\n",
       "      <td>4.0</td>\n",
       "      <td>7.0</td>\n",
       "      <td>10.0</td>\n",
       "      <td>18.0</td>\n",
       "    </tr>\n",
       "    <tr>\n",
       "      <td>3</td>\n",
       "      <td>189.0</td>\n",
       "      <td>19.037037</td>\n",
       "      <td>13.195490</td>\n",
       "      <td>0.0</td>\n",
       "      <td>8.0</td>\n",
       "      <td>15.0</td>\n",
       "      <td>27.0</td>\n",
       "      <td>59.0</td>\n",
       "    </tr>\n",
       "    <tr>\n",
       "      <td>4</td>\n",
       "      <td>579.0</td>\n",
       "      <td>27.141623</td>\n",
       "      <td>8.374908</td>\n",
       "      <td>17.0</td>\n",
       "      <td>21.0</td>\n",
       "      <td>25.0</td>\n",
       "      <td>32.0</td>\n",
       "      <td>59.0</td>\n",
       "    </tr>\n",
       "  </tbody>\n",
       "</table>\n",
       "</div>"
      ],
      "text/plain": [
       "          count       mean        std   min   25%   50%   75%   max\n",
       "cluster                                                            \n",
       "0        1107.0   9.056911   4.965834   1.0   5.0   8.0  12.0  30.0\n",
       "1        1173.0  10.092924   6.189201   1.0   5.0   9.0  14.0  28.0\n",
       "2        2848.0   7.601475   4.041872   0.0   4.0   7.0  10.0  18.0\n",
       "3         189.0  19.037037  13.195490   0.0   8.0  15.0  27.0  59.0\n",
       "4         579.0  27.141623   8.374908  17.0  21.0  25.0  32.0  59.0"
      ]
     },
     "execution_count": 262,
     "metadata": {},
     "output_type": "execute_result"
    }
   ],
   "source": [
    "mobike_4.groupby(['cluster'])['timeduration'].describe()#查看单个变量的分群效果"
   ]
  },
  {
   "cell_type": "code",
   "execution_count": 263,
   "metadata": {},
   "outputs": [
    {
     "data": {
      "text/html": [
       "<div>\n",
       "<style scoped>\n",
       "    .dataframe tbody tr th:only-of-type {\n",
       "        vertical-align: middle;\n",
       "    }\n",
       "\n",
       "    .dataframe tbody tr th {\n",
       "        vertical-align: top;\n",
       "    }\n",
       "\n",
       "    .dataframe thead th {\n",
       "        text-align: right;\n",
       "    }\n",
       "</style>\n",
       "<table border=\"1\" class=\"dataframe\">\n",
       "  <thead>\n",
       "    <tr style=\"text-align: right;\">\n",
       "      <th></th>\n",
       "      <th>count</th>\n",
       "      <th>mean</th>\n",
       "      <th>std</th>\n",
       "      <th>min</th>\n",
       "      <th>25%</th>\n",
       "      <th>50%</th>\n",
       "      <th>75%</th>\n",
       "      <th>max</th>\n",
       "    </tr>\n",
       "    <tr>\n",
       "      <th>cluster</th>\n",
       "      <th></th>\n",
       "      <th></th>\n",
       "      <th></th>\n",
       "      <th></th>\n",
       "      <th></th>\n",
       "      <th></th>\n",
       "      <th></th>\n",
       "      <th></th>\n",
       "    </tr>\n",
       "  </thead>\n",
       "  <tbody>\n",
       "    <tr>\n",
       "      <td>0</td>\n",
       "      <td>1107.0</td>\n",
       "      <td>1.0</td>\n",
       "      <td>0.0</td>\n",
       "      <td>1.0</td>\n",
       "      <td>1.0</td>\n",
       "      <td>1.0</td>\n",
       "      <td>1.0</td>\n",
       "      <td>1.0</td>\n",
       "    </tr>\n",
       "    <tr>\n",
       "      <td>1</td>\n",
       "      <td>1173.0</td>\n",
       "      <td>1.0</td>\n",
       "      <td>0.0</td>\n",
       "      <td>1.0</td>\n",
       "      <td>1.0</td>\n",
       "      <td>1.0</td>\n",
       "      <td>1.0</td>\n",
       "      <td>1.0</td>\n",
       "    </tr>\n",
       "    <tr>\n",
       "      <td>2</td>\n",
       "      <td>2848.0</td>\n",
       "      <td>1.0</td>\n",
       "      <td>0.0</td>\n",
       "      <td>1.0</td>\n",
       "      <td>1.0</td>\n",
       "      <td>1.0</td>\n",
       "      <td>1.0</td>\n",
       "      <td>1.0</td>\n",
       "    </tr>\n",
       "    <tr>\n",
       "      <td>3</td>\n",
       "      <td>189.0</td>\n",
       "      <td>0.0</td>\n",
       "      <td>0.0</td>\n",
       "      <td>0.0</td>\n",
       "      <td>0.0</td>\n",
       "      <td>0.0</td>\n",
       "      <td>0.0</td>\n",
       "      <td>0.0</td>\n",
       "    </tr>\n",
       "    <tr>\n",
       "      <td>4</td>\n",
       "      <td>579.0</td>\n",
       "      <td>1.0</td>\n",
       "      <td>0.0</td>\n",
       "      <td>1.0</td>\n",
       "      <td>1.0</td>\n",
       "      <td>1.0</td>\n",
       "      <td>1.0</td>\n",
       "      <td>1.0</td>\n",
       "    </tr>\n",
       "  </tbody>\n",
       "</table>\n",
       "</div>"
      ],
      "text/plain": [
       "          count  mean  std  min  25%  50%  75%  max\n",
       "cluster                                            \n",
       "0        1107.0   1.0  0.0  1.0  1.0  1.0  1.0  1.0\n",
       "1        1173.0   1.0  0.0  1.0  1.0  1.0  1.0  1.0\n",
       "2        2848.0   1.0  0.0  1.0  1.0  1.0  1.0  1.0\n",
       "3         189.0   0.0  0.0  0.0  0.0  0.0  0.0  0.0\n",
       "4         579.0   1.0  0.0  1.0  1.0  1.0  1.0  1.0"
      ]
     },
     "execution_count": 263,
     "metadata": {},
     "output_type": "execute_result"
    }
   ],
   "source": [
    "mobike_4.groupby(['cluster'])['usertype_Subscriber'].describe()#查看单个变量的分群效果"
   ]
  },
  {
   "cell_type": "code",
   "execution_count": 264,
   "metadata": {},
   "outputs": [
    {
     "data": {
      "text/html": [
       "<div>\n",
       "<style scoped>\n",
       "    .dataframe tbody tr th:only-of-type {\n",
       "        vertical-align: middle;\n",
       "    }\n",
       "\n",
       "    .dataframe tbody tr th {\n",
       "        vertical-align: top;\n",
       "    }\n",
       "\n",
       "    .dataframe thead th {\n",
       "        text-align: right;\n",
       "    }\n",
       "</style>\n",
       "<table border=\"1\" class=\"dataframe\">\n",
       "  <thead>\n",
       "    <tr style=\"text-align: right;\">\n",
       "      <th></th>\n",
       "      <th>count</th>\n",
       "      <th>mean</th>\n",
       "      <th>std</th>\n",
       "      <th>min</th>\n",
       "      <th>25%</th>\n",
       "      <th>50%</th>\n",
       "      <th>75%</th>\n",
       "      <th>max</th>\n",
       "    </tr>\n",
       "    <tr>\n",
       "      <th>cluster</th>\n",
       "      <th></th>\n",
       "      <th></th>\n",
       "      <th></th>\n",
       "      <th></th>\n",
       "      <th></th>\n",
       "      <th></th>\n",
       "      <th></th>\n",
       "      <th></th>\n",
       "    </tr>\n",
       "  </thead>\n",
       "  <tbody>\n",
       "    <tr>\n",
       "      <td>0</td>\n",
       "      <td>1107.0</td>\n",
       "      <td>0.984643</td>\n",
       "      <td>0.123023</td>\n",
       "      <td>0.0</td>\n",
       "      <td>1.0</td>\n",
       "      <td>1.0</td>\n",
       "      <td>1.0</td>\n",
       "      <td>1.0</td>\n",
       "    </tr>\n",
       "    <tr>\n",
       "      <td>1</td>\n",
       "      <td>1173.0</td>\n",
       "      <td>0.000000</td>\n",
       "      <td>0.000000</td>\n",
       "      <td>0.0</td>\n",
       "      <td>0.0</td>\n",
       "      <td>0.0</td>\n",
       "      <td>0.0</td>\n",
       "      <td>0.0</td>\n",
       "    </tr>\n",
       "    <tr>\n",
       "      <td>2</td>\n",
       "      <td>2848.0</td>\n",
       "      <td>1.000000</td>\n",
       "      <td>0.000000</td>\n",
       "      <td>1.0</td>\n",
       "      <td>1.0</td>\n",
       "      <td>1.0</td>\n",
       "      <td>1.0</td>\n",
       "      <td>1.0</td>\n",
       "    </tr>\n",
       "    <tr>\n",
       "      <td>3</td>\n",
       "      <td>189.0</td>\n",
       "      <td>0.751323</td>\n",
       "      <td>0.433394</td>\n",
       "      <td>0.0</td>\n",
       "      <td>1.0</td>\n",
       "      <td>1.0</td>\n",
       "      <td>1.0</td>\n",
       "      <td>1.0</td>\n",
       "    </tr>\n",
       "    <tr>\n",
       "      <td>4</td>\n",
       "      <td>579.0</td>\n",
       "      <td>0.913644</td>\n",
       "      <td>0.281132</td>\n",
       "      <td>0.0</td>\n",
       "      <td>1.0</td>\n",
       "      <td>1.0</td>\n",
       "      <td>1.0</td>\n",
       "      <td>1.0</td>\n",
       "    </tr>\n",
       "  </tbody>\n",
       "</table>\n",
       "</div>"
      ],
      "text/plain": [
       "          count      mean       std  min  25%  50%  75%  max\n",
       "cluster                                                     \n",
       "0        1107.0  0.984643  0.123023  0.0  1.0  1.0  1.0  1.0\n",
       "1        1173.0  0.000000  0.000000  0.0  0.0  0.0  0.0  0.0\n",
       "2        2848.0  1.000000  0.000000  1.0  1.0  1.0  1.0  1.0\n",
       "3         189.0  0.751323  0.433394  0.0  1.0  1.0  1.0  1.0\n",
       "4         579.0  0.913644  0.281132  0.0  1.0  1.0  1.0  1.0"
      ]
     },
     "execution_count": 264,
     "metadata": {},
     "output_type": "execute_result"
    }
   ],
   "source": [
    "mobike_4.groupby(['cluster'])['gender_Male'].describe()#查看单个变量的分群效果"
   ]
  },
  {
   "cell_type": "markdown",
   "metadata": {},
   "source": [
    "# 模型业务解读"
   ]
  },
  {
   "cell_type": "code",
   "execution_count": 266,
   "metadata": {},
   "outputs": [],
   "source": [
    "#导出结果到csv文件\n",
    "centers=pd.DataFrame(model.cluster_centers_)\n",
    "centers.to_csv('mobike_4.csv')"
   ]
  },
  {
   "cell_type": "markdown",
   "metadata": {},
   "source": [
    "\ttimeduration\t    age\t     usertype_Subscriber\t    gender_Male\n",
    "0\t-0.196007123\t 1.534556311\t 0.181981385\t        0.49125182\n",
    "1\t-0.069008128\t-0.181643614\t 0.181981385\t       -1.892404973\n",
    "2\t-0.374420707\t-0.484162386\t 0.181981385\t        0.528428119\n",
    "3\t 1.027399686\t-0.28124587\t    -5.495067533\t       -0.073577994\n",
    "4\t 2.020894737\t-0.092635461\t 0.181981385\t        0.319375175"
   ]
  },
  {
   "cell_type": "markdown",
   "metadata": {},
   "source": [
    "业务解读：\n",
    "0群用户年龄偏大\n",
    "1群男性用户比较多\n",
    "3群用户普遍为非订阅用户，且骑行时间较长。\n",
    "4群用户为骑行时间较长的群体。"
   ]
  },
  {
   "cell_type": "markdown",
   "metadata": {},
   "source": [
    "# 作业提问："
   ]
  },
  {
   "cell_type": "markdown",
   "metadata": {},
   "source": [
    "在最开始数据观察阶段，我发现timeduration有时不一定等于end_time和start_time的差，存在1min的误差。\n",
    "我认为这不影响数据分析，但是因为要求使用转化end_time和start_time为日期型变量，所以没有在作业中删除这两个变量。\n",
    "在本次作业中我直接取用了timeduration。\n",
    "\n",
    "问题是：如果我想使用end_time和start_time的差来对timeduration重新付值，\n",
    "并且新生成的timeduration是整数型int64，该用什么代码来实现？\n",
    "我尝试以下代码，但行不通。\n",
    "\n",
    "mobike['timeduration']=(mobike['end_time']-mobike['start_time']).minutes"
   ]
  }
 ],
 "metadata": {
  "kernelspec": {
   "display_name": "Python 3",
   "language": "python",
   "name": "python3"
  },
  "language_info": {
   "codemirror_mode": {
    "name": "ipython",
    "version": 3
   },
   "file_extension": ".py",
   "mimetype": "text/x-python",
   "name": "python",
   "nbconvert_exporter": "python",
   "pygments_lexer": "ipython3",
   "version": "3.6.8"
  },
  "toc": {
   "base_numbering": 1,
   "nav_menu": {},
   "number_sections": true,
   "sideBar": true,
   "skip_h1_title": false,
   "title_cell": "Table of Contents",
   "title_sidebar": "Contents",
   "toc_cell": false,
   "toc_position": {},
   "toc_section_display": true,
   "toc_window_display": false
  }
 },
 "nbformat": 4,
 "nbformat_minor": 2
}
