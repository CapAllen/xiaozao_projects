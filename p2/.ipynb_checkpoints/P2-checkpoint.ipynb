{
 "cells": [
  {
   "cell_type": "markdown",
   "metadata": {},
   "source": [
    "# 小红书销售额预测\n",
    "\n",
    "## 课题背景\n",
    "\n",
    "小红书是一个生活方式平台和消费决策入口，是当前著名的电商平台。和其他电商平台不同，小红书是从社区起家。在小红书社区，用户通过文字、图片、视频笔记的分享，记录了这个时代年轻人的正能量和美好生活，小红书通过机器学习对海量信息和人进行精准、高效匹配。\n",
    "\n",
    "2014年10月小红书福利社上线，旨在解决海外购物的另一个难题：买不到。小红书已累积的海外购物数据，分析出最受欢迎的商品及全球购物趋势，并在此基础上把全世界的好东西，以最短的路径、最简洁的方式提供给用户。\n",
    "\n",
    "## 问题\n",
    "基于所给数据，利用Python数据进线性回归，对小红书的销售额进行预测。"
   ]
  },
  {
   "cell_type": "markdown",
   "metadata": {},
   "source": [
    "# 代码实现"
   ]
  },
  {
   "cell_type": "code",
   "execution_count": 1,
   "metadata": {},
   "outputs": [],
   "source": [
    "import pandas as pd\n",
    "import numpy as np\n",
    "import matplotlib.pyplot as plt\n",
    "import seaborn as sns\n",
    "\n",
    "%matplotlib inline"
   ]
  },
  {
   "cell_type": "code",
   "execution_count": 2,
   "metadata": {},
   "outputs": [],
   "source": [
    "from sklearn.preprocessing import StandardScaler, LabelEncoder\n",
    "from sklearn.model_selection import train_test_split"
   ]
  },
  {
   "cell_type": "code",
   "execution_count": 3,
   "metadata": {},
   "outputs": [],
   "source": [
    "df = pd.read_csv('./data/小红书数据.csv')"
   ]
  },
  {
   "cell_type": "markdown",
   "metadata": {},
   "source": [
    "## 数据概览"
   ]
  },
  {
   "cell_type": "code",
   "execution_count": 4,
   "metadata": {},
   "outputs": [
    {
     "data": {
      "text/html": [
       "<div>\n",
       "<style scoped>\n",
       "    .dataframe tbody tr th:only-of-type {\n",
       "        vertical-align: middle;\n",
       "    }\n",
       "\n",
       "    .dataframe tbody tr th {\n",
       "        vertical-align: top;\n",
       "    }\n",
       "\n",
       "    .dataframe thead th {\n",
       "        text-align: right;\n",
       "    }\n",
       "</style>\n",
       "<table border=\"1\" class=\"dataframe\">\n",
       "  <thead>\n",
       "    <tr style=\"text-align: right;\">\n",
       "      <th></th>\n",
       "      <th>revenue</th>\n",
       "      <th>gender</th>\n",
       "      <th>age</th>\n",
       "      <th>engaged_last_30</th>\n",
       "      <th>lifecycle</th>\n",
       "      <th>days_since_last_order</th>\n",
       "      <th>previous_order_amount</th>\n",
       "      <th>3rd_party_stores</th>\n",
       "    </tr>\n",
       "  </thead>\n",
       "  <tbody>\n",
       "    <tr>\n",
       "      <th>0</th>\n",
       "      <td>72.98</td>\n",
       "      <td>1.0</td>\n",
       "      <td>59.0</td>\n",
       "      <td>0.0</td>\n",
       "      <td>B</td>\n",
       "      <td>4.26</td>\n",
       "      <td>2343.870</td>\n",
       "      <td>0</td>\n",
       "    </tr>\n",
       "    <tr>\n",
       "      <th>1</th>\n",
       "      <td>200.99</td>\n",
       "      <td>1.0</td>\n",
       "      <td>51.0</td>\n",
       "      <td>0.0</td>\n",
       "      <td>A</td>\n",
       "      <td>0.94</td>\n",
       "      <td>8539.872</td>\n",
       "      <td>0</td>\n",
       "    </tr>\n",
       "    <tr>\n",
       "      <th>2</th>\n",
       "      <td>69.98</td>\n",
       "      <td>1.0</td>\n",
       "      <td>79.0</td>\n",
       "      <td>0.0</td>\n",
       "      <td>C</td>\n",
       "      <td>4.29</td>\n",
       "      <td>1687.646</td>\n",
       "      <td>1</td>\n",
       "    </tr>\n",
       "    <tr>\n",
       "      <th>3</th>\n",
       "      <td>649.99</td>\n",
       "      <td>NaN</td>\n",
       "      <td>NaN</td>\n",
       "      <td>NaN</td>\n",
       "      <td>C</td>\n",
       "      <td>14.90</td>\n",
       "      <td>3498.846</td>\n",
       "      <td>0</td>\n",
       "    </tr>\n",
       "    <tr>\n",
       "      <th>4</th>\n",
       "      <td>83.59</td>\n",
       "      <td>NaN</td>\n",
       "      <td>NaN</td>\n",
       "      <td>NaN</td>\n",
       "      <td>C</td>\n",
       "      <td>21.13</td>\n",
       "      <td>3968.490</td>\n",
       "      <td>4</td>\n",
       "    </tr>\n",
       "  </tbody>\n",
       "</table>\n",
       "</div>"
      ],
      "text/plain": [
       "   revenue  gender   age  engaged_last_30 lifecycle   days_since_last_order   \\\n",
       "0    72.98     1.0  59.0              0.0         B                     4.26   \n",
       "1   200.99     1.0  51.0              0.0         A                     0.94   \n",
       "2    69.98     1.0  79.0              0.0         C                     4.29   \n",
       "3   649.99     NaN   NaN              NaN         C                    14.90   \n",
       "4    83.59     NaN   NaN              NaN         C                    21.13   \n",
       "\n",
       "   previous_order_amount  3rd_party_stores  \n",
       "0               2343.870                 0  \n",
       "1               8539.872                 0  \n",
       "2               1687.646                 1  \n",
       "3               3498.846                 0  \n",
       "4               3968.490                 4  "
      ]
     },
     "execution_count": 4,
     "metadata": {},
     "output_type": "execute_result"
    }
   ],
   "source": [
    "df.head()"
   ]
  },
  {
   "cell_type": "markdown",
   "metadata": {},
   "source": [
    "- revenue为购买金额，目标列\n",
    "- engaged_last_30 最近30天 是否有参加重点活动\n",
    "- liefecycle 生命周期， ABC分别对应注册0.5，1,2年\n",
    "- days_since_last_order 距离上次下单时间，单位 天\n",
    "- previous_order_amount 累计消费金额\n",
    "- 3rd_party_stores 从第三方商家购买的商品数量"
   ]
  },
  {
   "cell_type": "code",
   "execution_count": 5,
   "metadata": {},
   "outputs": [
    {
     "data": {
      "text/plain": [
       "(29452, 8)"
      ]
     },
     "execution_count": 5,
     "metadata": {},
     "output_type": "execute_result"
    }
   ],
   "source": [
    "df.shape"
   ]
  },
  {
   "cell_type": "code",
   "execution_count": 6,
   "metadata": {},
   "outputs": [
    {
     "name": "stdout",
     "output_type": "stream",
     "text": [
      "<class 'pandas.core.frame.DataFrame'>\n",
      "RangeIndex: 29452 entries, 0 to 29451\n",
      "Data columns (total 8 columns):\n",
      "revenue                    29452 non-null float64\n",
      "gender                     17723 non-null float64\n",
      "age                        16716 non-null float64\n",
      "engaged_last_30            17723 non-null float64\n",
      "lifecycle                  29452 non-null object\n",
      " days_since_last_order     29452 non-null float64\n",
      "previous_order_amount      29452 non-null float64\n",
      "3rd_party_stores           29452 non-null int64\n",
      "dtypes: float64(6), int64(1), object(1)\n",
      "memory usage: 1.8+ MB\n"
     ]
    }
   ],
   "source": [
    "df.info()"
   ]
  },
  {
   "cell_type": "code",
   "execution_count": 7,
   "metadata": {},
   "outputs": [
    {
     "data": {
      "text/plain": [
       "age                        0.432432\n",
       "engaged_last_30            0.398241\n",
       "gender                     0.398241\n",
       "3rd_party_stores           0.000000\n",
       "previous_order_amount      0.000000\n",
       " days_since_last_order     0.000000\n",
       "lifecycle                  0.000000\n",
       "revenue                    0.000000\n",
       "dtype: float64"
      ]
     },
     "execution_count": 7,
     "metadata": {},
     "output_type": "execute_result"
    }
   ],
   "source": [
    "#行缺失\n",
    "(df.isna().sum()/df.shape[0]).sort_values(ascending=False)"
   ]
  },
  {
   "cell_type": "code",
   "execution_count": 8,
   "metadata": {},
   "outputs": [
    {
     "data": {
      "text/plain": [
       "0    16716\n",
       "3    11729\n",
       "1     1007\n",
       "dtype: int64"
      ]
     },
     "execution_count": 8,
     "metadata": {},
     "output_type": "execute_result"
    }
   ],
   "source": [
    "#列缺失\n",
    "df.isna().sum(axis=1).value_counts()"
   ]
  },
  {
   "cell_type": "code",
   "execution_count": 9,
   "metadata": {},
   "outputs": [
    {
     "data": {
      "text/html": [
       "<div>\n",
       "<style scoped>\n",
       "    .dataframe tbody tr th:only-of-type {\n",
       "        vertical-align: middle;\n",
       "    }\n",
       "\n",
       "    .dataframe tbody tr th {\n",
       "        vertical-align: top;\n",
       "    }\n",
       "\n",
       "    .dataframe thead th {\n",
       "        text-align: right;\n",
       "    }\n",
       "</style>\n",
       "<table border=\"1\" class=\"dataframe\">\n",
       "  <thead>\n",
       "    <tr style=\"text-align: right;\">\n",
       "      <th></th>\n",
       "      <th>revenue</th>\n",
       "      <th>gender</th>\n",
       "      <th>age</th>\n",
       "      <th>engaged_last_30</th>\n",
       "      <th>lifecycle</th>\n",
       "      <th>days_since_last_order</th>\n",
       "      <th>previous_order_amount</th>\n",
       "      <th>3rd_party_stores</th>\n",
       "    </tr>\n",
       "  </thead>\n",
       "  <tbody>\n",
       "    <tr>\n",
       "      <th>count</th>\n",
       "      <td>29452.000000</td>\n",
       "      <td>17723.000000</td>\n",
       "      <td>16716.000000</td>\n",
       "      <td>17723.000000</td>\n",
       "      <td>29452</td>\n",
       "      <td>29452.000000</td>\n",
       "      <td>29452.000000</td>\n",
       "      <td>29452.000000</td>\n",
       "    </tr>\n",
       "    <tr>\n",
       "      <th>unique</th>\n",
       "      <td>NaN</td>\n",
       "      <td>NaN</td>\n",
       "      <td>NaN</td>\n",
       "      <td>NaN</td>\n",
       "      <td>3</td>\n",
       "      <td>NaN</td>\n",
       "      <td>NaN</td>\n",
       "      <td>NaN</td>\n",
       "    </tr>\n",
       "    <tr>\n",
       "      <th>top</th>\n",
       "      <td>NaN</td>\n",
       "      <td>NaN</td>\n",
       "      <td>NaN</td>\n",
       "      <td>NaN</td>\n",
       "      <td>C</td>\n",
       "      <td>NaN</td>\n",
       "      <td>NaN</td>\n",
       "      <td>NaN</td>\n",
       "    </tr>\n",
       "    <tr>\n",
       "      <th>freq</th>\n",
       "      <td>NaN</td>\n",
       "      <td>NaN</td>\n",
       "      <td>NaN</td>\n",
       "      <td>NaN</td>\n",
       "      <td>20201</td>\n",
       "      <td>NaN</td>\n",
       "      <td>NaN</td>\n",
       "      <td>NaN</td>\n",
       "    </tr>\n",
       "    <tr>\n",
       "      <th>mean</th>\n",
       "      <td>398.288037</td>\n",
       "      <td>0.950742</td>\n",
       "      <td>60.397404</td>\n",
       "      <td>0.073069</td>\n",
       "      <td>NaN</td>\n",
       "      <td>7.711348</td>\n",
       "      <td>2348.904830</td>\n",
       "      <td>2.286059</td>\n",
       "    </tr>\n",
       "    <tr>\n",
       "      <th>std</th>\n",
       "      <td>960.251728</td>\n",
       "      <td>0.216412</td>\n",
       "      <td>14.823026</td>\n",
       "      <td>0.260257</td>\n",
       "      <td>NaN</td>\n",
       "      <td>6.489289</td>\n",
       "      <td>2379.774213</td>\n",
       "      <td>3.538219</td>\n",
       "    </tr>\n",
       "    <tr>\n",
       "      <th>min</th>\n",
       "      <td>0.020000</td>\n",
       "      <td>0.000000</td>\n",
       "      <td>18.000000</td>\n",
       "      <td>0.000000</td>\n",
       "      <td>NaN</td>\n",
       "      <td>0.130000</td>\n",
       "      <td>0.000000</td>\n",
       "      <td>0.000000</td>\n",
       "    </tr>\n",
       "    <tr>\n",
       "      <th>25%</th>\n",
       "      <td>74.970000</td>\n",
       "      <td>1.000000</td>\n",
       "      <td>50.000000</td>\n",
       "      <td>0.000000</td>\n",
       "      <td>NaN</td>\n",
       "      <td>2.190000</td>\n",
       "      <td>773.506250</td>\n",
       "      <td>0.000000</td>\n",
       "    </tr>\n",
       "    <tr>\n",
       "      <th>50%</th>\n",
       "      <td>175.980000</td>\n",
       "      <td>1.000000</td>\n",
       "      <td>60.000000</td>\n",
       "      <td>0.000000</td>\n",
       "      <td>NaN</td>\n",
       "      <td>5.970000</td>\n",
       "      <td>1655.980000</td>\n",
       "      <td>0.000000</td>\n",
       "    </tr>\n",
       "    <tr>\n",
       "      <th>75%</th>\n",
       "      <td>499.990000</td>\n",
       "      <td>1.000000</td>\n",
       "      <td>70.000000</td>\n",
       "      <td>0.000000</td>\n",
       "      <td>NaN</td>\n",
       "      <td>11.740000</td>\n",
       "      <td>3096.766500</td>\n",
       "      <td>3.000000</td>\n",
       "    </tr>\n",
       "    <tr>\n",
       "      <th>max</th>\n",
       "      <td>103466.100000</td>\n",
       "      <td>1.000000</td>\n",
       "      <td>99.000000</td>\n",
       "      <td>1.000000</td>\n",
       "      <td>NaN</td>\n",
       "      <td>23.710000</td>\n",
       "      <td>11597.900000</td>\n",
       "      <td>10.000000</td>\n",
       "    </tr>\n",
       "  </tbody>\n",
       "</table>\n",
       "</div>"
      ],
      "text/plain": [
       "              revenue        gender           age  engaged_last_30 lifecycle  \\\n",
       "count    29452.000000  17723.000000  16716.000000     17723.000000     29452   \n",
       "unique            NaN           NaN           NaN              NaN         3   \n",
       "top               NaN           NaN           NaN              NaN         C   \n",
       "freq              NaN           NaN           NaN              NaN     20201   \n",
       "mean       398.288037      0.950742     60.397404         0.073069       NaN   \n",
       "std        960.251728      0.216412     14.823026         0.260257       NaN   \n",
       "min          0.020000      0.000000     18.000000         0.000000       NaN   \n",
       "25%         74.970000      1.000000     50.000000         0.000000       NaN   \n",
       "50%        175.980000      1.000000     60.000000         0.000000       NaN   \n",
       "75%        499.990000      1.000000     70.000000         0.000000       NaN   \n",
       "max     103466.100000      1.000000     99.000000         1.000000       NaN   \n",
       "\n",
       "         days_since_last_order   previous_order_amount  3rd_party_stores  \n",
       "count              29452.000000           29452.000000      29452.000000  \n",
       "unique                      NaN                    NaN               NaN  \n",
       "top                         NaN                    NaN               NaN  \n",
       "freq                        NaN                    NaN               NaN  \n",
       "mean                   7.711348            2348.904830          2.286059  \n",
       "std                    6.489289            2379.774213          3.538219  \n",
       "min                    0.130000               0.000000          0.000000  \n",
       "25%                    2.190000             773.506250          0.000000  \n",
       "50%                    5.970000            1655.980000          0.000000  \n",
       "75%                   11.740000            3096.766500          3.000000  \n",
       "max                   23.710000           11597.900000         10.000000  "
      ]
     },
     "execution_count": 9,
     "metadata": {},
     "output_type": "execute_result"
    }
   ],
   "source": [
    "df.describe(include='all')"
   ]
  },
  {
   "cell_type": "markdown",
   "metadata": {},
   "source": [
    "## EDA"
   ]
  },
  {
   "cell_type": "markdown",
   "metadata": {},
   "source": [
    "### 目标列"
   ]
  },
  {
   "cell_type": "code",
   "execution_count": 10,
   "metadata": {},
   "outputs": [
    {
     "data": {
      "image/png": "[encoded data removed]",
      "text/plain": [
       "<Figure size 432x288 with 1 Axes>"
      ]
     },
     "metadata": {
      "needs_background": "light"
     },
     "output_type": "display_data"
    }
   ],
   "source": [
    "df.revenue.plot(kind='hist',bins=100);"
   ]
  },
  {
   "cell_type": "code",
   "execution_count": 11,
   "metadata": {},
   "outputs": [
    {
     "data": {
      "image/png": "[encoded data removed]",
      "text/plain": [
       "<Figure size 432x288 with 1 Axes>"
      ]
     },
     "metadata": {
      "needs_background": "light"
     },
     "output_type": "display_data"
    }
   ],
   "source": [
    "df.revenue.plot(kind='hist',logx=True,bins=100);"
   ]
  },
  {
   "cell_type": "markdown",
   "metadata": {},
   "source": [
    "消费额差异较大"
   ]
  },
  {
   "cell_type": "markdown",
   "metadata": {},
   "source": [
    "### 性别"
   ]
  },
  {
   "cell_type": "code",
   "execution_count": 12,
   "metadata": {},
   "outputs": [
    {
     "data": {
      "text/plain": [
       "array([ 1., nan,  0.])"
      ]
     },
     "execution_count": 12,
     "metadata": {},
     "output_type": "execute_result"
    }
   ],
   "source": [
    "df['gender'].unique()"
   ]
  },
  {
   "cell_type": "code",
   "execution_count": 13,
   "metadata": {},
   "outputs": [
    {
     "data": {
      "image/png": "[encoded data removed]",
      "text/plain": [
       "<Figure size 432x288 with 1 Axes>"
      ]
     },
     "metadata": {
      "needs_background": "light"
     },
     "output_type": "display_data"
    }
   ],
   "source": [
    "df['gender'].value_counts().plot(kind='bar');"
   ]
  },
  {
   "cell_type": "markdown",
   "metadata": {},
   "source": [
    "性别列为无次序分类变量，可以做One-Hot Encode处理"
   ]
  },
  {
   "cell_type": "markdown",
   "metadata": {},
   "source": [
    "### 年龄"
   ]
  },
  {
   "cell_type": "code",
   "execution_count": 14,
   "metadata": {
    "scrolled": true
   },
   "outputs": [
    {
     "data": {
      "image/png": "[encoded data removed]",
      "text/plain": [
       "<Figure size 432x288 with 1 Axes>"
      ]
     },
     "metadata": {
      "needs_background": "light"
     },
     "output_type": "display_data"
    }
   ],
   "source": [
    "df['age'].plot(kind='hist',bins=100);"
   ]
  },
  {
   "cell_type": "code",
   "execution_count": 56,
   "metadata": {},
   "outputs": [
    {
     "data": {
      "text/plain": [
       "array([59., 51., 79., nan, 80., 60., 61., 50., 57., 64., 87., 73., 40.,\n",
       "       43., 91., 66., 49., 75., 30., 74., 52., 67., 69., 39., 41., 62.,\n",
       "       71., 72., 54., 65., 76., 89., 53., 56., 88., 86., 78., 63., 44.,\n",
       "       48., 55., 94., 46., 70., 68., 42., 47., 84., 34., 58., 77., 36.,\n",
       "       82., 28., 81., 95., 97., 96., 83., 37., 45., 33., 38., 35., 31.,\n",
       "       32., 23., 90., 26., 99., 29., 85., 93., 25., 22., 98., 92., 21.,\n",
       "       27., 20., 24., 19., 18.])"
      ]
     },
     "execution_count": 56,
     "metadata": {},
     "output_type": "execute_result"
    }
   ],
   "source": [
    "df['age'].unique()"
   ]
  },
  {
   "cell_type": "markdown",
   "metadata": {},
   "source": [
    "### 用户行为特征"
   ]
  },
  {
   "cell_type": "code",
   "execution_count": 15,
   "metadata": {},
   "outputs": [
    {
     "data": {
      "text/plain": [
       "array([ 0., nan,  1.])"
      ]
     },
     "execution_count": 15,
     "metadata": {},
     "output_type": "execute_result"
    }
   ],
   "source": [
    "df['engaged_last_30'].unique()"
   ]
  },
  {
   "cell_type": "code",
   "execution_count": 16,
   "metadata": {},
   "outputs": [
    {
     "data": {
      "image/png": "[encoded data removed]",
      "text/plain": [
       "<Figure size 432x288 with 1 Axes>"
      ]
     },
     "metadata": {
      "needs_background": "light"
     },
     "output_type": "display_data"
    }
   ],
   "source": [
    "df['engaged_last_30'].value_counts().plot(kind='bar');"
   ]
  },
  {
   "cell_type": "code",
   "execution_count": 17,
   "metadata": {},
   "outputs": [
    {
     "data": {
      "image/png": "[encoded data removed]",
      "text/plain": [
       "<Figure size 432x288 with 1 Axes>"
      ]
     },
     "metadata": {
      "needs_background": "light"
     },
     "output_type": "display_data"
    }
   ],
   "source": [
    "df['lifecycle'].value_counts().plot(kind='bar');"
   ]
  },
  {
   "cell_type": "markdown",
   "metadata": {},
   "source": [
    "注意：这里的ABC是定序分类"
   ]
  },
  {
   "cell_type": "code",
   "execution_count": 18,
   "metadata": {
    "collapsed": true
   },
   "outputs": [
    {
     "ename": "KeyError",
     "evalue": "'days_since_last_order'",
     "output_type": "error",
     "traceback": [
      "\u001b[1;31m---------------------------------------------------------------------------\u001b[0m",
      "\u001b[1;31mKeyError\u001b[0m                                  Traceback (most recent call last)",
      "\u001b[1;32md:\\ProgramData\\Anaconda3\\lib\\site-packages\\pandas\\core\\indexes\\base.py\u001b[0m in \u001b[0;36mget_loc\u001b[1;34m(self, key, method, tolerance)\u001b[0m\n\u001b[0;32m   2656\u001b[0m             \u001b[1;32mtry\u001b[0m\u001b[1;33m:\u001b[0m\u001b[1;33m\u001b[0m\u001b[1;33m\u001b[0m\u001b[0m\n\u001b[1;32m-> 2657\u001b[1;33m                 \u001b[1;32mreturn\u001b[0m \u001b[0mself\u001b[0m\u001b[1;33m.\u001b[0m\u001b[0m_engine\u001b[0m\u001b[1;33m.\u001b[0m\u001b[0mget_loc\u001b[0m\u001b[1;33m(\u001b[0m\u001b[0mkey\u001b[0m\u001b[1;33m)\u001b[0m\u001b[1;33m\u001b[0m\u001b[1;33m\u001b[0m\u001b[0m\n\u001b[0m\u001b[0;32m   2658\u001b[0m             \u001b[1;32mexcept\u001b[0m \u001b[0mKeyError\u001b[0m\u001b[1;33m:\u001b[0m\u001b[1;33m\u001b[0m\u001b[1;33m\u001b[0m\u001b[0m\n",
      "\u001b[1;32mpandas/_libs/index.pyx\u001b[0m in \u001b[0;36mpandas._libs.index.IndexEngine.get_loc\u001b[1;34m()\u001b[0m\n",
      "\u001b[1;32mpandas/_libs/index.pyx\u001b[0m in \u001b[0;36mpandas._libs.index.IndexEngine.get_loc\u001b[1;34m()\u001b[0m\n",
      "\u001b[1;32mpandas/_libs/hashtable_class_helper.pxi\u001b[0m in \u001b[0;36mpandas._libs.hashtable.PyObjectHashTable.get_item\u001b[1;34m()\u001b[0m\n",
      "\u001b[1;32mpandas/_libs/hashtable_class_helper.pxi\u001b[0m in \u001b[0;36mpandas._libs.hashtable.PyObjectHashTable.get_item\u001b[1;34m()\u001b[0m\n",
      "\u001b[1;31mKeyError\u001b[0m: 'days_since_last_order'",
      "\nDuring handling of the above exception, another exception occurred:\n",
      "\u001b[1;31mKeyError\u001b[0m                                  Traceback (most recent call last)",
      "\u001b[1;32m<ipython-input-18-37457dc49bb2>\u001b[0m in \u001b[0;36m<module>\u001b[1;34m\u001b[0m\n\u001b[1;32m----> 1\u001b[1;33m \u001b[0mdf\u001b[0m\u001b[1;33m[\u001b[0m\u001b[1;34m'days_since_last_order'\u001b[0m\u001b[1;33m]\u001b[0m\u001b[1;33m.\u001b[0m\u001b[0mplot\u001b[0m\u001b[1;33m(\u001b[0m\u001b[0mkind\u001b[0m\u001b[1;33m=\u001b[0m\u001b[1;34m'hist'\u001b[0m\u001b[1;33m)\u001b[0m\u001b[1;33m;\u001b[0m\u001b[1;33m\u001b[0m\u001b[1;33m\u001b[0m\u001b[0m\n\u001b[0m",
      "\u001b[1;32md:\\ProgramData\\Anaconda3\\lib\\site-packages\\pandas\\core\\frame.py\u001b[0m in \u001b[0;36m__getitem__\u001b[1;34m(self, key)\u001b[0m\n\u001b[0;32m   2925\u001b[0m             \u001b[1;32mif\u001b[0m \u001b[0mself\u001b[0m\u001b[1;33m.\u001b[0m\u001b[0mcolumns\u001b[0m\u001b[1;33m.\u001b[0m\u001b[0mnlevels\u001b[0m \u001b[1;33m>\u001b[0m \u001b[1;36m1\u001b[0m\u001b[1;33m:\u001b[0m\u001b[1;33m\u001b[0m\u001b[1;33m\u001b[0m\u001b[0m\n\u001b[0;32m   2926\u001b[0m                 \u001b[1;32mreturn\u001b[0m \u001b[0mself\u001b[0m\u001b[1;33m.\u001b[0m\u001b[0m_getitem_multilevel\u001b[0m\u001b[1;33m(\u001b[0m\u001b[0mkey\u001b[0m\u001b[1;33m)\u001b[0m\u001b[1;33m\u001b[0m\u001b[1;33m\u001b[0m\u001b[0m\n\u001b[1;32m-> 2927\u001b[1;33m             \u001b[0mindexer\u001b[0m \u001b[1;33m=\u001b[0m \u001b[0mself\u001b[0m\u001b[1;33m.\u001b[0m\u001b[0mcolumns\u001b[0m\u001b[1;33m.\u001b[0m\u001b[0mget_loc\u001b[0m\u001b[1;33m(\u001b[0m\u001b[0mkey\u001b[0m\u001b[1;33m)\u001b[0m\u001b[1;33m\u001b[0m\u001b[1;33m\u001b[0m\u001b[0m\n\u001b[0m\u001b[0;32m   2928\u001b[0m             \u001b[1;32mif\u001b[0m \u001b[0mis_integer\u001b[0m\u001b[1;33m(\u001b[0m\u001b[0mindexer\u001b[0m\u001b[1;33m)\u001b[0m\u001b[1;33m:\u001b[0m\u001b[1;33m\u001b[0m\u001b[1;33m\u001b[0m\u001b[0m\n\u001b[0;32m   2929\u001b[0m                 \u001b[0mindexer\u001b[0m \u001b[1;33m=\u001b[0m \u001b[1;33m[\u001b[0m\u001b[0mindexer\u001b[0m\u001b[1;33m]\u001b[0m\u001b[1;33m\u001b[0m\u001b[1;33m\u001b[0m\u001b[0m\n",
      "\u001b[1;32md:\\ProgramData\\Anaconda3\\lib\\site-packages\\pandas\\core\\indexes\\base.py\u001b[0m in \u001b[0;36mget_loc\u001b[1;34m(self, key, method, tolerance)\u001b[0m\n\u001b[0;32m   2657\u001b[0m                 \u001b[1;32mreturn\u001b[0m \u001b[0mself\u001b[0m\u001b[1;33m.\u001b[0m\u001b[0m_engine\u001b[0m\u001b[1;33m.\u001b[0m\u001b[0mget_loc\u001b[0m\u001b[1;33m(\u001b[0m\u001b[0mkey\u001b[0m\u001b[1;33m)\u001b[0m\u001b[1;33m\u001b[0m\u001b[1;33m\u001b[0m\u001b[0m\n\u001b[0;32m   2658\u001b[0m             \u001b[1;32mexcept\u001b[0m \u001b[0mKeyError\u001b[0m\u001b[1;33m:\u001b[0m\u001b[1;33m\u001b[0m\u001b[1;33m\u001b[0m\u001b[0m\n\u001b[1;32m-> 2659\u001b[1;33m                 \u001b[1;32mreturn\u001b[0m \u001b[0mself\u001b[0m\u001b[1;33m.\u001b[0m\u001b[0m_engine\u001b[0m\u001b[1;33m.\u001b[0m\u001b[0mget_loc\u001b[0m\u001b[1;33m(\u001b[0m\u001b[0mself\u001b[0m\u001b[1;33m.\u001b[0m\u001b[0m_maybe_cast_indexer\u001b[0m\u001b[1;33m(\u001b[0m\u001b[0mkey\u001b[0m\u001b[1;33m)\u001b[0m\u001b[1;33m)\u001b[0m\u001b[1;33m\u001b[0m\u001b[1;33m\u001b[0m\u001b[0m\n\u001b[0m\u001b[0;32m   2660\u001b[0m         \u001b[0mindexer\u001b[0m \u001b[1;33m=\u001b[0m \u001b[0mself\u001b[0m\u001b[1;33m.\u001b[0m\u001b[0mget_indexer\u001b[0m\u001b[1;33m(\u001b[0m\u001b[1;33m[\u001b[0m\u001b[0mkey\u001b[0m\u001b[1;33m]\u001b[0m\u001b[1;33m,\u001b[0m \u001b[0mmethod\u001b[0m\u001b[1;33m=\u001b[0m\u001b[0mmethod\u001b[0m\u001b[1;33m,\u001b[0m \u001b[0mtolerance\u001b[0m\u001b[1;33m=\u001b[0m\u001b[0mtolerance\u001b[0m\u001b[1;33m)\u001b[0m\u001b[1;33m\u001b[0m\u001b[1;33m\u001b[0m\u001b[0m\n\u001b[0;32m   2661\u001b[0m         \u001b[1;32mif\u001b[0m \u001b[0mindexer\u001b[0m\u001b[1;33m.\u001b[0m\u001b[0mndim\u001b[0m \u001b[1;33m>\u001b[0m \u001b[1;36m1\u001b[0m \u001b[1;32mor\u001b[0m \u001b[0mindexer\u001b[0m\u001b[1;33m.\u001b[0m\u001b[0msize\u001b[0m \u001b[1;33m>\u001b[0m \u001b[1;36m1\u001b[0m\u001b[1;33m:\u001b[0m\u001b[1;33m\u001b[0m\u001b[1;33m\u001b[0m\u001b[0m\n",
      "\u001b[1;32mpandas/_libs/index.pyx\u001b[0m in \u001b[0;36mpandas._libs.index.IndexEngine.get_loc\u001b[1;34m()\u001b[0m\n",
      "\u001b[1;32mpandas/_libs/index.pyx\u001b[0m in \u001b[0;36mpandas._libs.index.IndexEngine.get_loc\u001b[1;34m()\u001b[0m\n",
      "\u001b[1;32mpandas/_libs/hashtable_class_helper.pxi\u001b[0m in \u001b[0;36mpandas._libs.hashtable.PyObjectHashTable.get_item\u001b[1;34m()\u001b[0m\n",
      "\u001b[1;32mpandas/_libs/hashtable_class_helper.pxi\u001b[0m in \u001b[0;36mpandas._libs.hashtable.PyObjectHashTable.get_item\u001b[1;34m()\u001b[0m\n",
      "\u001b[1;31mKeyError\u001b[0m: 'days_since_last_order'"
     ]
    }
   ],
   "source": [
    "df['days_since_last_order'].plot(kind='hist');"
   ]
  },
  {
   "cell_type": "code",
   "execution_count": 19,
   "metadata": {},
   "outputs": [
    {
     "data": {
      "text/plain": [
       "Index(['revenue', 'gender', 'age', 'engaged_last_30', 'lifecycle',\n",
       "       ' days_since_last_order ', 'previous_order_amount', '3rd_party_stores'],\n",
       "      dtype='object')"
      ]
     },
     "execution_count": 19,
     "metadata": {},
     "output_type": "execute_result"
    }
   ],
   "source": [
    "df.columns"
   ]
  },
  {
   "cell_type": "code",
   "execution_count": 20,
   "metadata": {},
   "outputs": [
    {
     "data": {
      "image/png": "[encoded data removed]",
      "text/plain": [
       "<Figure size 432x288 with 1 Axes>"
      ]
     },
     "metadata": {
      "needs_background": "light"
     },
     "output_type": "display_data"
    }
   ],
   "source": [
    "df[' days_since_last_order '].plot(kind='hist');"
   ]
  },
  {
   "cell_type": "code",
   "execution_count": 21,
   "metadata": {},
   "outputs": [
    {
     "data": {
      "image/png": "[encoded data removed]",
      "text/plain": [
       "<Figure size 432x288 with 1 Axes>"
      ]
     },
     "metadata": {
      "needs_background": "light"
     },
     "output_type": "display_data"
    }
   ],
   "source": [
    "df['previous_order_amount'].plot(kind='hist');"
   ]
  },
  {
   "cell_type": "code",
   "execution_count": 22,
   "metadata": {},
   "outputs": [
    {
     "data": {
      "image/png": "[encoded data removed]",
      "text/plain": [
       "<Figure size 432x288 with 1 Axes>"
      ]
     },
     "metadata": {
      "needs_background": "light"
     },
     "output_type": "display_data"
    }
   ],
   "source": [
    "df['3rd_party_stores'].plot(kind='hist');"
   ]
  },
  {
   "cell_type": "code",
   "execution_count": 23,
   "metadata": {},
   "outputs": [
    {
     "data": {
      "image/png": "[encoded data removed]",
      "text/plain": [
       "<Figure size 432x288 with 1 Axes>"
      ]
     },
     "metadata": {
      "needs_background": "light"
     },
     "output_type": "display_data"
    }
   ],
   "source": [
    "df['3rd_party_stores'].value_counts().plot(kind='bar');"
   ]
  },
  {
   "cell_type": "markdown",
   "metadata": {},
   "source": [
    "这个变量可以作为分类变量去处理。"
   ]
  },
  {
   "cell_type": "markdown",
   "metadata": {},
   "source": [
    "### 各特征与目标列关系"
   ]
  },
  {
   "cell_type": "markdown",
   "metadata": {},
   "source": [
    "#### 数值变量"
   ]
  },
  {
   "cell_type": "code",
   "execution_count": 24,
   "metadata": {},
   "outputs": [
    {
     "data": {
      "text/plain": [
       "Index(['revenue', 'gender', 'age', 'engaged_last_30', 'lifecycle',\n",
       "       ' days_since_last_order ', 'previous_order_amount', '3rd_party_stores'],\n",
       "      dtype='object')"
      ]
     },
     "execution_count": 24,
     "metadata": {},
     "output_type": "execute_result"
    }
   ],
   "source": [
    "df.columns"
   ]
  },
  {
   "cell_type": "code",
   "execution_count": 25,
   "metadata": {},
   "outputs": [],
   "source": [
    "numerical_features = ['age',' days_since_last_order ','previous_order_amount']"
   ]
  },
  {
   "cell_type": "code",
   "execution_count": 26,
   "metadata": {},
   "outputs": [
    {
     "data": {
      "text/html": [
       "<div>\n",
       "<style scoped>\n",
       "    .dataframe tbody tr th:only-of-type {\n",
       "        vertical-align: middle;\n",
       "    }\n",
       "\n",
       "    .dataframe tbody tr th {\n",
       "        vertical-align: top;\n",
       "    }\n",
       "\n",
       "    .dataframe thead th {\n",
       "        text-align: right;\n",
       "    }\n",
       "</style>\n",
       "<table border=\"1\" class=\"dataframe\">\n",
       "  <thead>\n",
       "    <tr style=\"text-align: right;\">\n",
       "      <th></th>\n",
       "      <th>age</th>\n",
       "      <th>days_since_last_order</th>\n",
       "      <th>previous_order_amount</th>\n",
       "      <th>revenue</th>\n",
       "    </tr>\n",
       "  </thead>\n",
       "  <tbody>\n",
       "    <tr>\n",
       "      <th>age</th>\n",
       "      <td>1.000000</td>\n",
       "      <td>0.013619</td>\n",
       "      <td>-0.048714</td>\n",
       "      <td>-0.073015</td>\n",
       "    </tr>\n",
       "    <tr>\n",
       "      <th>days_since_last_order</th>\n",
       "      <td>0.013619</td>\n",
       "      <td>1.000000</td>\n",
       "      <td>-0.085269</td>\n",
       "      <td>0.036654</td>\n",
       "    </tr>\n",
       "    <tr>\n",
       "      <th>previous_order_amount</th>\n",
       "      <td>-0.048714</td>\n",
       "      <td>-0.085269</td>\n",
       "      <td>1.000000</td>\n",
       "      <td>0.168540</td>\n",
       "    </tr>\n",
       "    <tr>\n",
       "      <th>revenue</th>\n",
       "      <td>-0.073015</td>\n",
       "      <td>0.036654</td>\n",
       "      <td>0.168540</td>\n",
       "      <td>1.000000</td>\n",
       "    </tr>\n",
       "  </tbody>\n",
       "</table>\n",
       "</div>"
      ],
      "text/plain": [
       "                              age   days_since_last_order   \\\n",
       "age                      1.000000                 0.013619   \n",
       " days_since_last_order   0.013619                 1.000000   \n",
       "previous_order_amount   -0.048714                -0.085269   \n",
       "revenue                 -0.073015                 0.036654   \n",
       "\n",
       "                         previous_order_amount   revenue  \n",
       "age                                  -0.048714 -0.073015  \n",
       " days_since_last_order               -0.085269  0.036654  \n",
       "previous_order_amount                 1.000000  0.168540  \n",
       "revenue                               0.168540  1.000000  "
      ]
     },
     "execution_count": 26,
     "metadata": {},
     "output_type": "execute_result"
    }
   ],
   "source": [
    "df[numerical_features+['revenue']].corr()"
   ]
  },
  {
   "cell_type": "code",
   "execution_count": 27,
   "metadata": {
    "scrolled": true
   },
   "outputs": [
    {
     "data": {
      "image/png": "[encoded data removed]",
      "text/plain": [
       "<Figure size 360x360 with 1 Axes>"
      ]
     },
     "metadata": {
      "needs_background": "light"
     },
     "output_type": "display_data"
    },
    {
     "data": {
      "image/png": "[encoded data removed]",
      "text/plain": [
       "<Figure size 360x360 with 1 Axes>"
      ]
     },
     "metadata": {
      "needs_background": "light"
     },
     "output_type": "display_data"
    },
    {
     "data": {
      "image/png": "[encoded data removed]",
      "text/plain": [
       "<Figure size 360x360 with 1 Axes>"
      ]
     },
     "metadata": {
      "needs_background": "light"
     },
     "output_type": "display_data"
    }
   ],
   "source": [
    "for col in numerical_features:\n",
    "    sns.relplot(x=col,y='revenue',data=df)"
   ]
  },
  {
   "cell_type": "markdown",
   "metadata": {},
   "source": [
    "数值跨度太大"
   ]
  },
  {
   "cell_type": "markdown",
   "metadata": {},
   "source": [
    "#### 分类变量"
   ]
  },
  {
   "cell_type": "code",
   "execution_count": 28,
   "metadata": {},
   "outputs": [],
   "source": [
    "#把3rd_party_stores当做分类处理\n",
    "categorical_features = ['gender', 'engaged_last_30', 'lifecycle','3rd_party_stores']"
   ]
  },
  {
   "cell_type": "code",
   "execution_count": 29,
   "metadata": {
    "scrolled": true
   },
   "outputs": [
    {
     "name": "stdout",
     "output_type": "stream",
     "text": [
      "gender\n",
      "              mean           sum         std  median\n",
      "gender                                              \n",
      "0.0     316.346802  2.761708e+05  566.606482  139.98\n",
      "1.0     387.972592  6.537338e+06  655.523780  175.98\n",
      "\n",
      "\n",
      "engaged_last_30\n",
      "                       mean           sum          std  median\n",
      "engaged_last_30                                               \n",
      "0.0              369.839618  6.075725e+06   579.590923  160.37\n",
      "1.0              569.717137  7.377837e+05  1230.162096  299.99\n",
      "\n",
      "\n",
      "lifecycle\n",
      "                 mean           sum          std   median\n",
      "lifecycle                                                \n",
      "B          381.348012  2.177116e+06   605.828160  179.980\n",
      "C          396.844800  8.016662e+06   778.374439  174.980\n",
      "A          433.823171  1.536602e+06  1902.496280  170.945\n",
      "\n",
      "\n",
      "3rd_party_stores\n",
      "                        mean           sum          std   median\n",
      "3rd_party_stores                                                \n",
      "9                 300.545517  1.743164e+04   344.337272  189.495\n",
      "5                 304.316819  2.991434e+05   416.166900  134.990\n",
      "4                 317.212332  3.219705e+05   481.030456  129.000\n",
      "2                 321.700659  6.054406e+05   484.234310  135.460\n",
      "1                 332.539223  9.863113e+05   494.969729  135.115\n",
      "7                 348.126093  7.484711e+04   418.271966  142.160\n",
      "3                 350.141072  5.059538e+05  1030.962130  133.960\n",
      "8                 368.273016  4.640240e+04   455.967461  161.985\n",
      "6                 369.560191  1.160419e+05  1011.494349  142.160\n",
      "10                375.925932  1.592798e+06  1200.334261  142.160\n",
      "0                 441.924513  7.164038e+06  1038.393618  219.980\n",
      "\n",
      "\n"
     ]
    },
    {
     "name": "stderr",
     "output_type": "stream",
     "text": [
      "d:\\ProgramData\\Anaconda3\\lib\\site-packages\\ipykernel_launcher.py:3: FutureWarning: using a dict on a Series for aggregation\n",
      "is deprecated and will be removed in a future version\n",
      "  This is separate from the ipykernel package so we can avoid doing imports until\n",
      "d:\\ProgramData\\Anaconda3\\lib\\site-packages\\ipykernel_launcher.py:3: FutureWarning: using a dict on a Series for aggregation\n",
      "is deprecated and will be removed in a future version\n",
      "  This is separate from the ipykernel package so we can avoid doing imports until\n",
      "d:\\ProgramData\\Anaconda3\\lib\\site-packages\\ipykernel_launcher.py:3: FutureWarning: using a dict on a Series for aggregation\n",
      "is deprecated and will be removed in a future version\n",
      "  This is separate from the ipykernel package so we can avoid doing imports until\n",
      "d:\\ProgramData\\Anaconda3\\lib\\site-packages\\ipykernel_launcher.py:3: FutureWarning: using a dict on a Series for aggregation\n",
      "is deprecated and will be removed in a future version\n",
      "  This is separate from the ipykernel package so we can avoid doing imports until\n"
     ]
    }
   ],
   "source": [
    "for col in categorical_features:\n",
    "    print(col)\n",
    "    print(df.groupby(col)['revenue'].agg({'mean':'mean','sum':'sum','std':'std','median':'median'}).sort_values(by='mean'))\n",
    "    print('\\n')"
   ]
  },
  {
   "cell_type": "markdown",
   "metadata": {},
   "source": [
    "## 清洗"
   ]
  },
  {
   "cell_type": "code",
   "execution_count": 30,
   "metadata": {},
   "outputs": [],
   "source": [
    "df_clean = df.copy()"
   ]
  },
  {
   "cell_type": "markdown",
   "metadata": {},
   "source": [
    "### 处理缺失值"
   ]
  },
  {
   "cell_type": "markdown",
   "metadata": {},
   "source": [
    "对于`engaged_last_30`列，我们可以用`0`来填充缺失值，另外两列则保留缺失值。\n",
    "> 这里有待商榷，可以根据后面模型的结果，来进行调试"
   ]
  },
  {
   "cell_type": "code",
   "execution_count": 31,
   "metadata": {},
   "outputs": [],
   "source": [
    "df_clean['engaged_last_30'] = df_clean['engaged_last_30'].fillna(0.0)"
   ]
  },
  {
   "cell_type": "code",
   "execution_count": 32,
   "metadata": {},
   "outputs": [],
   "source": [
    "df_clean['gender'] = df_clean['gender'].fillna('unknown')"
   ]
  },
  {
   "cell_type": "code",
   "execution_count": 33,
   "metadata": {},
   "outputs": [],
   "source": [
    "#用均值填充\n",
    "df_clean['age'] = df_clean['age'].fillna(df_clean['age'].mean())"
   ]
  },
  {
   "cell_type": "markdown",
   "metadata": {},
   "source": [
    "### 更正特征数据类型"
   ]
  },
  {
   "cell_type": "code",
   "execution_count": 34,
   "metadata": {},
   "outputs": [],
   "source": [
    "df_clean['gender'] = df_clean['gender'].astype(str)\n",
    "df_clean['engaged_last_30'] = df_clean['engaged_last_30'].astype(str)"
   ]
  },
  {
   "cell_type": "code",
   "execution_count": 35,
   "metadata": {},
   "outputs": [],
   "source": [
    "df_clean['3rd_party_stores'] = df_clean['3rd_party_stores'].astype(str)"
   ]
  },
  {
   "cell_type": "markdown",
   "metadata": {},
   "source": [
    "### 格式化列名"
   ]
  },
  {
   "cell_type": "code",
   "execution_count": 36,
   "metadata": {},
   "outputs": [
    {
     "data": {
      "text/plain": [
       "Index(['revenue', 'gender', 'age', 'engaged_last_30', 'lifecycle',\n",
       "       ' days_since_last_order ', 'previous_order_amount', '3rd_party_stores'],\n",
       "      dtype='object')"
      ]
     },
     "execution_count": 36,
     "metadata": {},
     "output_type": "execute_result"
    }
   ],
   "source": [
    "df_clean.columns"
   ]
  },
  {
   "cell_type": "code",
   "execution_count": 37,
   "metadata": {},
   "outputs": [],
   "source": [
    "df_clean = df_clean.rename(columns=lambda x: x.strip())"
   ]
  },
  {
   "cell_type": "code",
   "execution_count": 38,
   "metadata": {
    "scrolled": true
   },
   "outputs": [
    {
     "data": {
      "text/plain": [
       "Index(['revenue', 'gender', 'age', 'engaged_last_30', 'lifecycle',\n",
       "       'days_since_last_order', 'previous_order_amount', '3rd_party_stores'],\n",
       "      dtype='object')"
      ]
     },
     "execution_count": 38,
     "metadata": {},
     "output_type": "execute_result"
    }
   ],
   "source": [
    "df_clean.columns"
   ]
  },
  {
   "cell_type": "markdown",
   "metadata": {},
   "source": [
    "### 特征变换及编码"
   ]
  },
  {
   "cell_type": "markdown",
   "metadata": {},
   "source": [
    "#### 数值型变量"
   ]
  },
  {
   "cell_type": "code",
   "execution_count": 39,
   "metadata": {
    "scrolled": true
   },
   "outputs": [
    {
     "data": {
      "text/html": [
       "<div>\n",
       "<style scoped>\n",
       "    .dataframe tbody tr th:only-of-type {\n",
       "        vertical-align: middle;\n",
       "    }\n",
       "\n",
       "    .dataframe tbody tr th {\n",
       "        vertical-align: top;\n",
       "    }\n",
       "\n",
       "    .dataframe thead th {\n",
       "        text-align: right;\n",
       "    }\n",
       "</style>\n",
       "<table border=\"1\" class=\"dataframe\">\n",
       "  <thead>\n",
       "    <tr style=\"text-align: right;\">\n",
       "      <th></th>\n",
       "      <th>revenue</th>\n",
       "      <th>age</th>\n",
       "      <th>days_since_last_order</th>\n",
       "      <th>previous_order_amount</th>\n",
       "    </tr>\n",
       "  </thead>\n",
       "  <tbody>\n",
       "    <tr>\n",
       "      <th>count</th>\n",
       "      <td>29452.000000</td>\n",
       "      <td>29452.000000</td>\n",
       "      <td>29452.000000</td>\n",
       "      <td>29452.000000</td>\n",
       "    </tr>\n",
       "    <tr>\n",
       "      <th>mean</th>\n",
       "      <td>398.288037</td>\n",
       "      <td>60.397404</td>\n",
       "      <td>7.711348</td>\n",
       "      <td>2348.904830</td>\n",
       "    </tr>\n",
       "    <tr>\n",
       "      <th>std</th>\n",
       "      <td>960.251728</td>\n",
       "      <td>11.167091</td>\n",
       "      <td>6.489289</td>\n",
       "      <td>2379.774213</td>\n",
       "    </tr>\n",
       "    <tr>\n",
       "      <th>min</th>\n",
       "      <td>0.020000</td>\n",
       "      <td>18.000000</td>\n",
       "      <td>0.130000</td>\n",
       "      <td>0.000000</td>\n",
       "    </tr>\n",
       "    <tr>\n",
       "      <th>25%</th>\n",
       "      <td>74.970000</td>\n",
       "      <td>58.000000</td>\n",
       "      <td>2.190000</td>\n",
       "      <td>773.506250</td>\n",
       "    </tr>\n",
       "    <tr>\n",
       "      <th>50%</th>\n",
       "      <td>175.980000</td>\n",
       "      <td>60.397404</td>\n",
       "      <td>5.970000</td>\n",
       "      <td>1655.980000</td>\n",
       "    </tr>\n",
       "    <tr>\n",
       "      <th>75%</th>\n",
       "      <td>499.990000</td>\n",
       "      <td>62.000000</td>\n",
       "      <td>11.740000</td>\n",
       "      <td>3096.766500</td>\n",
       "    </tr>\n",
       "    <tr>\n",
       "      <th>max</th>\n",
       "      <td>103466.100000</td>\n",
       "      <td>99.000000</td>\n",
       "      <td>23.710000</td>\n",
       "      <td>11597.900000</td>\n",
       "    </tr>\n",
       "  </tbody>\n",
       "</table>\n",
       "</div>"
      ],
      "text/plain": [
       "             revenue           age  days_since_last_order  \\\n",
       "count   29452.000000  29452.000000           29452.000000   \n",
       "mean      398.288037     60.397404               7.711348   \n",
       "std       960.251728     11.167091               6.489289   \n",
       "min         0.020000     18.000000               0.130000   \n",
       "25%        74.970000     58.000000               2.190000   \n",
       "50%       175.980000     60.397404               5.970000   \n",
       "75%       499.990000     62.000000              11.740000   \n",
       "max    103466.100000     99.000000              23.710000   \n",
       "\n",
       "       previous_order_amount  \n",
       "count           29452.000000  \n",
       "mean             2348.904830  \n",
       "std              2379.774213  \n",
       "min                 0.000000  \n",
       "25%               773.506250  \n",
       "50%              1655.980000  \n",
       "75%              3096.766500  \n",
       "max             11597.900000  "
      ]
     },
     "execution_count": 39,
     "metadata": {},
     "output_type": "execute_result"
    }
   ],
   "source": [
    "numerical_features = ['age','days_since_last_order','previous_order_amount']\n",
    "df_clean.describe()"
   ]
  },
  {
   "cell_type": "code",
   "execution_count": 40,
   "metadata": {},
   "outputs": [],
   "source": [
    "scaler = StandardScaler()\n",
    "df_clean[numerical_features] = scaler.fit_transform(df_clean[numerical_features])"
   ]
  },
  {
   "cell_type": "code",
   "execution_count": 41,
   "metadata": {},
   "outputs": [
    {
     "data": {
      "text/html": [
       "<div>\n",
       "<style scoped>\n",
       "    .dataframe tbody tr th:only-of-type {\n",
       "        vertical-align: middle;\n",
       "    }\n",
       "\n",
       "    .dataframe tbody tr th {\n",
       "        vertical-align: top;\n",
       "    }\n",
       "\n",
       "    .dataframe thead th {\n",
       "        text-align: right;\n",
       "    }\n",
       "</style>\n",
       "<table border=\"1\" class=\"dataframe\">\n",
       "  <thead>\n",
       "    <tr style=\"text-align: right;\">\n",
       "      <th></th>\n",
       "      <th>revenue</th>\n",
       "      <th>age</th>\n",
       "      <th>days_since_last_order</th>\n",
       "      <th>previous_order_amount</th>\n",
       "    </tr>\n",
       "  </thead>\n",
       "  <tbody>\n",
       "    <tr>\n",
       "      <th>count</th>\n",
       "      <td>29452.000000</td>\n",
       "      <td>2.945200e+04</td>\n",
       "      <td>2.945200e+04</td>\n",
       "      <td>2.945200e+04</td>\n",
       "    </tr>\n",
       "    <tr>\n",
       "      <th>mean</th>\n",
       "      <td>398.288037</td>\n",
       "      <td>-1.723009e-16</td>\n",
       "      <td>-3.125004e-16</td>\n",
       "      <td>3.599343e-16</td>\n",
       "    </tr>\n",
       "    <tr>\n",
       "      <th>std</th>\n",
       "      <td>960.251728</td>\n",
       "      <td>1.000017e+00</td>\n",
       "      <td>1.000017e+00</td>\n",
       "      <td>1.000017e+00</td>\n",
       "    </tr>\n",
       "    <tr>\n",
       "      <th>min</th>\n",
       "      <td>0.020000</td>\n",
       "      <td>-3.796703e+00</td>\n",
       "      <td>-1.168306e+00</td>\n",
       "      <td>-9.870452e-01</td>\n",
       "    </tr>\n",
       "    <tr>\n",
       "      <th>25%</th>\n",
       "      <td>74.970000</td>\n",
       "      <td>-2.146884e-01</td>\n",
       "      <td>-8.508547e-01</td>\n",
       "      <td>-6.620062e-01</td>\n",
       "    </tr>\n",
       "    <tr>\n",
       "      <th>50%</th>\n",
       "      <td>175.980000</td>\n",
       "      <td>0.000000e+00</td>\n",
       "      <td>-2.683465e-01</td>\n",
       "      <td>-2.911775e-01</td>\n",
       "    </tr>\n",
       "    <tr>\n",
       "      <th>75%</th>\n",
       "      <td>499.990000</td>\n",
       "      <td>1.435131e-01</td>\n",
       "      <td>6.208261e-01</td>\n",
       "      <td>3.142627e-01</td>\n",
       "    </tr>\n",
       "    <tr>\n",
       "      <th>max</th>\n",
       "      <td>103466.100000</td>\n",
       "      <td>3.456876e+00</td>\n",
       "      <td>2.465436e+00</td>\n",
       "      <td>3.886567e+00</td>\n",
       "    </tr>\n",
       "  </tbody>\n",
       "</table>\n",
       "</div>"
      ],
      "text/plain": [
       "             revenue           age  days_since_last_order  \\\n",
       "count   29452.000000  2.945200e+04           2.945200e+04   \n",
       "mean      398.288037 -1.723009e-16          -3.125004e-16   \n",
       "std       960.251728  1.000017e+00           1.000017e+00   \n",
       "min         0.020000 -3.796703e+00          -1.168306e+00   \n",
       "25%        74.970000 -2.146884e-01          -8.508547e-01   \n",
       "50%       175.980000  0.000000e+00          -2.683465e-01   \n",
       "75%       499.990000  1.435131e-01           6.208261e-01   \n",
       "max    103466.100000  3.456876e+00           2.465436e+00   \n",
       "\n",
       "       previous_order_amount  \n",
       "count           2.945200e+04  \n",
       "mean            3.599343e-16  \n",
       "std             1.000017e+00  \n",
       "min            -9.870452e-01  \n",
       "25%            -6.620062e-01  \n",
       "50%            -2.911775e-01  \n",
       "75%             3.142627e-01  \n",
       "max             3.886567e+00  "
      ]
     },
     "execution_count": 41,
     "metadata": {},
     "output_type": "execute_result"
    }
   ],
   "source": [
    "df_clean.describe()"
   ]
  },
  {
   "cell_type": "markdown",
   "metadata": {},
   "source": [
    "#### 分类变量"
   ]
  },
  {
   "cell_type": "code",
   "execution_count": 42,
   "metadata": {},
   "outputs": [],
   "source": [
    "dummy_features = pd.get_dummies(df_clean[categorical_features],drop_first=True)"
   ]
  },
  {
   "cell_type": "code",
   "execution_count": 43,
   "metadata": {},
   "outputs": [],
   "source": [
    "df_clean = df_clean.join(dummy_features).drop(categorical_features,axis=1)"
   ]
  },
  {
   "cell_type": "code",
   "execution_count": 86,
   "metadata": {
    "scrolled": true
   },
   "outputs": [
    {
     "data": {
      "text/html": [
       "<div>\n",
       "<style scoped>\n",
       "    .dataframe tbody tr th:only-of-type {\n",
       "        vertical-align: middle;\n",
       "    }\n",
       "\n",
       "    .dataframe tbody tr th {\n",
       "        vertical-align: top;\n",
       "    }\n",
       "\n",
       "    .dataframe thead th {\n",
       "        text-align: right;\n",
       "    }\n",
       "</style>\n",
       "<table border=\"1\" class=\"dataframe\">\n",
       "  <thead>\n",
       "    <tr style=\"text-align: right;\">\n",
       "      <th></th>\n",
       "      <th>revenue</th>\n",
       "      <th>age</th>\n",
       "      <th>days_since_last_order</th>\n",
       "      <th>previous_order_amount</th>\n",
       "      <th>gender_1.0</th>\n",
       "      <th>gender_unknown</th>\n",
       "      <th>engaged_last_30_1.0</th>\n",
       "      <th>lifecycle_B</th>\n",
       "      <th>lifecycle_C</th>\n",
       "      <th>3rd_party_stores_1</th>\n",
       "      <th>3rd_party_stores_10</th>\n",
       "      <th>3rd_party_stores_2</th>\n",
       "      <th>3rd_party_stores_3</th>\n",
       "      <th>3rd_party_stores_4</th>\n",
       "      <th>3rd_party_stores_5</th>\n",
       "      <th>3rd_party_stores_6</th>\n",
       "      <th>3rd_party_stores_7</th>\n",
       "      <th>3rd_party_stores_8</th>\n",
       "      <th>3rd_party_stores_9</th>\n",
       "    </tr>\n",
       "  </thead>\n",
       "  <tbody>\n",
       "    <tr>\n",
       "      <th>0</th>\n",
       "      <td>72.98</td>\n",
       "      <td>-0.125138</td>\n",
       "      <td>-0.531862</td>\n",
       "      <td>-0.002116</td>\n",
       "      <td>1</td>\n",
       "      <td>0</td>\n",
       "      <td>0</td>\n",
       "      <td>1</td>\n",
       "      <td>0</td>\n",
       "      <td>0</td>\n",
       "      <td>0</td>\n",
       "      <td>0</td>\n",
       "      <td>0</td>\n",
       "      <td>0</td>\n",
       "      <td>0</td>\n",
       "      <td>0</td>\n",
       "      <td>0</td>\n",
       "      <td>0</td>\n",
       "      <td>0</td>\n",
       "    </tr>\n",
       "    <tr>\n",
       "      <th>1</th>\n",
       "      <td>200.99</td>\n",
       "      <td>-0.841541</td>\n",
       "      <td>-1.043483</td>\n",
       "      <td>2.601538</td>\n",
       "      <td>1</td>\n",
       "      <td>0</td>\n",
       "      <td>0</td>\n",
       "      <td>0</td>\n",
       "      <td>0</td>\n",
       "      <td>0</td>\n",
       "      <td>0</td>\n",
       "      <td>0</td>\n",
       "      <td>0</td>\n",
       "      <td>0</td>\n",
       "      <td>0</td>\n",
       "      <td>0</td>\n",
       "      <td>0</td>\n",
       "      <td>0</td>\n",
       "      <td>0</td>\n",
       "    </tr>\n",
       "    <tr>\n",
       "      <th>2</th>\n",
       "      <td>69.98</td>\n",
       "      <td>1.665869</td>\n",
       "      <td>-0.527239</td>\n",
       "      <td>-0.277871</td>\n",
       "      <td>1</td>\n",
       "      <td>0</td>\n",
       "      <td>0</td>\n",
       "      <td>0</td>\n",
       "      <td>1</td>\n",
       "      <td>1</td>\n",
       "      <td>0</td>\n",
       "      <td>0</td>\n",
       "      <td>0</td>\n",
       "      <td>0</td>\n",
       "      <td>0</td>\n",
       "      <td>0</td>\n",
       "      <td>0</td>\n",
       "      <td>0</td>\n",
       "      <td>0</td>\n",
       "    </tr>\n",
       "    <tr>\n",
       "      <th>3</th>\n",
       "      <td>649.99</td>\n",
       "      <td>0.000000</td>\n",
       "      <td>1.107791</td>\n",
       "      <td>0.483223</td>\n",
       "      <td>0</td>\n",
       "      <td>1</td>\n",
       "      <td>0</td>\n",
       "      <td>0</td>\n",
       "      <td>1</td>\n",
       "      <td>0</td>\n",
       "      <td>0</td>\n",
       "      <td>0</td>\n",
       "      <td>0</td>\n",
       "      <td>0</td>\n",
       "      <td>0</td>\n",
       "      <td>0</td>\n",
       "      <td>0</td>\n",
       "      <td>0</td>\n",
       "      <td>0</td>\n",
       "    </tr>\n",
       "    <tr>\n",
       "      <th>4</th>\n",
       "      <td>83.59</td>\n",
       "      <td>0.000000</td>\n",
       "      <td>2.067851</td>\n",
       "      <td>0.680574</td>\n",
       "      <td>0</td>\n",
       "      <td>1</td>\n",
       "      <td>0</td>\n",
       "      <td>0</td>\n",
       "      <td>1</td>\n",
       "      <td>0</td>\n",
       "      <td>0</td>\n",
       "      <td>0</td>\n",
       "      <td>0</td>\n",
       "      <td>1</td>\n",
       "      <td>0</td>\n",
       "      <td>0</td>\n",
       "      <td>0</td>\n",
       "      <td>0</td>\n",
       "      <td>0</td>\n",
       "    </tr>\n",
       "  </tbody>\n",
       "</table>\n",
       "</div>"
      ],
      "text/plain": [
       "   revenue       age  days_since_last_order  previous_order_amount  \\\n",
       "0    72.98 -0.125138              -0.531862              -0.002116   \n",
       "1   200.99 -0.841541              -1.043483               2.601538   \n",
       "2    69.98  1.665869              -0.527239              -0.277871   \n",
       "3   649.99  0.000000               1.107791               0.483223   \n",
       "4    83.59  0.000000               2.067851               0.680574   \n",
       "\n",
       "   gender_1.0  gender_unknown  engaged_last_30_1.0  lifecycle_B  lifecycle_C  \\\n",
       "0           1               0                    0            1            0   \n",
       "1           1               0                    0            0            0   \n",
       "2           1               0                    0            0            1   \n",
       "3           0               1                    0            0            1   \n",
       "4           0               1                    0            0            1   \n",
       "\n",
       "   3rd_party_stores_1  3rd_party_stores_10  3rd_party_stores_2  \\\n",
       "0                   0                    0                   0   \n",
       "1                   0                    0                   0   \n",
       "2                   1                    0                   0   \n",
       "3                   0                    0                   0   \n",
       "4                   0                    0                   0   \n",
       "\n",
       "   3rd_party_stores_3  3rd_party_stores_4  3rd_party_stores_5  \\\n",
       "0                   0                   0                   0   \n",
       "1                   0                   0                   0   \n",
       "2                   0                   0                   0   \n",
       "3                   0                   0                   0   \n",
       "4                   0                   1                   0   \n",
       "\n",
       "   3rd_party_stores_6  3rd_party_stores_7  3rd_party_stores_8  \\\n",
       "0                   0                   0                   0   \n",
       "1                   0                   0                   0   \n",
       "2                   0                   0                   0   \n",
       "3                   0                   0                   0   \n",
       "4                   0                   0                   0   \n",
       "\n",
       "   3rd_party_stores_9  \n",
       "0                   0  \n",
       "1                   0  \n",
       "2                   0  \n",
       "3                   0  \n",
       "4                   0  "
      ]
     },
     "execution_count": 86,
     "metadata": {},
     "output_type": "execute_result"
    }
   ],
   "source": [
    "df_clean.head()"
   ]
  },
  {
   "cell_type": "markdown",
   "metadata": {},
   "source": [
    "## 训练"
   ]
  },
  {
   "cell_type": "code",
   "execution_count": 45,
   "metadata": {},
   "outputs": [],
   "source": [
    "from sklearn.linear_model import LinearRegression\n",
    "from sklearn.metrics import mean_squared_error"
   ]
  },
  {
   "cell_type": "code",
   "execution_count": 46,
   "metadata": {},
   "outputs": [],
   "source": [
    "y = df_clean['revenue']\n",
    "X = df_clean.drop('revenue',axis=1)"
   ]
  },
  {
   "cell_type": "code",
   "execution_count": 47,
   "metadata": {},
   "outputs": [],
   "source": [
    "x_train,x_test,y_train,y_test = train_test_split(X,y,test_size=0.3,random_state=7)"
   ]
  },
  {
   "cell_type": "code",
   "execution_count": 48,
   "metadata": {},
   "outputs": [
    {
     "data": {
      "text/plain": [
       "LinearRegression(copy_X=True, fit_intercept=True, n_jobs=None,\n",
       "         normalize=False)"
      ]
     },
     "execution_count": 48,
     "metadata": {},
     "output_type": "execute_result"
    }
   ],
   "source": [
    "lr = LinearRegression()\n",
    "lr.fit(x_train,y_train)"
   ]
  },
  {
   "cell_type": "code",
   "execution_count": 49,
   "metadata": {
    "scrolled": true
   },
   "outputs": [
    {
     "data": {
      "text/plain": [
       "1250.6947836948852"
      ]
     },
     "execution_count": 49,
     "metadata": {},
     "output_type": "execute_result"
    }
   ],
   "source": [
    "y_pred = lr.predict(x_test)\n",
    "np.sqrt(mean_squared_error(y_test,y_pred))"
   ]
  },
  {
   "cell_type": "code",
   "execution_count": 50,
   "metadata": {},
   "outputs": [
    {
     "data": {
      "text/plain": [
       "array([ -26.37567161,   56.92927842,  147.99812239,   24.17623481,\n",
       "         80.84501908,  118.06983619,  -10.97886718,   22.12176042,\n",
       "        -94.59439584,  -21.5668265 , -102.22637235,  -78.82516219,\n",
       "       -115.13097099, -135.09467765,  -87.56741474,  -89.38855363,\n",
       "       -100.37232432, -204.42361452])"
      ]
     },
     "execution_count": 50,
     "metadata": {},
     "output_type": "execute_result"
    }
   ],
   "source": [
    "lr.coef_"
   ]
  },
  {
   "cell_type": "code",
   "execution_count": 51,
   "metadata": {},
   "outputs": [
    {
     "data": {
      "text/html": [
       "<div>\n",
       "<style scoped>\n",
       "    .dataframe tbody tr th:only-of-type {\n",
       "        vertical-align: middle;\n",
       "    }\n",
       "\n",
       "    .dataframe tbody tr th {\n",
       "        vertical-align: top;\n",
       "    }\n",
       "\n",
       "    .dataframe thead th {\n",
       "        text-align: right;\n",
       "    }\n",
       "</style>\n",
       "<table border=\"1\" class=\"dataframe\">\n",
       "  <thead>\n",
       "    <tr style=\"text-align: right;\">\n",
       "      <th></th>\n",
       "      <th>0</th>\n",
       "    </tr>\n",
       "  </thead>\n",
       "  <tbody>\n",
       "    <tr>\n",
       "      <th>3rd_party_stores_9</th>\n",
       "      <td>-204.423615</td>\n",
       "    </tr>\n",
       "    <tr>\n",
       "      <th>3rd_party_stores_5</th>\n",
       "      <td>-135.094678</td>\n",
       "    </tr>\n",
       "    <tr>\n",
       "      <th>3rd_party_stores_4</th>\n",
       "      <td>-115.130971</td>\n",
       "    </tr>\n",
       "    <tr>\n",
       "      <th>3rd_party_stores_2</th>\n",
       "      <td>-102.226372</td>\n",
       "    </tr>\n",
       "    <tr>\n",
       "      <th>3rd_party_stores_8</th>\n",
       "      <td>-100.372324</td>\n",
       "    </tr>\n",
       "    <tr>\n",
       "      <th>3rd_party_stores_1</th>\n",
       "      <td>-94.594396</td>\n",
       "    </tr>\n",
       "    <tr>\n",
       "      <th>3rd_party_stores_7</th>\n",
       "      <td>-89.388554</td>\n",
       "    </tr>\n",
       "    <tr>\n",
       "      <th>3rd_party_stores_6</th>\n",
       "      <td>-87.567415</td>\n",
       "    </tr>\n",
       "    <tr>\n",
       "      <th>3rd_party_stores_3</th>\n",
       "      <td>-78.825162</td>\n",
       "    </tr>\n",
       "    <tr>\n",
       "      <th>age</th>\n",
       "      <td>-26.375672</td>\n",
       "    </tr>\n",
       "    <tr>\n",
       "      <th>3rd_party_stores_10</th>\n",
       "      <td>-21.566827</td>\n",
       "    </tr>\n",
       "    <tr>\n",
       "      <th>lifecycle_B</th>\n",
       "      <td>-10.978867</td>\n",
       "    </tr>\n",
       "    <tr>\n",
       "      <th>lifecycle_C</th>\n",
       "      <td>22.121760</td>\n",
       "    </tr>\n",
       "    <tr>\n",
       "      <th>gender_1.0</th>\n",
       "      <td>24.176235</td>\n",
       "    </tr>\n",
       "    <tr>\n",
       "      <th>days_since_last_order</th>\n",
       "      <td>56.929278</td>\n",
       "    </tr>\n",
       "    <tr>\n",
       "      <th>gender_unknown</th>\n",
       "      <td>80.845019</td>\n",
       "    </tr>\n",
       "    <tr>\n",
       "      <th>engaged_last_30_1.0</th>\n",
       "      <td>118.069836</td>\n",
       "    </tr>\n",
       "    <tr>\n",
       "      <th>previous_order_amount</th>\n",
       "      <td>147.998122</td>\n",
       "    </tr>\n",
       "  </tbody>\n",
       "</table>\n",
       "</div>"
      ],
      "text/plain": [
       "                                0\n",
       "3rd_party_stores_9    -204.423615\n",
       "3rd_party_stores_5    -135.094678\n",
       "3rd_party_stores_4    -115.130971\n",
       "3rd_party_stores_2    -102.226372\n",
       "3rd_party_stores_8    -100.372324\n",
       "3rd_party_stores_1     -94.594396\n",
       "3rd_party_stores_7     -89.388554\n",
       "3rd_party_stores_6     -87.567415\n",
       "3rd_party_stores_3     -78.825162\n",
       "age                    -26.375672\n",
       "3rd_party_stores_10    -21.566827\n",
       "lifecycle_B            -10.978867\n",
       "lifecycle_C             22.121760\n",
       "gender_1.0              24.176235\n",
       "days_since_last_order   56.929278\n",
       "gender_unknown          80.845019\n",
       "engaged_last_30_1.0    118.069836\n",
       "previous_order_amount  147.998122"
      ]
     },
     "execution_count": 51,
     "metadata": {},
     "output_type": "execute_result"
    }
   ],
   "source": [
    "pd.DataFrame(index=X.columns,data=lr.coef_).sort_values(by=0)"
   ]
  },
  {
   "cell_type": "code",
   "execution_count": 52,
   "metadata": {},
   "outputs": [
    {
     "data": {
      "text/plain": [
       "362.71422836598975"
      ]
     },
     "execution_count": 52,
     "metadata": {},
     "output_type": "execute_result"
    }
   ],
   "source": [
    "lr.intercept_"
   ]
  },
  {
   "cell_type": "markdown",
   "metadata": {},
   "source": [
    "## 优化"
   ]
  },
  {
   "cell_type": "code",
   "execution_count": 230,
   "metadata": {},
   "outputs": [],
   "source": [
    "df_opti = df.copy()"
   ]
  },
  {
   "cell_type": "code",
   "execution_count": 231,
   "metadata": {},
   "outputs": [],
   "source": [
    "df_opti = df_opti.rename(columns=lambda x: x.strip())"
   ]
  },
  {
   "cell_type": "markdown",
   "metadata": {},
   "source": [
    "- 异常值处理\n",
    "- 对每一行中的`NaN`计数\n",
    "- `engaged_last_30` 中的NaN作为新列\n",
    "- `3rd_party_stores`作为数值变量；或进行合并分组\n",
    "- `lifecycle`顺序编码\n",
    "\n",
    "- `age`分箱，然后顺序编码\n"
   ]
  },
  {
   "cell_type": "markdown",
   "metadata": {},
   "source": [
    "- 异常值处理"
   ]
  },
  {
   "cell_type": "code",
   "execution_count": 232,
   "metadata": {},
   "outputs": [],
   "source": [
    "new_max = df_opti.revenue.quantile(0.75) + 2 * (df_opti.revenue.quantile(0.75) - df_opti.revenue.quantile(0.25))\n",
    "df_opti = df_opti[df_opti['revenue'] <= new_max]"
   ]
  },
  {
   "cell_type": "code",
   "execution_count": 233,
   "metadata": {},
   "outputs": [],
   "source": [
    "new_max_amount = df_opti.previous_order_amount.quantile(0.75) + 2 * (df_opti.previous_order_amount.quantile(0.75) - df_opti.previous_order_amount.quantile(0.25))\n",
    "df_opti = df_opti[df_opti['previous_order_amount'] <= new_max_amount]"
   ]
  },
  {
   "cell_type": "code",
   "execution_count": 234,
   "metadata": {},
   "outputs": [
    {
     "data": {
      "text/plain": [
       "0.09018063289420074"
      ]
     },
     "execution_count": 234,
     "metadata": {},
     "output_type": "execute_result"
    }
   ],
   "source": [
    "(df.shape[0] - df_opti.shape[0])/df.shape[0]"
   ]
  },
  {
   "cell_type": "markdown",
   "metadata": {},
   "source": [
    "- `NAN`计数"
   ]
  },
  {
   "cell_type": "code",
   "execution_count": 235,
   "metadata": {},
   "outputs": [],
   "source": [
    "df_opti['nan_num'] = df_opti.isna().sum(axis=1)"
   ]
  },
  {
   "cell_type": "markdown",
   "metadata": {},
   "source": [
    "- 缺失值处理"
   ]
  },
  {
   "cell_type": "code",
   "execution_count": 236,
   "metadata": {},
   "outputs": [],
   "source": [
    "df_opti['age'] = df_opti['age'].fillna(df_opti['age'].mean())\n",
    "df_opti['gender'] = df_opti['gender'].fillna('unknown')\n",
    "df_opti['engaged_last_30'] = df_opti['engaged_last_30'].fillna('unknown')"
   ]
  },
  {
   "cell_type": "markdown",
   "metadata": {},
   "source": [
    "- 特征编码"
   ]
  },
  {
   "cell_type": "code",
   "execution_count": 237,
   "metadata": {},
   "outputs": [],
   "source": [
    "def trans_3rd(x):\n",
    "    if x == 0:\n",
    "        return 0\n",
    "    elif x in [3,6,10]:\n",
    "        return 1\n",
    "    else:\n",
    "        return 2"
   ]
  },
  {
   "cell_type": "code",
   "execution_count": 238,
   "metadata": {},
   "outputs": [],
   "source": [
    "df_opti['3rd_party_stores'] = df_opti['3rd_party_stores'].apply(trans_3rd)"
   ]
  },
  {
   "cell_type": "code",
   "execution_count": 239,
   "metadata": {},
   "outputs": [],
   "source": [
    "df_opti[['3rd_party_stores','nan_num','lifecycle']] = df_opti[['3rd_party_stores','nan_num','lifecycle']].astype(str)"
   ]
  },
  {
   "cell_type": "code",
   "execution_count": 240,
   "metadata": {
    "scrolled": true
   },
   "outputs": [],
   "source": [
    "df_opti = pd.get_dummies(df_opti,drop_first=True)"
   ]
  },
  {
   "cell_type": "code",
   "execution_count": 241,
   "metadata": {},
   "outputs": [],
   "source": [
    "scaler = StandardScaler()\n",
    "df_opti[numerical_features] = scaler.fit_transform(df_opti[numerical_features])"
   ]
  },
  {
   "cell_type": "code",
   "execution_count": 242,
   "metadata": {},
   "outputs": [
    {
     "data": {
      "text/html": [
       "<div>\n",
       "<style scoped>\n",
       "    .dataframe tbody tr th:only-of-type {\n",
       "        vertical-align: middle;\n",
       "    }\n",
       "\n",
       "    .dataframe tbody tr th {\n",
       "        vertical-align: top;\n",
       "    }\n",
       "\n",
       "    .dataframe thead th {\n",
       "        text-align: right;\n",
       "    }\n",
       "</style>\n",
       "<table border=\"1\" class=\"dataframe\">\n",
       "  <thead>\n",
       "    <tr style=\"text-align: right;\">\n",
       "      <th></th>\n",
       "      <th>revenue</th>\n",
       "      <th>age</th>\n",
       "      <th>days_since_last_order</th>\n",
       "      <th>previous_order_amount</th>\n",
       "      <th>gender_1.0</th>\n",
       "      <th>gender_unknown</th>\n",
       "      <th>engaged_last_30_1.0</th>\n",
       "      <th>engaged_last_30_unknown</th>\n",
       "      <th>lifecycle_B</th>\n",
       "      <th>lifecycle_C</th>\n",
       "      <th>3rd_party_stores_1</th>\n",
       "      <th>3rd_party_stores_2</th>\n",
       "      <th>nan_num_1</th>\n",
       "      <th>nan_num_3</th>\n",
       "    </tr>\n",
       "  </thead>\n",
       "  <tbody>\n",
       "    <tr>\n",
       "      <th>0</th>\n",
       "      <td>72.98</td>\n",
       "      <td>-0.145774</td>\n",
       "      <td>-0.537714</td>\n",
       "      <td>0.253584</td>\n",
       "      <td>1</td>\n",
       "      <td>0</td>\n",
       "      <td>0</td>\n",
       "      <td>0</td>\n",
       "      <td>1</td>\n",
       "      <td>0</td>\n",
       "      <td>0</td>\n",
       "      <td>0</td>\n",
       "      <td>0</td>\n",
       "      <td>0</td>\n",
       "    </tr>\n",
       "    <tr>\n",
       "      <th>2</th>\n",
       "      <td>69.98</td>\n",
       "      <td>1.651338</td>\n",
       "      <td>-0.533076</td>\n",
       "      <td>-0.151443</td>\n",
       "      <td>1</td>\n",
       "      <td>0</td>\n",
       "      <td>0</td>\n",
       "      <td>0</td>\n",
       "      <td>0</td>\n",
       "      <td>1</td>\n",
       "      <td>0</td>\n",
       "      <td>1</td>\n",
       "      <td>0</td>\n",
       "      <td>0</td>\n",
       "    </tr>\n",
       "    <tr>\n",
       "      <th>3</th>\n",
       "      <td>649.99</td>\n",
       "      <td>0.000000</td>\n",
       "      <td>1.107068</td>\n",
       "      <td>0.966445</td>\n",
       "      <td>0</td>\n",
       "      <td>1</td>\n",
       "      <td>0</td>\n",
       "      <td>1</td>\n",
       "      <td>0</td>\n",
       "      <td>1</td>\n",
       "      <td>0</td>\n",
       "      <td>0</td>\n",
       "      <td>0</td>\n",
       "      <td>1</td>\n",
       "    </tr>\n",
       "    <tr>\n",
       "      <th>4</th>\n",
       "      <td>83.59</td>\n",
       "      <td>0.000000</td>\n",
       "      <td>2.070130</td>\n",
       "      <td>1.256313</td>\n",
       "      <td>0</td>\n",
       "      <td>1</td>\n",
       "      <td>0</td>\n",
       "      <td>1</td>\n",
       "      <td>0</td>\n",
       "      <td>1</td>\n",
       "      <td>0</td>\n",
       "      <td>1</td>\n",
       "      <td>0</td>\n",
       "      <td>1</td>\n",
       "    </tr>\n",
       "    <tr>\n",
       "      <th>5</th>\n",
       "      <td>319.99</td>\n",
       "      <td>1.741194</td>\n",
       "      <td>1.142622</td>\n",
       "      <td>0.542203</td>\n",
       "      <td>1</td>\n",
       "      <td>0</td>\n",
       "      <td>0</td>\n",
       "      <td>0</td>\n",
       "      <td>0</td>\n",
       "      <td>1</td>\n",
       "      <td>1</td>\n",
       "      <td>0</td>\n",
       "      <td>0</td>\n",
       "      <td>0</td>\n",
       "    </tr>\n",
       "  </tbody>\n",
       "</table>\n",
       "</div>"
      ],
      "text/plain": [
       "   revenue       age  days_since_last_order  previous_order_amount  \\\n",
       "0    72.98 -0.145774              -0.537714               0.253584   \n",
       "2    69.98  1.651338              -0.533076              -0.151443   \n",
       "3   649.99  0.000000               1.107068               0.966445   \n",
       "4    83.59  0.000000               2.070130               1.256313   \n",
       "5   319.99  1.741194               1.142622               0.542203   \n",
       "\n",
       "   gender_1.0  gender_unknown  engaged_last_30_1.0  engaged_last_30_unknown  \\\n",
       "0           1               0                    0                        0   \n",
       "2           1               0                    0                        0   \n",
       "3           0               1                    0                        1   \n",
       "4           0               1                    0                        1   \n",
       "5           1               0                    0                        0   \n",
       "\n",
       "   lifecycle_B  lifecycle_C  3rd_party_stores_1  3rd_party_stores_2  \\\n",
       "0            1            0                   0                   0   \n",
       "2            0            1                   0                   1   \n",
       "3            0            1                   0                   0   \n",
       "4            0            1                   0                   1   \n",
       "5            0            1                   1                   0   \n",
       "\n",
       "   nan_num_1  nan_num_3  \n",
       "0          0          0  \n",
       "2          0          0  \n",
       "3          0          1  \n",
       "4          0          1  \n",
       "5          0          0  "
      ]
     },
     "execution_count": 242,
     "metadata": {},
     "output_type": "execute_result"
    }
   ],
   "source": [
    "df_opti.head()"
   ]
  },
  {
   "cell_type": "markdown",
   "metadata": {},
   "source": [
    "- 训练"
   ]
  },
  {
   "cell_type": "code",
   "execution_count": 243,
   "metadata": {},
   "outputs": [],
   "source": [
    "y = df_opti['revenue']\n",
    "X = df_opti.drop('revenue',axis=1)"
   ]
  },
  {
   "cell_type": "code",
   "execution_count": 244,
   "metadata": {},
   "outputs": [],
   "source": [
    "x_train,x_test,y_train,y_test = train_test_split(X,y,test_size=0.3,random_state=7)"
   ]
  },
  {
   "cell_type": "code",
   "execution_count": 245,
   "metadata": {},
   "outputs": [
    {
     "data": {
      "text/plain": [
       "LinearRegression(copy_X=True, fit_intercept=True, n_jobs=None,\n",
       "         normalize=False)"
      ]
     },
     "execution_count": 245,
     "metadata": {},
     "output_type": "execute_result"
    }
   ],
   "source": [
    "lr = LinearRegression()\n",
    "lr.fit(x_train,y_train)"
   ]
  },
  {
   "cell_type": "code",
   "execution_count": 246,
   "metadata": {
    "scrolled": true
   },
   "outputs": [
    {
     "data": {
      "text/plain": [
       "81627.12706256013"
      ]
     },
     "execution_count": 246,
     "metadata": {},
     "output_type": "execute_result"
    }
   ],
   "source": [
    "y_pred = lr.predict(x_test)\n",
    "mean_squared_error(y_test,y_pred)"
   ]
  },
  {
   "cell_type": "code",
   "execution_count": 247,
   "metadata": {},
   "outputs": [
    {
     "data": {
      "text/plain": [
       "285.70461505296015"
      ]
     },
     "execution_count": 247,
     "metadata": {},
     "output_type": "execute_result"
    }
   ],
   "source": [
    "np.sqrt(mean_squared_error(y_test,y_pred))"
   ]
  },
  {
   "cell_type": "code",
   "execution_count": 248,
   "metadata": {
    "scrolled": true
   },
   "outputs": [
    {
     "data": {
      "text/plain": [
       "array([-15.3164049 ,  44.61368074,  33.97414258,  32.09196614,\n",
       "        17.44436322,  53.79421034,  17.44436322,   4.20743098,\n",
       "        27.39844172, -79.91463999, -91.16885318,  67.11335497,\n",
       "        17.44436322])"
      ]
     },
     "execution_count": 248,
     "metadata": {},
     "output_type": "execute_result"
    }
   ],
   "source": [
    "lr.coef_"
   ]
  },
  {
   "cell_type": "code",
   "execution_count": 249,
   "metadata": {
    "scrolled": true
   },
   "outputs": [
    {
     "data": {
      "text/plain": [
       "264.2451770576717"
      ]
     },
     "execution_count": 249,
     "metadata": {},
     "output_type": "execute_result"
    }
   ],
   "source": [
    "lr.intercept_"
   ]
  }
 ],
 "metadata": {
  "kernelspec": {
   "display_name": "Python 3",
   "language": "python",
   "name": "python3"
  },
  "language_info": {
   "codemirror_mode": {
    "name": "ipython",
    "version": 3
   },
   "file_extension": ".py",
   "mimetype": "text/x-python",
   "name": "python",
   "nbconvert_exporter": "python",
   "pygments_lexer": "ipython3",
   "version": "3.6.8"
  },
  "notify_time": "5",
  "toc": {
   "base_numbering": 1,
   "nav_menu": {},
   "number_sections": true,
   "sideBar": true,
   "skip_h1_title": false,
   "title_cell": "Table of Contents",
   "title_sidebar": "Contents",
   "toc_cell": false,
   "toc_position": {
    "height": "calc(100% - 180px)",
    "left": "10px",
    "top": "150px",
    "width": "165px"
   },
   "toc_section_display": true,
   "toc_window_display": true
  }
 },
 "nbformat": 4,
 "nbformat_minor": 2
}
