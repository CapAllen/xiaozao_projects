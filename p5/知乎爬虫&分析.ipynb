{
 "cells": [
  {
   "cell_type": "markdown",
   "metadata": {},
   "source": [
    "## 课题背景\n",
    "\n",
    "知乎是网络问答社区，连接各行各业的用户。用户分享着彼此的知识、经验和见解，为中文互联网源源不断地提供多种多样的信息。\n",
    "\n",
    " \n",
    "\n",
    "知乎热榜能够快速了解今日热点，并且知乎热榜聚合知乎问题榜单最热门内容，知乎热榜高赞回答能够给你带来大的流量，获取流量红利。"
   ]
  },
  {
   "cell_type": "markdown",
   "metadata": {},
   "source": [
    "### 在本次作业中，你将需要完成三个部分的内容\n",
    "\n",
    "（1）用web scraper爬取知乎热榜\n",
    "\n",
    "提示：URL：https://www.zhihu.com/hot\n",
    "\n",
    "（2）用你爬取的数据分析热榜题目的特点，比如热榜话题类型是什么样的？都有什么特点？\n",
    "\n",
    "（3）选择某一个你感兴趣的热榜问题，分析热榜问题下的回答都有什么特质？热榜用户属性是什么？用户的回答都在评论什么？高赞回答和普通回答之间的区别是什么？"
   ]
  },
  {
   "cell_type": "markdown",
   "metadata": {},
   "source": [
    "## 爬虫"
   ]
  },
  {
   "cell_type": "markdown",
   "metadata": {},
   "source": [
    "### 利用web_scraper获取 知乎热榜"
   ]
  },
  {
   "cell_type": "markdown",
   "metadata": {},
   "source": [
    "由于主站的反爬虫措施，如果爬不到数据的话，可以尝试从这个链接获取：https://www.zhihu.com/billboard"
   ]
  },
  {
   "cell_type": "markdown",
   "metadata": {},
   "source": [
    "![](d33ec41c7e80d4e9cefc8891975cd94.jpg)"
   ]
  },
  {
   "cell_type": "markdown",
   "metadata": {},
   "source": [
    "### 利用request+beautiful获取知乎热榜"
   ]
  },
  {
   "cell_type": "code",
   "execution_count": 23,
   "metadata": {},
   "outputs": [],
   "source": [
    "import requests\n",
    "from bs4 import BeautifulSoup\n",
    "import pandas as pd"
   ]
  },
  {
   "cell_type": "code",
   "execution_count": 10,
   "metadata": {},
   "outputs": [],
   "source": [
    "url = 'https://www.zhihu.com/billboard'"
   ]
  },
  {
   "cell_type": "code",
   "execution_count": 11,
   "metadata": {},
   "outputs": [],
   "source": [
    "headers = {\n",
    "  'Host': 'www.zhihu.com',\n",
    "'User-Agent': 'Mozilla/5.0 (Windows NT 6.1; Win64; x64; rv:71.0) Gecko/20100101 Firefox/71.0',\n",
    "}"
   ]
  },
  {
   "cell_type": "code",
   "execution_count": 12,
   "metadata": {},
   "outputs": [],
   "source": [
    "response = requests.get(url,headers=headers)"
   ]
  },
  {
   "cell_type": "code",
   "execution_count": 16,
   "metadata": {},
   "outputs": [],
   "source": [
    "soup = BeautifulSoup(response.content,'lxml')"
   ]
  },
  {
   "cell_type": "code",
   "execution_count": 18,
   "metadata": {
    "collapsed": true
   },
   "outputs": [
    {
     "data": {
      "text/plain": [
       "[<div class=\"HotList-itemTitle\">如何看待首个国产 HPV 疫苗获批上市，定价 329 元一支？</div>,\n",
       " <div class=\"HotList-itemTitle\">《奇葩说》有带来什么不好的影响吗？</div>,\n",
       " <div class=\"HotList-itemTitle\">有没有两句不相连的两句诗，组合成一句极品诗句？</div>,\n",
       " <div class=\"HotList-itemTitle\">90 后的你现在拥有多少存款？</div>,\n",
       " <div class=\"HotList-itemTitle\">给不太熟的人当伴娘是什么体验？</div>,\n",
       " <div class=\"HotList-itemTitle\">为什么现在男生普遍不追女生了?</div>,\n",
       " <div class=\"HotList-itemTitle\">世界上有哪些著名的好看雕塑？</div>,\n",
       " <div class=\"HotList-itemTitle\">19 岁，现在出海还有当海贼王的希望吗？</div>,\n",
       " <div class=\"HotList-itemTitle\">有哪些极简主义的头像值得分享？</div>,\n",
       " <div class=\"HotList-itemTitle\">有哪些曾经的世界未解之谜被证明是骗局?</div>,\n",
       " <div class=\"HotList-itemTitle\">你读过最惊艳的现代诗是什么？</div>,\n",
       " <div class=\"HotList-itemTitle\">什么叫做「中二病」？</div>,\n",
       " <div class=\"HotList-itemTitle\">微积分到底是什么?</div>,\n",
       " <div class=\"HotList-itemTitle\">谢逊为什么不在灵蛇岛上拆穿周芷若？</div>,\n",
       " <div class=\"HotList-itemTitle\">有一个优秀而又高颜值的女朋友是一种什么样的体验？</div>,\n",
       " <div class=\"HotList-itemTitle\">李子柒是如何赚钱的？</div>,\n",
       " <div class=\"HotList-itemTitle\">女儿洗澡被爸爸撞见，爸爸还觉得无所谓，我要怎么缓解崩溃情绪？</div>,\n",
       " <div class=\"HotList-itemTitle\">为什么中国家长谁都能信，就是不信自己的孩子？</div>,\n",
       " <div class=\"HotList-itemTitle\">如何看待泄露的 Xbox Series X 以及 Playstation 5 规格？</div>,\n",
       " <div class=\"HotList-itemTitle\">盗墓笔记哪些情节最吓人？</div>,\n",
       " <div class=\"HotList-itemTitle\">月子期间婆婆对你说过最扎心的话是什么？</div>,\n",
       " <div class=\"HotList-itemTitle\">如何评价演员何冰？</div>,\n",
       " <div class=\"HotList-itemTitle\">NBA 开赛至今，你觉得哪支球队最有冠军相？</div>,\n",
       " <div class=\"HotList-itemTitle\">如何看待华晨宇参加《歌手·当打之年》？</div>,\n",
       " <div class=\"HotList-itemTitle\">机械手表有多少技术含量？</div>,\n",
       " <div class=\"HotList-itemTitle\">发篇 Nature 能评上教授吗？</div>,\n",
       " <div class=\"HotList-itemTitle\">甲骨文没提到夏朝，能否说明夏朝并不存在？</div>,\n",
       " <div class=\"HotList-itemTitle\">打篮球有哪些一般人不知道的技巧?</div>,\n",
       " <div class=\"HotList-itemTitle\">哪个瞬间让你觉得「山东还不错」？</div>,\n",
       " <div class=\"HotList-itemTitle\">为迎接新年，你购买了哪些时尚单品？</div>,\n",
       " <div class=\"HotList-itemTitle\">证券分析师如果真的那么厉害，那为什么他们不自己去投资，而是要帮别人分析呢?</div>,\n",
       " <div class=\"HotList-itemTitle\">你的鼻炎最后治好了吗？</div>,\n",
       " <div class=\"HotList-itemTitle\">为什么台湾人总喜欢写这种 pop 体？</div>,\n",
       " <div class=\"HotList-itemTitle\">为何大众和奥迪这么青睐双离合？</div>,\n",
       " <div class=\"HotList-itemTitle\">怎样提升一个人的文笔？</div>,\n",
       " <div class=\"HotList-itemTitle\">2019 年发布的 5G 手机中，你最想换的是哪一款？为什么？</div>,\n",
       " <div class=\"HotList-itemTitle\">没有经验能做产品经理吗？</div>,\n",
       " <div class=\"HotList-itemTitle\">阿斯伯格综合症是一种怎么样的存在？</div>,\n",
       " <div class=\"HotList-itemTitle\">1 月 2 日雷军发的 2020 新年全员信，有哪些值得关注的信息？</div>,\n",
       " <div class=\"HotList-itemTitle\">好看清晰的自拍是怎么拍出来的？</div>,\n",
       " <div class=\"HotList-itemTitle\">哪三本书是产品经理必读书？为什么？</div>,\n",
       " <div class=\"HotList-itemTitle\">穿越是一种怎样的体验？</div>,\n",
       " <div class=\"HotList-itemTitle\">如何看待药监局正式发布的「不存在所谓的械字号面膜」？「医美面膜」到底合不合法？</div>,\n",
       " <div class=\"HotList-itemTitle\">为何虹桥枢纽之后再无「虹桥枢纽」？</div>,\n",
       " <div class=\"HotList-itemTitle\">在你的摄影生涯里，用 85MM 定焦镜头拍出过哪些满意的作品？</div>,\n",
       " <div class=\"HotList-itemTitle\">进厂打工真的太累太崩溃了，或者是不是我太矫情了？</div>,\n",
       " <div class=\"HotList-itemTitle\">有什么人生必看书籍?</div>,\n",
       " <div class=\"HotList-itemTitle\">历史上有哪些真实的祸从口出的事件？</div>,\n",
       " <div class=\"HotList-itemTitle\">章子怡宣布二胎生子，你有什么想说的？</div>,\n",
       " <div class=\"HotList-itemTitle\">凯迪拉克的车到底值不值得买？</div>]"
      ]
     },
     "execution_count": 18,
     "metadata": {},
     "output_type": "execute_result"
    }
   ],
   "source": [
    "soup.find('div',class_='HotList-itemTitle')"
   ]
  },
  {
   "cell_type": "code",
   "execution_count": 21,
   "metadata": {},
   "outputs": [],
   "source": [
    "# Title_lists = \n",
    "soup.find_all('div',class_='HotList-itemTitle')"
   ]
  },
  {
   "cell_type": "code",
   "execution_count": 25,
   "metadata": {},
   "outputs": [],
   "source": [
    "# Metrics_lists = \n",
    "soup.find_all('div',class_='HotList-itemMetrics')"
   ]
  },
  {
   "cell_type": "code",
   "execution_count": 29,
   "metadata": {},
   "outputs": [],
   "source": [
    "# data = \n",
    "pd.concat([pd.Series(data=Title_lists),(pd.Series(data=Metrics_lists))],axis=1)"
   ]
  },
  {
   "cell_type": "code",
   "execution_count": 31,
   "metadata": {},
   "outputs": [],
   "source": [
    "data.columns = ['title','metrics']"
   ]
  },
  {
   "cell_type": "code",
   "execution_count": null,
   "metadata": {},
   "outputs": [],
   "source": [
    "data.head()"
   ]
  },
  {
   "cell_type": "code",
   "execution_count": 22,
   "metadata": {},
   "outputs": [
    {
     "data": {
      "text/plain": [
       "'如何看待首个国产 HPV 疫苗获批上市，定价 329 元一支？'"
      ]
     },
     "execution_count": 22,
     "metadata": {},
     "output_type": "execute_result"
    }
   ],
   "source": [
    "Title_lists[0].get_text()"
   ]
  },
  {
   "cell_type": "code",
   "execution_count": 34,
   "metadata": {},
   "outputs": [],
   "source": [
    "# data = \n",
    "data.applymap(lambda x: x.get_text())"
   ]
  },
  {
   "cell_type": "code",
   "execution_count": 41,
   "metadata": {
    "scrolled": true
   },
   "outputs": [
    {
     "data": {
      "text/plain": [
       "RangeIndex(start=0, stop=50, step=1)"
      ]
     },
     "execution_count": 41,
     "metadata": {},
     "output_type": "execute_result"
    }
   ],
   "source": [
    "#将metrics转为数值\n",
    "data"
   ]
  },
  {
   "cell_type": "code",
   "execution_count": 59,
   "metadata": {},
   "outputs": [],
   "source": [
    "### 带问题link的数据\n",
    "data = pd.read_csv('./data/zhihu_hot_with_url.csv')"
   ]
  },
  {
   "cell_type": "code",
   "execution_count": 60,
   "metadata": {},
   "outputs": [
    {
     "data": {
      "text/html": [
       "<div>\n",
       "<style scoped>\n",
       "    .dataframe tbody tr th:only-of-type {\n",
       "        vertical-align: middle;\n",
       "    }\n",
       "\n",
       "    .dataframe tbody tr th {\n",
       "        vertical-align: top;\n",
       "    }\n",
       "\n",
       "    .dataframe thead th {\n",
       "        text-align: right;\n",
       "    }\n",
       "</style>\n",
       "<table border=\"1\" class=\"dataframe\">\n",
       "  <thead>\n",
       "    <tr style=\"text-align: right;\">\n",
       "      <th></th>\n",
       "      <th>title</th>\n",
       "      <th>metrics</th>\n",
       "      <th>title-href</th>\n",
       "    </tr>\n",
       "  </thead>\n",
       "  <tbody>\n",
       "    <tr>\n",
       "      <th>0</th>\n",
       "      <td>如何看待首个国产 HPV 疫苗获批上市，定价 329 元一支？</td>\n",
       "      <td>4426 万热度</td>\n",
       "      <td>https://www.zhihu.com/question/364411856</td>\n",
       "    </tr>\n",
       "    <tr>\n",
       "      <th>1</th>\n",
       "      <td>《奇葩说》有带来什么不好的影响吗？</td>\n",
       "      <td>2631 万热度</td>\n",
       "      <td>https://www.zhihu.com/question/361889198</td>\n",
       "    </tr>\n",
       "    <tr>\n",
       "      <th>2</th>\n",
       "      <td>有没有两句不相连的两句诗，组合成一句极品诗句？</td>\n",
       "      <td>1470 万热度</td>\n",
       "      <td>https://www.zhihu.com/question/359948448</td>\n",
       "    </tr>\n",
       "    <tr>\n",
       "      <th>3</th>\n",
       "      <td>90 后的你现在拥有多少存款？</td>\n",
       "      <td>1394 万热度</td>\n",
       "      <td>https://www.zhihu.com/question/294492829</td>\n",
       "    </tr>\n",
       "    <tr>\n",
       "      <th>4</th>\n",
       "      <td>给不太熟的人当伴娘是什么体验？</td>\n",
       "      <td>904 万热度</td>\n",
       "      <td>https://www.zhihu.com/question/35331322</td>\n",
       "    </tr>\n",
       "  </tbody>\n",
       "</table>\n",
       "</div>"
      ],
      "text/plain": [
       "                             title   metrics  \\\n",
       "0  如何看待首个国产 HPV 疫苗获批上市，定价 329 元一支？  4426 万热度   \n",
       "1                《奇葩说》有带来什么不好的影响吗？  2631 万热度   \n",
       "2          有没有两句不相连的两句诗，组合成一句极品诗句？  1470 万热度   \n",
       "3                  90 后的你现在拥有多少存款？  1394 万热度   \n",
       "4                  给不太熟的人当伴娘是什么体验？   904 万热度   \n",
       "\n",
       "                                 title-href  \n",
       "0  https://www.zhihu.com/question/364411856  \n",
       "1  https://www.zhihu.com/question/361889198  \n",
       "2  https://www.zhihu.com/question/359948448  \n",
       "3  https://www.zhihu.com/question/294492829  \n",
       "4   https://www.zhihu.com/question/35331322  "
      ]
     },
     "execution_count": 60,
     "metadata": {},
     "output_type": "execute_result"
    }
   ],
   "source": [
    "data.head()"
   ]
  },
  {
   "cell_type": "markdown",
   "metadata": {},
   "source": [
    "### 某一问题内的回答"
   ]
  },
  {
   "cell_type": "code",
   "execution_count": 167,
   "metadata": {
    "scrolled": true
   },
   "outputs": [],
   "source": [
    "question_df = pd.read_csv('./data/question_sample.csv')"
   ]
  },
  {
   "cell_type": "markdown",
   "metadata": {},
   "source": [
    "## 数据清洗"
   ]
  },
  {
   "cell_type": "code",
   "execution_count": 168,
   "metadata": {},
   "outputs": [
    {
     "data": {
      "text/html": [
       "<div>\n",
       "<style scoped>\n",
       "    .dataframe tbody tr th:only-of-type {\n",
       "        vertical-align: middle;\n",
       "    }\n",
       "\n",
       "    .dataframe tbody tr th {\n",
       "        vertical-align: top;\n",
       "    }\n",
       "\n",
       "    .dataframe thead th {\n",
       "        text-align: right;\n",
       "    }\n",
       "</style>\n",
       "<table border=\"1\" class=\"dataframe\">\n",
       "  <thead>\n",
       "    <tr style=\"text-align: right;\">\n",
       "      <th></th>\n",
       "      <th>user_name</th>\n",
       "      <th>agree_num</th>\n",
       "      <th>comments_num</th>\n",
       "      <th>answer_content</th>\n",
       "      <th>post_time</th>\n",
       "    </tr>\n",
       "  </thead>\n",
       "  <tbody>\n",
       "    <tr>\n",
       "      <th>0</th>\n",
       "      <td>青莲长歌</td>\n",
       "      <td>​赞同 9.5K</td>\n",
       "      <td>​1,126 条评论</td>\n",
       "      <td>作为研发实验室的一员，对大家关心的几个问题做一个梳理和回答。这个疫苗是什么？有什么用？HPV...</td>\n",
       "      <td>编辑于 14:50</td>\n",
       "    </tr>\n",
       "    <tr>\n",
       "      <th>1</th>\n",
       "      <td>张四月</td>\n",
       "      <td>​赞同 796</td>\n",
       "      <td>​188 条评论</td>\n",
       "      <td>女性福音！重大利好！&lt;img src=\"https://pic1.zhimg.com/50/...</td>\n",
       "      <td>发布于昨天 19:16</td>\n",
       "    </tr>\n",
       "    <tr>\n",
       "      <th>2</th>\n",
       "      <td>六层楼</td>\n",
       "      <td>​赞同 301</td>\n",
       "      <td>​83 条评论</td>\n",
       "      <td>说说「国产二价HPV疫苗 」的问题。早在我研究生阶段，导师就已经在说国产HPV疫苗的事儿了，...</td>\n",
       "      <td>发布于昨天 21:59</td>\n",
       "    </tr>\n",
       "    <tr>\n",
       "      <th>3</th>\n",
       "      <td>郑常</td>\n",
       "      <td>​赞同 119</td>\n",
       "      <td>​28 条评论</td>\n",
       "      <td>难得热榜上有我专业相关问题。无人邀，自答。这个疫苗的研发成功，是我国疫苗研制的一个重大成功。...</td>\n",
       "      <td>编辑于 13:00</td>\n",
       "    </tr>\n",
       "    <tr>\n",
       "      <th>4</th>\n",
       "      <td>张宙</td>\n",
       "      <td>​赞同 215</td>\n",
       "      <td>​17 条评论</td>\n",
       "      <td>我的一个好朋友就在这个公司里面工作，公司与厦门大学合作，只有两百人左右，虽然是在养生堂名下，...</td>\n",
       "      <td>编辑于 09:08</td>\n",
       "    </tr>\n",
       "  </tbody>\n",
       "</table>\n",
       "</div>"
      ],
      "text/plain": [
       "  user_name agree_num comments_num  \\\n",
       "0      青莲长歌  ​赞同 9.5K   ​1,126 条评论   \n",
       "1       张四月   ​赞同 796     ​188 条评论   \n",
       "2       六层楼   ​赞同 301      ​83 条评论   \n",
       "3        郑常   ​赞同 119      ​28 条评论   \n",
       "4        张宙   ​赞同 215      ​17 条评论   \n",
       "\n",
       "                                      answer_content    post_time  \n",
       "0  作为研发实验室的一员，对大家关心的几个问题做一个梳理和回答。这个疫苗是什么？有什么用？HPV...    编辑于 14:50  \n",
       "1  女性福音！重大利好！<img src=\"https://pic1.zhimg.com/50/...  发布于昨天 19:16  \n",
       "2  说说「国产二价HPV疫苗 」的问题。早在我研究生阶段，导师就已经在说国产HPV疫苗的事儿了，...  发布于昨天 21:59  \n",
       "3  难得热榜上有我专业相关问题。无人邀，自答。这个疫苗的研发成功，是我国疫苗研制的一个重大成功。...    编辑于 13:00  \n",
       "4  我的一个好朋友就在这个公司里面工作，公司与厦门大学合作，只有两百人左右，虽然是在养生堂名下，...    编辑于 09:08  "
      ]
     },
     "execution_count": 168,
     "metadata": {},
     "output_type": "execute_result"
    }
   ],
   "source": [
    "question_df.head()"
   ]
  },
  {
   "cell_type": "markdown",
   "metadata": {},
   "source": [
    "### 提取数值型数据"
   ]
  },
  {
   "cell_type": "code",
   "execution_count": 169,
   "metadata": {},
   "outputs": [],
   "source": [
    "question_df['agree_num'] = question_df['agree_num'].str.replace('赞同','')"
   ]
  },
  {
   "cell_type": "code",
   "execution_count": 170,
   "metadata": {},
   "outputs": [],
   "source": [
    "question_df.loc[0,'agree_num'] = '9500'"
   ]
  },
  {
   "cell_type": "code",
   "execution_count": 171,
   "metadata": {
    "collapsed": true
   },
   "outputs": [
    {
     "ename": "ValueError",
     "evalue": "invalid literal for int() with base 10: '\\u200b 796'",
     "output_type": "error",
     "traceback": [
      "\u001b[1;31m---------------------------------------------------------------------------\u001b[0m",
      "\u001b[1;31mValueError\u001b[0m                                Traceback (most recent call last)",
      "\u001b[1;32m<ipython-input-171-c36fb05a3e84>\u001b[0m in \u001b[0;36m<module>\u001b[1;34m\u001b[0m\n\u001b[1;32m----> 1\u001b[1;33m \u001b[0mquestion_df\u001b[0m\u001b[1;33m[\u001b[0m\u001b[1;34m'agree_num'\u001b[0m\u001b[1;33m]\u001b[0m\u001b[1;33m.\u001b[0m\u001b[0mastype\u001b[0m\u001b[1;33m(\u001b[0m\u001b[0mint\u001b[0m\u001b[1;33m)\u001b[0m\u001b[1;33m\u001b[0m\u001b[1;33m\u001b[0m\u001b[0m\n\u001b[0m",
      "\u001b[1;32md:\\ProgramData\\Anaconda3\\lib\\site-packages\\pandas\\core\\generic.py\u001b[0m in \u001b[0;36mastype\u001b[1;34m(self, dtype, copy, errors, **kwargs)\u001b[0m\n\u001b[0;32m   5689\u001b[0m             \u001b[1;31m# else, only a single dtype is given\u001b[0m\u001b[1;33m\u001b[0m\u001b[1;33m\u001b[0m\u001b[1;33m\u001b[0m\u001b[0m\n\u001b[0;32m   5690\u001b[0m             new_data = self._data.astype(dtype=dtype, copy=copy, errors=errors,\n\u001b[1;32m-> 5691\u001b[1;33m                                          **kwargs)\n\u001b[0m\u001b[0;32m   5692\u001b[0m             \u001b[1;32mreturn\u001b[0m \u001b[0mself\u001b[0m\u001b[1;33m.\u001b[0m\u001b[0m_constructor\u001b[0m\u001b[1;33m(\u001b[0m\u001b[0mnew_data\u001b[0m\u001b[1;33m)\u001b[0m\u001b[1;33m.\u001b[0m\u001b[0m__finalize__\u001b[0m\u001b[1;33m(\u001b[0m\u001b[0mself\u001b[0m\u001b[1;33m)\u001b[0m\u001b[1;33m\u001b[0m\u001b[1;33m\u001b[0m\u001b[0m\n\u001b[0;32m   5693\u001b[0m \u001b[1;33m\u001b[0m\u001b[0m\n",
      "\u001b[1;32md:\\ProgramData\\Anaconda3\\lib\\site-packages\\pandas\\core\\internals\\managers.py\u001b[0m in \u001b[0;36mastype\u001b[1;34m(self, dtype, **kwargs)\u001b[0m\n\u001b[0;32m    529\u001b[0m \u001b[1;33m\u001b[0m\u001b[0m\n\u001b[0;32m    530\u001b[0m     \u001b[1;32mdef\u001b[0m \u001b[0mastype\u001b[0m\u001b[1;33m(\u001b[0m\u001b[0mself\u001b[0m\u001b[1;33m,\u001b[0m \u001b[0mdtype\u001b[0m\u001b[1;33m,\u001b[0m \u001b[1;33m**\u001b[0m\u001b[0mkwargs\u001b[0m\u001b[1;33m)\u001b[0m\u001b[1;33m:\u001b[0m\u001b[1;33m\u001b[0m\u001b[1;33m\u001b[0m\u001b[0m\n\u001b[1;32m--> 531\u001b[1;33m         \u001b[1;32mreturn\u001b[0m \u001b[0mself\u001b[0m\u001b[1;33m.\u001b[0m\u001b[0mapply\u001b[0m\u001b[1;33m(\u001b[0m\u001b[1;34m'astype'\u001b[0m\u001b[1;33m,\u001b[0m \u001b[0mdtype\u001b[0m\u001b[1;33m=\u001b[0m\u001b[0mdtype\u001b[0m\u001b[1;33m,\u001b[0m \u001b[1;33m**\u001b[0m\u001b[0mkwargs\u001b[0m\u001b[1;33m)\u001b[0m\u001b[1;33m\u001b[0m\u001b[1;33m\u001b[0m\u001b[0m\n\u001b[0m\u001b[0;32m    532\u001b[0m \u001b[1;33m\u001b[0m\u001b[0m\n\u001b[0;32m    533\u001b[0m     \u001b[1;32mdef\u001b[0m \u001b[0mconvert\u001b[0m\u001b[1;33m(\u001b[0m\u001b[0mself\u001b[0m\u001b[1;33m,\u001b[0m \u001b[1;33m**\u001b[0m\u001b[0mkwargs\u001b[0m\u001b[1;33m)\u001b[0m\u001b[1;33m:\u001b[0m\u001b[1;33m\u001b[0m\u001b[1;33m\u001b[0m\u001b[0m\n",
      "\u001b[1;32md:\\ProgramData\\Anaconda3\\lib\\site-packages\\pandas\\core\\internals\\managers.py\u001b[0m in \u001b[0;36mapply\u001b[1;34m(self, f, axes, filter, do_integrity_check, consolidate, **kwargs)\u001b[0m\n\u001b[0;32m    393\u001b[0m                                             copy=align_copy)\n\u001b[0;32m    394\u001b[0m \u001b[1;33m\u001b[0m\u001b[0m\n\u001b[1;32m--> 395\u001b[1;33m             \u001b[0mapplied\u001b[0m \u001b[1;33m=\u001b[0m \u001b[0mgetattr\u001b[0m\u001b[1;33m(\u001b[0m\u001b[0mb\u001b[0m\u001b[1;33m,\u001b[0m \u001b[0mf\u001b[0m\u001b[1;33m)\u001b[0m\u001b[1;33m(\u001b[0m\u001b[1;33m**\u001b[0m\u001b[0mkwargs\u001b[0m\u001b[1;33m)\u001b[0m\u001b[1;33m\u001b[0m\u001b[1;33m\u001b[0m\u001b[0m\n\u001b[0m\u001b[0;32m    396\u001b[0m             \u001b[0mresult_blocks\u001b[0m \u001b[1;33m=\u001b[0m \u001b[0m_extend_blocks\u001b[0m\u001b[1;33m(\u001b[0m\u001b[0mapplied\u001b[0m\u001b[1;33m,\u001b[0m \u001b[0mresult_blocks\u001b[0m\u001b[1;33m)\u001b[0m\u001b[1;33m\u001b[0m\u001b[1;33m\u001b[0m\u001b[0m\n\u001b[0;32m    397\u001b[0m \u001b[1;33m\u001b[0m\u001b[0m\n",
      "\u001b[1;32md:\\ProgramData\\Anaconda3\\lib\\site-packages\\pandas\\core\\internals\\blocks.py\u001b[0m in \u001b[0;36mastype\u001b[1;34m(self, dtype, copy, errors, values, **kwargs)\u001b[0m\n\u001b[0;32m    532\u001b[0m     \u001b[1;32mdef\u001b[0m \u001b[0mastype\u001b[0m\u001b[1;33m(\u001b[0m\u001b[0mself\u001b[0m\u001b[1;33m,\u001b[0m \u001b[0mdtype\u001b[0m\u001b[1;33m,\u001b[0m \u001b[0mcopy\u001b[0m\u001b[1;33m=\u001b[0m\u001b[1;32mFalse\u001b[0m\u001b[1;33m,\u001b[0m \u001b[0merrors\u001b[0m\u001b[1;33m=\u001b[0m\u001b[1;34m'raise'\u001b[0m\u001b[1;33m,\u001b[0m \u001b[0mvalues\u001b[0m\u001b[1;33m=\u001b[0m\u001b[1;32mNone\u001b[0m\u001b[1;33m,\u001b[0m \u001b[1;33m**\u001b[0m\u001b[0mkwargs\u001b[0m\u001b[1;33m)\u001b[0m\u001b[1;33m:\u001b[0m\u001b[1;33m\u001b[0m\u001b[1;33m\u001b[0m\u001b[0m\n\u001b[0;32m    533\u001b[0m         return self._astype(dtype, copy=copy, errors=errors, values=values,\n\u001b[1;32m--> 534\u001b[1;33m                             **kwargs)\n\u001b[0m\u001b[0;32m    535\u001b[0m \u001b[1;33m\u001b[0m\u001b[0m\n\u001b[0;32m    536\u001b[0m     def _astype(self, dtype, copy=False, errors='raise', values=None,\n",
      "\u001b[1;32md:\\ProgramData\\Anaconda3\\lib\\site-packages\\pandas\\core\\internals\\blocks.py\u001b[0m in \u001b[0;36m_astype\u001b[1;34m(self, dtype, copy, errors, values, **kwargs)\u001b[0m\n\u001b[0;32m    631\u001b[0m \u001b[1;33m\u001b[0m\u001b[0m\n\u001b[0;32m    632\u001b[0m                     \u001b[1;31m# _astype_nansafe works fine with 1-d only\u001b[0m\u001b[1;33m\u001b[0m\u001b[1;33m\u001b[0m\u001b[1;33m\u001b[0m\u001b[0m\n\u001b[1;32m--> 633\u001b[1;33m                     \u001b[0mvalues\u001b[0m \u001b[1;33m=\u001b[0m \u001b[0mastype_nansafe\u001b[0m\u001b[1;33m(\u001b[0m\u001b[0mvalues\u001b[0m\u001b[1;33m.\u001b[0m\u001b[0mravel\u001b[0m\u001b[1;33m(\u001b[0m\u001b[1;33m)\u001b[0m\u001b[1;33m,\u001b[0m \u001b[0mdtype\u001b[0m\u001b[1;33m,\u001b[0m \u001b[0mcopy\u001b[0m\u001b[1;33m=\u001b[0m\u001b[1;32mTrue\u001b[0m\u001b[1;33m)\u001b[0m\u001b[1;33m\u001b[0m\u001b[1;33m\u001b[0m\u001b[0m\n\u001b[0m\u001b[0;32m    634\u001b[0m \u001b[1;33m\u001b[0m\u001b[0m\n\u001b[0;32m    635\u001b[0m                 \u001b[1;31m# TODO(extension)\u001b[0m\u001b[1;33m\u001b[0m\u001b[1;33m\u001b[0m\u001b[1;33m\u001b[0m\u001b[0m\n",
      "\u001b[1;32md:\\ProgramData\\Anaconda3\\lib\\site-packages\\pandas\\core\\dtypes\\cast.py\u001b[0m in \u001b[0;36mastype_nansafe\u001b[1;34m(arr, dtype, copy, skipna)\u001b[0m\n\u001b[0;32m    681\u001b[0m         \u001b[1;31m# work around NumPy brokenness, #1987\u001b[0m\u001b[1;33m\u001b[0m\u001b[1;33m\u001b[0m\u001b[1;33m\u001b[0m\u001b[0m\n\u001b[0;32m    682\u001b[0m         \u001b[1;32mif\u001b[0m \u001b[0mnp\u001b[0m\u001b[1;33m.\u001b[0m\u001b[0missubdtype\u001b[0m\u001b[1;33m(\u001b[0m\u001b[0mdtype\u001b[0m\u001b[1;33m.\u001b[0m\u001b[0mtype\u001b[0m\u001b[1;33m,\u001b[0m \u001b[0mnp\u001b[0m\u001b[1;33m.\u001b[0m\u001b[0minteger\u001b[0m\u001b[1;33m)\u001b[0m\u001b[1;33m:\u001b[0m\u001b[1;33m\u001b[0m\u001b[1;33m\u001b[0m\u001b[0m\n\u001b[1;32m--> 683\u001b[1;33m             \u001b[1;32mreturn\u001b[0m \u001b[0mlib\u001b[0m\u001b[1;33m.\u001b[0m\u001b[0mastype_intsafe\u001b[0m\u001b[1;33m(\u001b[0m\u001b[0marr\u001b[0m\u001b[1;33m.\u001b[0m\u001b[0mravel\u001b[0m\u001b[1;33m(\u001b[0m\u001b[1;33m)\u001b[0m\u001b[1;33m,\u001b[0m \u001b[0mdtype\u001b[0m\u001b[1;33m)\u001b[0m\u001b[1;33m.\u001b[0m\u001b[0mreshape\u001b[0m\u001b[1;33m(\u001b[0m\u001b[0marr\u001b[0m\u001b[1;33m.\u001b[0m\u001b[0mshape\u001b[0m\u001b[1;33m)\u001b[0m\u001b[1;33m\u001b[0m\u001b[1;33m\u001b[0m\u001b[0m\n\u001b[0m\u001b[0;32m    684\u001b[0m \u001b[1;33m\u001b[0m\u001b[0m\n\u001b[0;32m    685\u001b[0m         \u001b[1;31m# if we have a datetime/timedelta array of objects\u001b[0m\u001b[1;33m\u001b[0m\u001b[1;33m\u001b[0m\u001b[1;33m\u001b[0m\u001b[0m\n",
      "\u001b[1;32mpandas/_libs/lib.pyx\u001b[0m in \u001b[0;36mpandas._libs.lib.astype_intsafe\u001b[1;34m()\u001b[0m\n",
      "\u001b[1;31mValueError\u001b[0m: invalid literal for int() with base 10: '\\u200b 796'"
     ]
    }
   ],
   "source": [
    "question_df['agree_num'].astype(int)"
   ]
  },
  {
   "cell_type": "code",
   "execution_count": 172,
   "metadata": {},
   "outputs": [
    {
     "data": {
      "text/plain": [
       "'\\u200b'"
      ]
     },
     "execution_count": 172,
     "metadata": {},
     "output_type": "execute_result"
    }
   ],
   "source": [
    "question_df['agree_num'].sample().iloc[0]"
   ]
  },
  {
   "cell_type": "code",
   "execution_count": 173,
   "metadata": {},
   "outputs": [],
   "source": [
    "question_df['agree_num'] = question_df['agree_num'].str.replace('\\u200b','')"
   ]
  },
  {
   "cell_type": "code",
   "execution_count": 174,
   "metadata": {},
   "outputs": [],
   "source": [
    "question_df['agree_num'] = question_df['agree_num'].replace('','0').astype(int)"
   ]
  },
  {
   "cell_type": "code",
   "execution_count": 175,
   "metadata": {
    "collapsed": true
   },
   "outputs": [
    {
     "data": {
      "text/plain": [
       "0      9500\n",
       "1       796\n",
       "2       301\n",
       "3       119\n",
       "4       215\n",
       "5        61\n",
       "6        74\n",
       "7        12\n",
       "8         2\n",
       "9        11\n",
       "10       42\n",
       "11       12\n",
       "12        9\n",
       "13       47\n",
       "14       33\n",
       "15        4\n",
       "16       14\n",
       "17       67\n",
       "18       37\n",
       "19       86\n",
       "20        3\n",
       "21       39\n",
       "22        9\n",
       "23        8\n",
       "24        7\n",
       "25        9\n",
       "26        3\n",
       "27       17\n",
       "28       12\n",
       "29        5\n",
       "       ... \n",
       "256       0\n",
       "257       0\n",
       "258       0\n",
       "259       0\n",
       "260       3\n",
       "261       2\n",
       "262       0\n",
       "263       0\n",
       "264       0\n",
       "265       0\n",
       "266       0\n",
       "267       0\n",
       "268       1\n",
       "269       1\n",
       "270       1\n",
       "271       1\n",
       "272       1\n",
       "273       2\n",
       "274       1\n",
       "275       0\n",
       "276       0\n",
       "277       0\n",
       "278       0\n",
       "279       0\n",
       "280       0\n",
       "281       0\n",
       "282       0\n",
       "283       0\n",
       "284       0\n",
       "285       5\n",
       "Name: agree_num, Length: 286, dtype: int32"
      ]
     },
     "execution_count": 175,
     "metadata": {},
     "output_type": "execute_result"
    }
   ],
   "source": [
    "question_df['agree_num']"
   ]
  },
  {
   "cell_type": "code",
   "execution_count": 180,
   "metadata": {},
   "outputs": [],
   "source": [
    "question_df['comments_num'] = question_df['comments_num'].str.split(' ').str[0]"
   ]
  },
  {
   "cell_type": "code",
   "execution_count": 189,
   "metadata": {},
   "outputs": [],
   "source": [
    "question_df['comments_num'] = question_df['comments_num'].str.replace('添加评论','0').str.replace(',','').str.replace('\\u200b','').astype(int)"
   ]
  },
  {
   "cell_type": "markdown",
   "metadata": {},
   "source": [
    "### 回答中包含图片的数量"
   ]
  },
  {
   "cell_type": "code",
   "execution_count": 196,
   "metadata": {},
   "outputs": [],
   "source": [
    "def count_img(x):\n",
    "    return (x.count('<img'))"
   ]
  },
  {
   "cell_type": "code",
   "execution_count": 199,
   "metadata": {},
   "outputs": [],
   "source": [
    "question_df['img_nums'] = question_df['answer_content'].apply(count_img)"
   ]
  },
  {
   "cell_type": "markdown",
   "metadata": {},
   "source": [
    "### 回答包含字符数"
   ]
  },
  {
   "cell_type": "code",
   "execution_count": 219,
   "metadata": {},
   "outputs": [],
   "source": [
    "question_df['answer_character_num'] = question_df['answer_content'].apply(lambda x: len(x))"
   ]
  },
  {
   "cell_type": "markdown",
   "metadata": {},
   "source": [
    "### 答案是否编辑"
   ]
  },
  {
   "cell_type": "code",
   "execution_count": 203,
   "metadata": {},
   "outputs": [],
   "source": [
    "question_df['是否二次编辑'] = question_df['post_time'].str[:2].apply(lambda x: 1 if x == '编辑' else 0)"
   ]
  },
  {
   "cell_type": "markdown",
   "metadata": {},
   "source": [
    "### 提取时间"
   ]
  },
  {
   "cell_type": "code",
   "execution_count": 210,
   "metadata": {},
   "outputs": [],
   "source": [
    "question_df['post_time'] = question_df['post_time'].str.split(' ').str[-1]"
   ]
  },
  {
   "cell_type": "code",
   "execution_count": 215,
   "metadata": {},
   "outputs": [],
   "source": [
    "question_df['post_hour'] = pd.to_datetime(question_df['post_time']).dt.hour"
   ]
  },
  {
   "cell_type": "code",
   "execution_count": 220,
   "metadata": {},
   "outputs": [
    {
     "data": {
      "text/html": [
       "<div>\n",
       "<style scoped>\n",
       "    .dataframe tbody tr th:only-of-type {\n",
       "        vertical-align: middle;\n",
       "    }\n",
       "\n",
       "    .dataframe tbody tr th {\n",
       "        vertical-align: top;\n",
       "    }\n",
       "\n",
       "    .dataframe thead th {\n",
       "        text-align: right;\n",
       "    }\n",
       "</style>\n",
       "<table border=\"1\" class=\"dataframe\">\n",
       "  <thead>\n",
       "    <tr style=\"text-align: right;\">\n",
       "      <th></th>\n",
       "      <th>user_name</th>\n",
       "      <th>agree_num</th>\n",
       "      <th>comments_num</th>\n",
       "      <th>answer_content</th>\n",
       "      <th>post_time</th>\n",
       "      <th>img_nums</th>\n",
       "      <th>是否二次编辑</th>\n",
       "      <th>post_hour</th>\n",
       "      <th>answer_character_num</th>\n",
       "    </tr>\n",
       "  </thead>\n",
       "  <tbody>\n",
       "    <tr>\n",
       "      <th>0</th>\n",
       "      <td>青莲长歌</td>\n",
       "      <td>9500</td>\n",
       "      <td>1126</td>\n",
       "      <td>作为研发实验室的一员，对大家关心的几个问题做一个梳理和回答。这个疫苗是什么？有什么用？HPV...</td>\n",
       "      <td>14:50</td>\n",
       "      <td>0</td>\n",
       "      <td>1</td>\n",
       "      <td>14</td>\n",
       "      <td>1669</td>\n",
       "    </tr>\n",
       "    <tr>\n",
       "      <th>1</th>\n",
       "      <td>张四月</td>\n",
       "      <td>796</td>\n",
       "      <td>188</td>\n",
       "      <td>女性福音！重大利好！&lt;img src=\"https://pic1.zhimg.com/50/...</td>\n",
       "      <td>19:16</td>\n",
       "      <td>3</td>\n",
       "      <td>0</td>\n",
       "      <td>19</td>\n",
       "      <td>3127</td>\n",
       "    </tr>\n",
       "    <tr>\n",
       "      <th>2</th>\n",
       "      <td>六层楼</td>\n",
       "      <td>301</td>\n",
       "      <td>83</td>\n",
       "      <td>说说「国产二价HPV疫苗 」的问题。早在我研究生阶段，导师就已经在说国产HPV疫苗的事儿了，...</td>\n",
       "      <td>21:59</td>\n",
       "      <td>1</td>\n",
       "      <td>0</td>\n",
       "      <td>21</td>\n",
       "      <td>881</td>\n",
       "    </tr>\n",
       "    <tr>\n",
       "      <th>3</th>\n",
       "      <td>郑常</td>\n",
       "      <td>119</td>\n",
       "      <td>28</td>\n",
       "      <td>难得热榜上有我专业相关问题。无人邀，自答。这个疫苗的研发成功，是我国疫苗研制的一个重大成功。...</td>\n",
       "      <td>13:00</td>\n",
       "      <td>0</td>\n",
       "      <td>1</td>\n",
       "      <td>13</td>\n",
       "      <td>607</td>\n",
       "    </tr>\n",
       "    <tr>\n",
       "      <th>4</th>\n",
       "      <td>张宙</td>\n",
       "      <td>215</td>\n",
       "      <td>17</td>\n",
       "      <td>我的一个好朋友就在这个公司里面工作，公司与厦门大学合作，只有两百人左右，虽然是在养生堂名下，...</td>\n",
       "      <td>09:08</td>\n",
       "      <td>1</td>\n",
       "      <td>1</td>\n",
       "      <td>9</td>\n",
       "      <td>769</td>\n",
       "    </tr>\n",
       "  </tbody>\n",
       "</table>\n",
       "</div>"
      ],
      "text/plain": [
       "  user_name  agree_num  comments_num  \\\n",
       "0      青莲长歌       9500          1126   \n",
       "1       张四月        796           188   \n",
       "2       六层楼        301            83   \n",
       "3        郑常        119            28   \n",
       "4        张宙        215            17   \n",
       "\n",
       "                                      answer_content post_time  img_nums  \\\n",
       "0  作为研发实验室的一员，对大家关心的几个问题做一个梳理和回答。这个疫苗是什么？有什么用？HPV...     14:50         0   \n",
       "1  女性福音！重大利好！<img src=\"https://pic1.zhimg.com/50/...     19:16         3   \n",
       "2  说说「国产二价HPV疫苗 」的问题。早在我研究生阶段，导师就已经在说国产HPV疫苗的事儿了，...     21:59         1   \n",
       "3  难得热榜上有我专业相关问题。无人邀，自答。这个疫苗的研发成功，是我国疫苗研制的一个重大成功。...     13:00         0   \n",
       "4  我的一个好朋友就在这个公司里面工作，公司与厦门大学合作，只有两百人左右，虽然是在养生堂名下，...     09:08         1   \n",
       "\n",
       "   是否二次编辑  post_hour  answer_character_num  \n",
       "0       1         14                  1669  \n",
       "1       0         19                  3127  \n",
       "2       0         21                   881  \n",
       "3       1         13                   607  \n",
       "4       1          9                   769  "
      ]
     },
     "execution_count": 220,
     "metadata": {},
     "output_type": "execute_result"
    }
   ],
   "source": [
    "question_df.head()"
   ]
  },
  {
   "cell_type": "markdown",
   "metadata": {},
   "source": [
    "## 分析及可视化"
   ]
  },
  {
   "cell_type": "code",
   "execution_count": 277,
   "metadata": {},
   "outputs": [],
   "source": [
    "import seaborn as sns\n",
    "import matplotlib.pyplot as plt\n",
    "\n",
    "plt.rcParams['font.sans-serif']=['simhei']#simhei为‘黑体’\n",
    "plt.rcParams['axes.unicode_minus']=False\n",
    "\n",
    "%matplotlib inline"
   ]
  },
  {
   "cell_type": "markdown",
   "metadata": {},
   "source": [
    "### 获赞"
   ]
  },
  {
   "cell_type": "code",
   "execution_count": 227,
   "metadata": {},
   "outputs": [
    {
     "data": {
      "text/plain": [
       "count     286.000000\n",
       "mean       41.150350\n",
       "std       563.768425\n",
       "min         0.000000\n",
       "25%         0.000000\n",
       "50%         0.000000\n",
       "75%         1.000000\n",
       "max      9500.000000\n",
       "Name: agree_num, dtype: float64"
      ]
     },
     "execution_count": 227,
     "metadata": {},
     "output_type": "execute_result"
    }
   ],
   "source": [
    "question_df['agree_num'].describe()"
   ]
  },
  {
   "cell_type": "code",
   "execution_count": 224,
   "metadata": {},
   "outputs": [
    {
     "data": {
      "image/png": "[encoded data removed]",
      "text/plain": [
       "<Figure size 432x288 with 1 Axes>"
      ]
     },
     "metadata": {
      "needs_background": "light"
     },
     "output_type": "display_data"
    }
   ],
   "source": [
    "question_df['agree_num'].plot(kind='hist',bins=100);"
   ]
  },
  {
   "cell_type": "code",
   "execution_count": 226,
   "metadata": {},
   "outputs": [
    {
     "data": {
      "image/png": "[encoded data removed]",
      "text/plain": [
       "<Figure size 432x288 with 1 Axes>"
      ]
     },
     "metadata": {
      "needs_background": "light"
     },
     "output_type": "display_data"
    }
   ],
   "source": [
    "question_df['agree_num'].plot(kind='box');"
   ]
  },
  {
   "cell_type": "code",
   "execution_count": 231,
   "metadata": {},
   "outputs": [
    {
     "data": {
      "text/plain": [
       "0.6643356643356644"
      ]
     },
     "execution_count": 231,
     "metadata": {},
     "output_type": "execute_result"
    }
   ],
   "source": [
    "(question_df['agree_num']==0).sum()/question_df.shape[0]"
   ]
  },
  {
   "cell_type": "code",
   "execution_count": 236,
   "metadata": {},
   "outputs": [
    {
     "data": {
      "text/plain": [
       "0.8072053700399354"
      ]
     },
     "execution_count": 236,
     "metadata": {},
     "output_type": "execute_result"
    }
   ],
   "source": [
    "question_df['agree_num'].max()/question_df['agree_num'].sum()"
   ]
  },
  {
   "cell_type": "code",
   "execution_count": 239,
   "metadata": {},
   "outputs": [
    {
     "data": {
      "image/png": "[encoded data removed]",
      "text/plain": [
       "<Figure size 432x288 with 1 Axes>"
      ]
     },
     "metadata": {},
     "output_type": "display_data"
    }
   ],
   "source": [
    "question_df['agree_num'].plot(kind='pie');"
   ]
  },
  {
   "cell_type": "markdown",
   "metadata": {},
   "source": [
    "### 评论数量"
   ]
  },
  {
   "cell_type": "code",
   "execution_count": 233,
   "metadata": {},
   "outputs": [
    {
     "data": {
      "text/plain": [
       "count     286.000000\n",
       "mean        6.993007\n",
       "std        67.766834\n",
       "min         0.000000\n",
       "25%         0.000000\n",
       "50%         0.000000\n",
       "75%         1.000000\n",
       "max      1126.000000\n",
       "Name: comments_num, dtype: float64"
      ]
     },
     "execution_count": 233,
     "metadata": {},
     "output_type": "execute_result"
    }
   ],
   "source": [
    "question_df['comments_num'].describe()"
   ]
  },
  {
   "cell_type": "code",
   "execution_count": 234,
   "metadata": {},
   "outputs": [
    {
     "data": {
      "text/plain": [
       "0.6118881118881119"
      ]
     },
     "execution_count": 234,
     "metadata": {},
     "output_type": "execute_result"
    }
   ],
   "source": [
    "(question_df['comments_num']==0).sum()/question_df.shape[0]"
   ]
  },
  {
   "cell_type": "code",
   "execution_count": 237,
   "metadata": {
    "scrolled": true
   },
   "outputs": [
    {
     "data": {
      "text/plain": [
       "0.563"
      ]
     },
     "execution_count": 237,
     "metadata": {},
     "output_type": "execute_result"
    }
   ],
   "source": [
    "question_df['comments_num'].max()/question_df['comments_num'].sum()"
   ]
  },
  {
   "cell_type": "code",
   "execution_count": 240,
   "metadata": {},
   "outputs": [
    {
     "data": {
      "image/png": "[encoded data removed]",
      "text/plain": [
       "<Figure size 432x288 with 1 Axes>"
      ]
     },
     "metadata": {},
     "output_type": "display_data"
    }
   ],
   "source": [
    "question_df['comments_num'].plot(kind='pie');"
   ]
  },
  {
   "cell_type": "markdown",
   "metadata": {},
   "source": [
    "### 图片数量"
   ]
  },
  {
   "cell_type": "code",
   "execution_count": 244,
   "metadata": {},
   "outputs": [
    {
     "data": {
      "text/plain": [
       "count    286.000000\n",
       "mean       0.234266\n",
       "std        0.819294\n",
       "min        0.000000\n",
       "25%        0.000000\n",
       "50%        0.000000\n",
       "75%        0.000000\n",
       "max        7.000000\n",
       "Name: img_nums, dtype: float64"
      ]
     },
     "execution_count": 244,
     "metadata": {},
     "output_type": "execute_result"
    }
   ],
   "source": [
    "question_df['img_nums'].describe()"
   ]
  },
  {
   "cell_type": "code",
   "execution_count": 242,
   "metadata": {
    "scrolled": true
   },
   "outputs": [
    {
     "data": {
      "text/plain": [
       "35"
      ]
     },
     "execution_count": 242,
     "metadata": {},
     "output_type": "execute_result"
    }
   ],
   "source": [
    "(question_df['img_nums']>0).sum()"
   ]
  },
  {
   "cell_type": "code",
   "execution_count": 245,
   "metadata": {},
   "outputs": [
    {
     "data": {
      "text/html": [
       "<div>\n",
       "<style scoped>\n",
       "    .dataframe tbody tr th:only-of-type {\n",
       "        vertical-align: middle;\n",
       "    }\n",
       "\n",
       "    .dataframe tbody tr th {\n",
       "        vertical-align: top;\n",
       "    }\n",
       "\n",
       "    .dataframe thead th {\n",
       "        text-align: right;\n",
       "    }\n",
       "</style>\n",
       "<table border=\"1\" class=\"dataframe\">\n",
       "  <thead>\n",
       "    <tr style=\"text-align: right;\">\n",
       "      <th></th>\n",
       "      <th>img_nums</th>\n",
       "      <th>agree_num</th>\n",
       "      <th>comments_num</th>\n",
       "    </tr>\n",
       "  </thead>\n",
       "  <tbody>\n",
       "    <tr>\n",
       "      <th>img_nums</th>\n",
       "      <td>1.000000</td>\n",
       "      <td>0.002734</td>\n",
       "      <td>0.017662</td>\n",
       "    </tr>\n",
       "    <tr>\n",
       "      <th>agree_num</th>\n",
       "      <td>0.002734</td>\n",
       "      <td>1.000000</td>\n",
       "      <td>0.993023</td>\n",
       "    </tr>\n",
       "    <tr>\n",
       "      <th>comments_num</th>\n",
       "      <td>0.017662</td>\n",
       "      <td>0.993023</td>\n",
       "      <td>1.000000</td>\n",
       "    </tr>\n",
       "  </tbody>\n",
       "</table>\n",
       "</div>"
      ],
      "text/plain": [
       "              img_nums  agree_num  comments_num\n",
       "img_nums      1.000000   0.002734      0.017662\n",
       "agree_num     0.002734   1.000000      0.993023\n",
       "comments_num  0.017662   0.993023      1.000000"
      ]
     },
     "execution_count": 245,
     "metadata": {},
     "output_type": "execute_result"
    }
   ],
   "source": [
    "question_df[['img_nums','agree_num','comments_num']].corr()"
   ]
  },
  {
   "cell_type": "markdown",
   "metadata": {},
   "source": [
    "### 是否有二次编辑"
   ]
  },
  {
   "cell_type": "code",
   "execution_count": 247,
   "metadata": {},
   "outputs": [
    {
     "data": {
      "text/plain": [
       "0.17482517482517482"
      ]
     },
     "execution_count": 247,
     "metadata": {},
     "output_type": "execute_result"
    }
   ],
   "source": [
    "question_df['是否二次编辑'].mean()"
   ]
  },
  {
   "cell_type": "code",
   "execution_count": 251,
   "metadata": {},
   "outputs": [
    {
     "data": {
      "text/html": [
       "<div>\n",
       "<style scoped>\n",
       "    .dataframe tbody tr th:only-of-type {\n",
       "        vertical-align: middle;\n",
       "    }\n",
       "\n",
       "    .dataframe tbody tr th {\n",
       "        vertical-align: top;\n",
       "    }\n",
       "\n",
       "    .dataframe thead th {\n",
       "        text-align: right;\n",
       "    }\n",
       "</style>\n",
       "<table border=\"1\" class=\"dataframe\">\n",
       "  <thead>\n",
       "    <tr style=\"text-align: right;\">\n",
       "      <th></th>\n",
       "      <th>agree_num</th>\n",
       "      <th>comments_num</th>\n",
       "    </tr>\n",
       "  </thead>\n",
       "  <tbody>\n",
       "    <tr>\n",
       "      <th>count</th>\n",
       "      <td>50.000000</td>\n",
       "      <td>50.000000</td>\n",
       "    </tr>\n",
       "    <tr>\n",
       "      <th>mean</th>\n",
       "      <td>205.680000</td>\n",
       "      <td>28.480000</td>\n",
       "    </tr>\n",
       "    <tr>\n",
       "      <th>std</th>\n",
       "      <td>1341.788944</td>\n",
       "      <td>158.864625</td>\n",
       "    </tr>\n",
       "    <tr>\n",
       "      <th>min</th>\n",
       "      <td>0.000000</td>\n",
       "      <td>0.000000</td>\n",
       "    </tr>\n",
       "    <tr>\n",
       "      <th>25%</th>\n",
       "      <td>0.000000</td>\n",
       "      <td>0.000000</td>\n",
       "    </tr>\n",
       "    <tr>\n",
       "      <th>50%</th>\n",
       "      <td>1.500000</td>\n",
       "      <td>1.000000</td>\n",
       "    </tr>\n",
       "    <tr>\n",
       "      <th>75%</th>\n",
       "      <td>7.750000</td>\n",
       "      <td>5.000000</td>\n",
       "    </tr>\n",
       "    <tr>\n",
       "      <th>max</th>\n",
       "      <td>9500.000000</td>\n",
       "      <td>1126.000000</td>\n",
       "    </tr>\n",
       "  </tbody>\n",
       "</table>\n",
       "</div>"
      ],
      "text/plain": [
       "         agree_num  comments_num\n",
       "count    50.000000     50.000000\n",
       "mean    205.680000     28.480000\n",
       "std    1341.788944    158.864625\n",
       "min       0.000000      0.000000\n",
       "25%       0.000000      0.000000\n",
       "50%       1.500000      1.000000\n",
       "75%       7.750000      5.000000\n",
       "max    9500.000000   1126.000000"
      ]
     },
     "execution_count": 251,
     "metadata": {},
     "output_type": "execute_result"
    }
   ],
   "source": [
    "question_df[question_df['是否二次编辑'] == 1][['agree_num','comments_num']].describe()"
   ]
  },
  {
   "cell_type": "code",
   "execution_count": 252,
   "metadata": {},
   "outputs": [
    {
     "data": {
      "text/html": [
       "<div>\n",
       "<style scoped>\n",
       "    .dataframe tbody tr th:only-of-type {\n",
       "        vertical-align: middle;\n",
       "    }\n",
       "\n",
       "    .dataframe tbody tr th {\n",
       "        vertical-align: top;\n",
       "    }\n",
       "\n",
       "    .dataframe thead th {\n",
       "        text-align: right;\n",
       "    }\n",
       "</style>\n",
       "<table border=\"1\" class=\"dataframe\">\n",
       "  <thead>\n",
       "    <tr style=\"text-align: right;\">\n",
       "      <th></th>\n",
       "      <th>agree_num</th>\n",
       "      <th>comments_num</th>\n",
       "    </tr>\n",
       "  </thead>\n",
       "  <tbody>\n",
       "    <tr>\n",
       "      <th>count</th>\n",
       "      <td>236.000000</td>\n",
       "      <td>236.000000</td>\n",
       "    </tr>\n",
       "    <tr>\n",
       "      <th>mean</th>\n",
       "      <td>6.292373</td>\n",
       "      <td>2.440678</td>\n",
       "    </tr>\n",
       "    <tr>\n",
       "      <th>std</th>\n",
       "      <td>55.474312</td>\n",
       "      <td>13.711646</td>\n",
       "    </tr>\n",
       "    <tr>\n",
       "      <th>min</th>\n",
       "      <td>0.000000</td>\n",
       "      <td>0.000000</td>\n",
       "    </tr>\n",
       "    <tr>\n",
       "      <th>25%</th>\n",
       "      <td>0.000000</td>\n",
       "      <td>0.000000</td>\n",
       "    </tr>\n",
       "    <tr>\n",
       "      <th>50%</th>\n",
       "      <td>0.000000</td>\n",
       "      <td>0.000000</td>\n",
       "    </tr>\n",
       "    <tr>\n",
       "      <th>75%</th>\n",
       "      <td>1.000000</td>\n",
       "      <td>1.000000</td>\n",
       "    </tr>\n",
       "    <tr>\n",
       "      <th>max</th>\n",
       "      <td>796.000000</td>\n",
       "      <td>188.000000</td>\n",
       "    </tr>\n",
       "  </tbody>\n",
       "</table>\n",
       "</div>"
      ],
      "text/plain": [
       "        agree_num  comments_num\n",
       "count  236.000000    236.000000\n",
       "mean     6.292373      2.440678\n",
       "std     55.474312     13.711646\n",
       "min      0.000000      0.000000\n",
       "25%      0.000000      0.000000\n",
       "50%      0.000000      0.000000\n",
       "75%      1.000000      1.000000\n",
       "max    796.000000    188.000000"
      ]
     },
     "execution_count": 252,
     "metadata": {},
     "output_type": "execute_result"
    }
   ],
   "source": [
    "question_df[question_df['是否二次编辑'] == 0][['agree_num','comments_num']].describe()"
   ]
  },
  {
   "cell_type": "code",
   "execution_count": 280,
   "metadata": {},
   "outputs": [],
   "source": [
    "def double_edit_plot(col_name):\n",
    "    yes = pd.DataFrame(question_df[question_df['是否二次编辑'] == 1][col_name].describe()).reset_index()\n",
    "    yes['是否二次编辑'] = '是'\n",
    "    yes = yes.reset_index(drop=True)\n",
    "    \n",
    "    no = pd.DataFrame(question_df[question_df['是否二次编辑'] == 0][col_name].describe()).reset_index()\n",
    "    no['是否二次编辑'] = '否'\n",
    "    no = no.reset_index(drop=True)    \n",
    "    \n",
    "    data = yes.append(no).reset_index(drop=True)\n",
    "    \n",
    "    sns.barplot(x='index',y=col_name,data=data,hue='是否二次编辑');\n",
    "#     return data"
   ]
  },
  {
   "cell_type": "code",
   "execution_count": 282,
   "metadata": {},
   "outputs": [
    {
     "data": {
      "image/png": "[encoded data removed]",
      "text/plain": [
       "<Figure size 432x288 with 1 Axes>"
      ]
     },
     "metadata": {
      "needs_background": "light"
     },
     "output_type": "display_data"
    }
   ],
   "source": [
    "double_edit_plot('agree_num')"
   ]
  },
  {
   "cell_type": "code",
   "execution_count": 283,
   "metadata": {},
   "outputs": [
    {
     "data": {
      "image/png": "[encoded data removed]",
      "text/plain": [
       "<Figure size 432x288 with 1 Axes>"
      ]
     },
     "metadata": {
      "needs_background": "light"
     },
     "output_type": "display_data"
    }
   ],
   "source": [
    "double_edit_plot('comments_num')"
   ]
  },
  {
   "cell_type": "markdown",
   "metadata": {},
   "source": [
    "### 发布时间"
   ]
  },
  {
   "cell_type": "code",
   "execution_count": 286,
   "metadata": {},
   "outputs": [
    {
     "data": {
      "image/png": "[encoded data removed]",
      "text/plain": [
       "<Figure size 432x288 with 1 Axes>"
      ]
     },
     "metadata": {
      "needs_background": "light"
     },
     "output_type": "display_data"
    }
   ],
   "source": [
    "question_df['post_hour'].value_counts().sort_index().plot(kind='bar');"
   ]
  },
  {
   "cell_type": "markdown",
   "metadata": {},
   "source": [
    "### 字符数"
   ]
  },
  {
   "cell_type": "code",
   "execution_count": 289,
   "metadata": {},
   "outputs": [
    {
     "data": {
      "image/png": "[encoded data removed]",
      "text/plain": [
       "<Figure size 432x288 with 1 Axes>"
      ]
     },
     "metadata": {
      "needs_background": "light"
     },
     "output_type": "display_data"
    }
   ],
   "source": [
    "question_df['answer_character_num'].plot(kind='hist');"
   ]
  },
  {
   "cell_type": "markdown",
   "metadata": {},
   "source": [
    "### 相关性"
   ]
  },
  {
   "cell_type": "code",
   "execution_count": 293,
   "metadata": {},
   "outputs": [
    {
     "data": {
      "text/html": [
       "<div>\n",
       "<style scoped>\n",
       "    .dataframe tbody tr th:only-of-type {\n",
       "        vertical-align: middle;\n",
       "    }\n",
       "\n",
       "    .dataframe tbody tr th {\n",
       "        vertical-align: top;\n",
       "    }\n",
       "\n",
       "    .dataframe thead th {\n",
       "        text-align: right;\n",
       "    }\n",
       "</style>\n",
       "<table border=\"1\" class=\"dataframe\">\n",
       "  <thead>\n",
       "    <tr style=\"text-align: right;\">\n",
       "      <th></th>\n",
       "      <th>agree_num</th>\n",
       "      <th>comments_num</th>\n",
       "      <th>img_nums</th>\n",
       "      <th>answer_character_num</th>\n",
       "    </tr>\n",
       "  </thead>\n",
       "  <tbody>\n",
       "    <tr>\n",
       "      <th>agree_num</th>\n",
       "      <td>1.000000</td>\n",
       "      <td>0.993023</td>\n",
       "      <td>0.002734</td>\n",
       "      <td>0.203451</td>\n",
       "    </tr>\n",
       "    <tr>\n",
       "      <th>comments_num</th>\n",
       "      <td>0.993023</td>\n",
       "      <td>1.000000</td>\n",
       "      <td>0.017662</td>\n",
       "      <td>0.234900</td>\n",
       "    </tr>\n",
       "    <tr>\n",
       "      <th>img_nums</th>\n",
       "      <td>0.002734</td>\n",
       "      <td>0.017662</td>\n",
       "      <td>1.000000</td>\n",
       "      <td>0.896482</td>\n",
       "    </tr>\n",
       "    <tr>\n",
       "      <th>answer_character_num</th>\n",
       "      <td>0.203451</td>\n",
       "      <td>0.234900</td>\n",
       "      <td>0.896482</td>\n",
       "      <td>1.000000</td>\n",
       "    </tr>\n",
       "  </tbody>\n",
       "</table>\n",
       "</div>"
      ],
      "text/plain": [
       "                      agree_num  comments_num  img_nums  answer_character_num\n",
       "agree_num              1.000000      0.993023  0.002734              0.203451\n",
       "comments_num           0.993023      1.000000  0.017662              0.234900\n",
       "img_nums               0.002734      0.017662  1.000000              0.896482\n",
       "answer_character_num   0.203451      0.234900  0.896482              1.000000"
      ]
     },
     "execution_count": 293,
     "metadata": {},
     "output_type": "execute_result"
    }
   ],
   "source": [
    "question_df[['agree_num', 'comments_num','img_nums','answer_character_num']].corr()"
   ]
  },
  {
   "cell_type": "markdown",
   "metadata": {},
   "source": [
    "### 分词（选学）"
   ]
  },
  {
   "cell_type": "code",
   "execution_count": 311,
   "metadata": {},
   "outputs": [],
   "source": [
    "import jieba\n",
    "import collections"
   ]
  },
  {
   "cell_type": "code",
   "execution_count": 296,
   "metadata": {},
   "outputs": [
    {
     "name": "stderr",
     "output_type": "stream",
     "text": [
      "Building prefix dict from the default dictionary ...\n",
      "Loading model from cache C:\\Users\\ADMINI~1\\AppData\\Local\\Temp\\jieba.cache\n",
      "Loading model cost 0.850 seconds.\n",
      "Prefix dict has been built succesfully.\n"
     ]
    },
    {
     "name": "stdout",
     "output_type": "stream",
     "text": [
      "他, 来到, 了, 网易, 杭研, 大厦\n"
     ]
    }
   ],
   "source": [
    "seg_list = jieba.cut(\"他来到了网易杭研大厦\")\n",
    "print(\", \".join(seg_list))"
   ]
  },
  {
   "cell_type": "code",
   "execution_count": 304,
   "metadata": {},
   "outputs": [],
   "source": [
    "temp = question_df['answer_content'][0]"
   ]
  },
  {
   "cell_type": "code",
   "execution_count": 309,
   "metadata": {
    "scrolled": false
   },
   "outputs": [],
   "source": [
    "seg_list = jieba.cut(temp)\n",
    "seg_string = \", \".join(seg_list)\n",
    "results = seg_string.split(',')"
   ]
  },
  {
   "cell_type": "code",
   "execution_count": 314,
   "metadata": {},
   "outputs": [],
   "source": [
    "results_dict = dict(collections.Counter(results))"
   ]
  },
  {
   "cell_type": "code",
   "execution_count": 324,
   "metadata": {},
   "outputs": [],
   "source": [
    "#按照value进行排序\n",
    "results_dict = {k: v for k, v in sorted(results_dict.items(), key=lambda item: item[1], reverse=True)}"
   ]
  },
  {
   "cell_type": "code",
   "execution_count": 325,
   "metadata": {},
   "outputs": [
    {
     "data": {
      "text/plain": [
       "{' 的': 70,\n",
       " ' ，': 55,\n",
       " ' 。': 52,\n",
       " ' 疫苗': 19,\n",
       " ' 是': 18,\n",
       " ' ？': 17,\n",
       " ' 了': 13,\n",
       " ' 宫颈癌': 10,\n",
       " ' 价': 10,\n",
       " ' 在': 10}"
      ]
     },
     "execution_count": 325,
     "metadata": {},
     "output_type": "execute_result"
    }
   ],
   "source": [
    "#筛选前十个\n",
    "{item[0]:item[1] for i,item in enumerate(results_dict.items()) if i < 10}"
   ]
  },
  {
   "cell_type": "code",
   "execution_count": 329,
   "metadata": {},
   "outputs": [],
   "source": [
    "def get_words_num(temp):\n",
    "    seg_list = jieba.cut(temp)\n",
    "    seg_string = \", \".join(seg_list)\n",
    "    results = seg_string.split(',')\n",
    "    results_dict = dict(collections.Counter(results))\n",
    "    #按照value进行排序\n",
    "    results_dict = {k: v for k, v in sorted(results_dict.items(), key=lambda item: item[1], reverse=True)}\n",
    "    #筛选前十个\n",
    "    return({item[0]:item[1] for i,item in enumerate(results_dict.items()) if i < 10})\n",
    "    "
   ]
  },
  {
   "cell_type": "code",
   "execution_count": 330,
   "metadata": {},
   "outputs": [
    {
     "data": {
      "text/plain": [
       "0      {' 的': 70, ' ，': 55, ' 。': 52, ' 疫苗': 19, ' 是'...\n",
       "1      {' 的': 56, '  ': 54, ' \"': 54, ' ，': 53, ' 。':...\n",
       "2      {' ，': 25, ' 的': 20, ' \"': 16, ' -': 15, ' .':...\n",
       "3      {' ，': 39, ' 的': 28, ' 疫苗': 13, ' 。': 12, ' 价'...\n",
       "4      {' ，': 21, ' 的': 20, ' \"': 16, ' /': 12, ' -':...\n",
       "5      {' ，': 31, ' 疫苗': 26, ' 的': 21, ' \"': 16, ' 。'...\n",
       "6      {' ，': 23, ' 的': 13, ' 疫苗': 11, ' 接种': 7, ' 价'...\n",
       "7      {' \"': 32, '  ': 26, ' /': 24, ' -': 24, ' .':...\n",
       "8      {' ，': 118, ' \"': 78, ' 的': 74, ' /': 58, ' 。'...\n",
       "9      {' \"': 46, ' /': 33, ' -': 32, '  ': 29, ' .':...\n",
       "10     {' ，': 11, ' 的': 9, '  ': 7, ' /': 7, ' 。': 6,...\n",
       "11     {'  ': 11, ' ，': 9, ' 的': 7, ' 疫苗': 6, ' 。': 5...\n",
       "12     {' ，': 10, ' 的': 8, ' 。': 5, ' 产品': 2, ' 进口': ...\n",
       "13     {' ，': 7, ' 。': 6, ' 疫苗': 5, ' 去': 4, ' 香港': 3...\n",
       "14     {' ，': 18, ' 的': 9, ' 安全': 6, ' 疫苗': 6, ' 。': ...\n",
       "15     {' 的': 2, ' 打': 2, '  ': 2, '两千多': 1, ' 时候': 1...\n",
       "16     {' ，': 13, ' 了': 5, ' 的': 4, ' 不': 3, ' 研发': 3...\n",
       "17     {' ，': 29, ' 的': 18, ' 。': 13, ' 我们': 10, ' 是'...\n",
       "18     {' ，': 5, ' 。': 4, ' “': 3, ' 的': 3, ' ”': 3, ...\n",
       "19     {' 的': 30, ' ，': 25, ' 。': 15, ' 我': 7, ' 疫苗':...\n",
       "20     {' ，': 6, '了不起': 1, ' 自己': 1, ' 研发': 1, ' 的': ...\n",
       "21     {' ，': 23, ' -': 18, ' 的': 13, ' 。': 7, ' 是': ...\n",
       "22     {' \"': 14, ' 的': 11, ' ，': 10, ' /': 9, ' -': ...\n",
       "23     {' \"': 16, ' /': 12, ' -': 12, '  ': 9, ' .': ...\n",
       "24     {' ，': 15, ' 的': 9, ' 。': 3, ' 不': 3, ' ？': 3,...\n",
       "25     {' ，': 31, ' ？': 18, ' 了': 12, ' 我': 10, ' 说':...\n",
       "26     {' ？': 2, ' ！': 2, ' 比': 2, ' 便宜': 2, ' ，': 2,...\n",
       "27     {' 。': 2, '说真的': 1, ' ，': 1, ' 不敢': 1, ' 用': 1...\n",
       "28     {'希望': 1, ' 研发': 1, ' 的': 1, ' 实验': 1, ' 数据': ...\n",
       "29     {' 了': 2, '可惜': 1, ' 老': 1, ' 阿姨': 1, ' 等': 1,...\n",
       "                             ...                        \n",
       "256    {' ！': 2, '第三': 1, ' 针': 1, ' 进口': 1, ' HPV': ...\n",
       "257    {'  ': 16, ' \"': 16, ' /': 12, ' -': 12, ' .':...\n",
       "258    {' ，': 4, '希望': 1, ' 国产': 1, ' 九价': 1, ' 也': 1...\n",
       "259    {' 打': 2, '我': 1, ' 的': 1, ' 1333': 1, ' 啊啊啊':...\n",
       "260    {' 的': 2, ' ，': 2, '要': 1, ' 对': 1, ' 我们': 1, ...\n",
       "261    {' \"': 48, ' /': 36, ' -': 36, '  ': 29, ' .':...\n",
       "262    {' 的': 34, ' ，': 18, ' 。': 11, ' 疫苗': 10, ' 是'...\n",
       "263    {' ？': 2, '国产': 1, ' 疫苗': 1, ' 吗': 1, ' 长春': 1...\n",
       "264    {' 的': 3, ' ，': 2, '看看': 1, ' 就': 1, ' 好': 1, ...\n",
       "265    {'难到': 1, ' 只有': 1, ' 我': 1, ' 是': 1, ' 第一眼': ...\n",
       "266                {'国产': 1, ' 的': 1, ' 不': 1, ' 放心': 1}\n",
       "267    {'  ': 4, ' 疫苗': 3, ' 的': 2, '别急': 1, ' 着': 1,...\n",
       "268    {' 的': 5, ' ，': 4, ' 对': 2, ' 信心': 2, ' 阿尔兹': ...\n",
       "269    {' 。': 7, ' 的': 2, '说实话': 1, ' ，': 1, ' 个人': 1...\n",
       "270    {' ，': 4, ' 的': 3, ' 不': 3, ' 你': 2, ' 用': 2, ...\n",
       "271    {' 。': 3, '以后': 1, ' 不': 1, ' 孕育': 1, ' 者': 1,...\n",
       "272    {' ，': 5, ' 的': 3, ' 了': 2, '这是': 1, ' 二价': 1,...\n",
       "273    {' ，': 3, ' 的': 2, '挺': 1, ' 好': 1, ' 对': 1, '...\n",
       "274    {' 了': 3, ' 什么': 3, ' ，': 3, ' 我': 2, '我': 1, ...\n",
       "275                                            {'好事': 1}\n",
       "276    {' \"': 32, ' -': 25, ' /': 24, '  ': 19, ' .':...\n",
       "277    {' 重点': 2, '多少': 1, ' 钱': 1, ' 也': 1, ' 不是': 1...\n",
       "278    {' ！': 2, ' ，': 2, ' 比': 2, '祝贺': 1, ' 但是': 1,...\n",
       "279    {'真': 1, ' 便宜': 1, ' ，': 1, ' 最好': 1, ' 是': 1,...\n",
       "280    {' ？': 2, '在': 1, ' 哪能': 1, ' 打': 1, ' 怎么': 1,...\n",
       "281    {' ！': 2, '希望': 1, ' 能': 1, ' 快快': 1, ' 约': 1,...\n",
       "282    {' “': 4, ' ，': 4, ' ”': 4, ' :': 3, ' 接种': 2,...\n",
       "283    {' ，': 4, ' 二价': 3, ' 有': 3, ' …': 2, '广州': 1,...\n",
       "284    {'我': 1, ' 觉得': 1, ' 我': 1, ' 是': 1, ' 看好': 1,...\n",
       "285    {'想': 1, ' 知道': 1, ' 有效期': 1, ' 多久': 1, ' ，': ...\n",
       "Name: answer_content, Length: 286, dtype: object"
      ]
     },
     "execution_count": 330,
     "metadata": {},
     "output_type": "execute_result"
    }
   ],
   "source": [
    "question_df['answer_content'].apply(get_words_num)"
   ]
  },
  {
   "cell_type": "markdown",
   "metadata": {},
   "source": [
    "- 停用词\n",
    "- 添加词汇，如“9价”，“4价”等等"
   ]
  },
  {
   "cell_type": "markdown",
   "metadata": {},
   "source": [
    "此外还可以尝试做词云等等"
   ]
  },
  {
   "cell_type": "markdown",
   "metadata": {},
   "source": [
    "![](https://s2.ax1x.com/2019/05/28/VesI3t.png)"
   ]
  }
 ],
 "metadata": {
  "kernelspec": {
   "display_name": "Python 3",
   "language": "python",
   "name": "python3"
  },
  "language_info": {
   "codemirror_mode": {
    "name": "ipython",
    "version": 3
   },
   "file_extension": ".py",
   "mimetype": "text/x-python",
   "name": "python",
   "nbconvert_exporter": "python",
   "pygments_lexer": "ipython3",
   "version": "3.6.8"
  },
  "toc": {
   "base_numbering": 1,
   "nav_menu": {},
   "number_sections": true,
   "sideBar": true,
   "skip_h1_title": false,
   "title_cell": "Table of Contents",
   "title_sidebar": "Contents",
   "toc_cell": false,
   "toc_position": {
    "height": "calc(100% - 180px)",
    "left": "10px",
    "top": "150px",
    "width": "271px"
   },
   "toc_section_display": true,
   "toc_window_display": true
  }
 },
 "nbformat": 4,
 "nbformat_minor": 2
}
