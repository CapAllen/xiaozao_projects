{
 "cells": [
  {
   "cell_type": "markdown",
   "metadata": {},
   "source": [
    "## 导入包及数据"
   ]
  },
  {
   "cell_type": "code",
   "execution_count": null,
   "metadata": {},
   "outputs": [],
   "source": [
    "import pandas as pd\n",
    "import numpy as np\n",
    "import matplotlib.pyplot as plt\n",
    "\n",
    "import seaborn as sns\n",
    "\n",
    "%matplotlib inline"
   ]
  },
  {
   "cell_type": "code",
   "execution_count": null,
   "metadata": {},
   "outputs": [],
   "source": [
    "df = pd.read_csv('./data/天猫数据.csv')"
   ]
  },
  {
   "cell_type": "code",
   "execution_count": null,
   "metadata": {},
   "outputs": [],
   "source": [
    "describe_df = pd.read_excel('./data/defintion.xlsx')"
   ]
  },
  {
   "cell_type": "code",
   "execution_count": null,
   "metadata": {},
   "outputs": [],
   "source": [
    "df.head()"
   ]
  },
  {
   "cell_type": "code",
   "execution_count": null,
   "metadata": {},
   "outputs": [],
   "source": [
    "describe_df"
   ]
  },
  {
   "cell_type": "code",
   "execution_count": null,
   "metadata": {},
   "outputs": [],
   "source": [
    "df.shape"
   ]
  },
  {
   "cell_type": "code",
   "execution_count": null,
   "metadata": {},
   "outputs": [],
   "source": [
    "df.info()"
   ]
  },
  {
   "cell_type": "code",
   "execution_count": null,
   "metadata": {},
   "outputs": [],
   "source": [
    "df.describe(include='all')"
   ]
  },
  {
   "cell_type": "markdown",
   "metadata": {},
   "source": [
    "## EDA"
   ]
  },
  {
   "cell_type": "markdown",
   "metadata": {},
   "source": [
    "- 目标列"
   ]
  },
  {
   "cell_type": "code",
   "execution_count": null,
   "metadata": {},
   "outputs": [],
   "source": [
    "df['coupon_ind'].value_counts().plot(kind='bar');"
   ]
  },
  {
   "cell_type": "markdown",
   "metadata": {},
   "source": [
    "- age"
   ]
  },
  {
   "cell_type": "code",
   "execution_count": null,
   "metadata": {},
   "outputs": [],
   "source": [
    "df['age'].plot(kind='hist',bins=100);"
   ]
  },
  {
   "cell_type": "code",
   "execution_count": null,
   "metadata": {},
   "outputs": [],
   "source": [
    "df[df['coupon_ind']==0]['age'].plot(kind='hist',bins=20,density=True,alpha=0.5); #未使用优惠券 蓝色\n",
    "df[df['coupon_ind']==1]['age'].plot(kind='hist',bins=20,density=True,alpha=0.5); #使用优惠券 橙色"
   ]
  },
  {
   "cell_type": "markdown",
   "metadata": {},
   "source": [
    "- job"
   ]
  },
  {
   "cell_type": "code",
   "execution_count": null,
   "metadata": {},
   "outputs": [],
   "source": [
    "df['job'].value_counts().plot(kind='bar');"
   ]
  },
  {
   "cell_type": "code",
   "execution_count": null,
   "metadata": {},
   "outputs": [],
   "source": [
    "df.groupby('job')['coupon_ind'].value_counts()"
   ]
  },
  {
   "cell_type": "code",
   "execution_count": null,
   "metadata": {},
   "outputs": [],
   "source": [
    "df.groupby('job')['coupon_ind'].apply(lambda x:x.value_counts()/x.count()).plot(kind='barh');"
   ]
  },
  {
   "cell_type": "markdown",
   "metadata": {},
   "source": [
    "- marital"
   ]
  },
  {
   "cell_type": "code",
   "execution_count": null,
   "metadata": {},
   "outputs": [],
   "source": [
    "df['marital'].value_counts().plot(kind='bar');"
   ]
  },
  {
   "cell_type": "code",
   "execution_count": null,
   "metadata": {},
   "outputs": [],
   "source": [
    "df.groupby('marital')['coupon_ind'].apply(lambda x:x.value_counts()/x.count()).plot(kind='barh');"
   ]
  },
  {
   "cell_type": "markdown",
   "metadata": {},
   "source": [
    "- default"
   ]
  },
  {
   "cell_type": "code",
   "execution_count": null,
   "metadata": {},
   "outputs": [],
   "source": [
    "df.groupby('default')['coupon_ind'].apply(lambda x:x.value_counts()/x.count()).plot(kind='barh');"
   ]
  },
  {
   "cell_type": "markdown",
   "metadata": {},
   "source": [
    "- returned"
   ]
  },
  {
   "cell_type": "code",
   "execution_count": null,
   "metadata": {},
   "outputs": [],
   "source": [
    "df.groupby('returned')['coupon_ind'].apply(lambda x:x.value_counts()/x.count()).plot(kind='barh');"
   ]
  },
  {
   "cell_type": "markdown",
   "metadata": {},
   "source": [
    "- loan"
   ]
  },
  {
   "cell_type": "code",
   "execution_count": null,
   "metadata": {},
   "outputs": [],
   "source": [
    "df.groupby('loan')['coupon_ind'].apply(lambda x:x.value_counts()/x.count()).plot(kind='barh');"
   ]
  },
  {
   "cell_type": "markdown",
   "metadata": {},
   "source": [
    "- coupon_used_in_last6_month"
   ]
  },
  {
   "cell_type": "code",
   "execution_count": null,
   "metadata": {},
   "outputs": [],
   "source": [
    "df[df['coupon_ind']==0]['coupon_used_in_last6_month'].plot(kind='hist',bins=20,density=True,alpha=0.5);\n",
    "df[df['coupon_ind']==1]['coupon_used_in_last6_month'].plot(kind='hist',bins=20,density=True,alpha=0.5);"
   ]
  },
  {
   "cell_type": "code",
   "execution_count": null,
   "metadata": {
    "scrolled": true
   },
   "outputs": [],
   "source": [
    "df['coupon_used_in_last6_month'].unique()"
   ]
  },
  {
   "cell_type": "code",
   "execution_count": null,
   "metadata": {
    "scrolled": true
   },
   "outputs": [],
   "source": [
    "df.groupby('coupon_used_in_last6_month')['coupon_ind'].apply(lambda x:x.value_counts()/x.count()).plot(kind='barh',figsize=(5,20));"
   ]
  },
  {
   "cell_type": "markdown",
   "metadata": {},
   "source": [
    "- coupon_used_in_last_month"
   ]
  },
  {
   "cell_type": "code",
   "execution_count": null,
   "metadata": {},
   "outputs": [],
   "source": [
    "df[df['coupon_ind']==0]['coupon_used_in_last_month'].plot(kind='hist',bins=20,density=True,alpha=0.5);\n",
    "df[df['coupon_ind']==1]['coupon_used_in_last_month'].plot(kind='hist',bins=20,density=True,alpha=0.5);"
   ]
  },
  {
   "cell_type": "code",
   "execution_count": null,
   "metadata": {},
   "outputs": [],
   "source": [
    "df['coupon_used_in_last_month'].unique()"
   ]
  },
  {
   "cell_type": "code",
   "execution_count": null,
   "metadata": {},
   "outputs": [],
   "source": [
    "df.groupby('coupon_used_in_last_month')['coupon_ind'].apply(lambda x:x.value_counts()/x.count()).plot(kind='barh',figsize=(5,10));"
   ]
  },
  {
   "cell_type": "markdown",
   "metadata": {},
   "source": [
    "## 特征处理"
   ]
  },
  {
   "cell_type": "code",
   "execution_count": null,
   "metadata": {},
   "outputs": [],
   "source": [
    "#将ID转为index  -> 1.ID不能作为特征，会产生干扰；2.将ID设为index之后，方便后面根据ID将特征与结果一一对应\n",
    "df_clean = df.set_index('ID')"
   ]
  },
  {
   "cell_type": "code",
   "execution_count": null,
   "metadata": {},
   "outputs": [],
   "source": [
    "#将目标列转为flag\n",
    "df_clean = df_clean.rename(columns={'coupon_ind':'flag'})"
   ]
  },
  {
   "cell_type": "code",
   "execution_count": null,
   "metadata": {
    "scrolled": true
   },
   "outputs": [],
   "source": [
    "#将分类变量转为哑变量\n",
    "df_clean = pd.get_dummies(df_clean,drop_first=True)"
   ]
  },
  {
   "cell_type": "markdown",
   "metadata": {},
   "source": [
    "## 建模"
   ]
  },
  {
   "cell_type": "code",
   "execution_count": null,
   "metadata": {},
   "outputs": [],
   "source": [
    "from sklearn.linear_model import LogisticRegression\n",
    "from sklearn.model_selection import train_test_split\n",
    "from sklearn.preprocessing import MinMaxScaler\n",
    "from sklearn.metrics import accuracy_score,confusion_matrix"
   ]
  },
  {
   "cell_type": "code",
   "execution_count": null,
   "metadata": {},
   "outputs": [],
   "source": [
    "#Feature scaling\n",
    "scaler = MinMaxScaler()\n",
    "df_clean[['age','coupon_used_in_last6_month','coupon_used_in_last_month']] = scaler.fit_transform(df_clean[['age','coupon_used_in_last6_month','coupon_used_in_last_month']])"
   ]
  },
  {
   "cell_type": "code",
   "execution_count": null,
   "metadata": {},
   "outputs": [],
   "source": [
    "X = df_clean.drop('flag',axis=1)\n",
    "y = df_clean['flag']"
   ]
  },
  {
   "cell_type": "code",
   "execution_count": null,
   "metadata": {},
   "outputs": [],
   "source": [
    "x_train,x_test,y_train,y_test = train_test_split(X,y,test_size=0.3,random_state=7,stratify=y)#stratify=y 可以按照y的比例去拆分数据"
   ]
  },
  {
   "cell_type": "code",
   "execution_count": null,
   "metadata": {},
   "outputs": [],
   "source": [
    "#比较效果\n",
    "y.mean() - y_train.mean()"
   ]
  },
  {
   "cell_type": "code",
   "execution_count": null,
   "metadata": {},
   "outputs": [],
   "source": [
    "lr_normal = LogisticRegression(random_state=7)\n",
    "lr_normal.fit(x_train,y_train)"
   ]
  },
  {
   "cell_type": "code",
   "execution_count": null,
   "metadata": {},
   "outputs": [],
   "source": [
    "y_pred = lr_normal.predict(x_test)"
   ]
  },
  {
   "cell_type": "code",
   "execution_count": null,
   "metadata": {},
   "outputs": [],
   "source": [
    "accuracy_score(y_test,y_pred)"
   ]
  },
  {
   "cell_type": "markdown",
   "metadata": {},
   "source": [
    "注意：这里有一个问题！"
   ]
  },
  {
   "cell_type": "code",
   "execution_count": null,
   "metadata": {},
   "outputs": [],
   "source": [
    "(y==0).sum()/y.shape[0]"
   ]
  },
  {
   "cell_type": "code",
   "execution_count": null,
   "metadata": {},
   "outputs": [],
   "source": [
    "def confusion_matrix_plot(y_test,y_pred):\n",
    "    data = confusion_matrix(y_test,y_pred)\n",
    "    sns.heatmap(data,annot=True,annot_kws={'size':20,'weight':'bold'},cbar=False,fmt='.20g')\n",
    "    plt.ylabel('True Label')\n",
    "    plt.xlabel('Predicted Label')\n",
    "    plt.title('Confusion Matrix')\n",
    "#     df = pd.DataFrame(columns=['0_pred','1_pred'],index=['0_actual','1_actual'],data=data)\n",
    "#     return df"
   ]
  },
  {
   "cell_type": "code",
   "execution_count": null,
   "metadata": {},
   "outputs": [],
   "source": [
    "confusion_matrix_plot(y_test,y_pred)"
   ]
  },
  {
   "cell_type": "markdown",
   "metadata": {},
   "source": [
    "![%E5%9B%BE%E7%89%87.png](https://cdncontribute.geeksforgeeks.org/wp-content/uploads/Confusion_Matrix1_1.png)\n",
    "```\n",
    "Accuracy=(TP+TN)/(ALL)  \n",
    "Precision=TP/(TP+FP)  \n",
    "Recall=TP/(TP+FN)  \n",
    "```\n",
    "precision:精度，表示的是 在预测的结果中，预测正确的数量占比  \n",
    "recall：召回，表示的是 在样本中，预测正确的数量占比"
   ]
  },
  {
   "cell_type": "code",
   "execution_count": null,
   "metadata": {},
   "outputs": [],
   "source": [
    "y_pred.mean()"
   ]
  },
  {
   "cell_type": "code",
   "execution_count": null,
   "metadata": {},
   "outputs": [],
   "source": [
    "y_test.mean()"
   ]
  },
  {
   "cell_type": "markdown",
   "metadata": {},
   "source": [
    "## 优化"
   ]
  },
  {
   "cell_type": "markdown",
   "metadata": {},
   "source": [
    "### 解决不平衡数据的问题"
   ]
  },
  {
   "cell_type": "code",
   "execution_count": null,
   "metadata": {},
   "outputs": [],
   "source": [
    "df_clean.flag.value_counts()"
   ]
  },
  {
   "cell_type": "code",
   "execution_count": null,
   "metadata": {},
   "outputs": [],
   "source": [
    "y_test.value_counts()"
   ]
  },
  {
   "cell_type": "markdown",
   "metadata": {},
   "source": [
    "#### 更新权重"
   ]
  },
  {
   "cell_type": "code",
   "execution_count": null,
   "metadata": {},
   "outputs": [],
   "source": [
    "lr_balanced = LogisticRegression(random_state=7,class_weight='balanced')\n",
    "lr_balanced.fit(x_train,y_train)"
   ]
  },
  {
   "cell_type": "code",
   "execution_count": null,
   "metadata": {},
   "outputs": [],
   "source": [
    "y_balanced_pred = lr_balanced.predict(x_test)"
   ]
  },
  {
   "cell_type": "code",
   "execution_count": null,
   "metadata": {},
   "outputs": [],
   "source": [
    "confusion_matrix_plot(y_test,y_balanced_pred)"
   ]
  },
  {
   "cell_type": "markdown",
   "metadata": {},
   "source": [
    "#### 评价方法"
   ]
  },
  {
   "cell_type": "markdown",
   "metadata": {},
   "source": [
    "- F-score"
   ]
  },
  {
   "cell_type": "markdown",
   "metadata": {},
   "source": [
    "评价模型，不能只看准确率，尤其是数据样本不均衡时，我们可以依据业务侧重于precision，或者recall，那么想在二者之间找到平衡，就用到了F-score。其计算方法比较好理解：\n",
    "$$F1 = \\frac{2 * (precision * recall)}{(precision + recall)}  $$"
   ]
  },
  {
   "cell_type": "code",
   "execution_count": null,
   "metadata": {},
   "outputs": [],
   "source": [
    "from sklearn.metrics import f1_score"
   ]
  },
  {
   "cell_type": "code",
   "execution_count": null,
   "metadata": {},
   "outputs": [],
   "source": [
    "#初始模型\n",
    "f1_score(y_test,y_pred)"
   ]
  },
  {
   "cell_type": "code",
   "execution_count": null,
   "metadata": {},
   "outputs": [],
   "source": [
    "#更新权重后的模型\n",
    "f1_score(y_test,y_balanced_pred)"
   ]
  },
  {
   "cell_type": "markdown",
   "metadata": {},
   "source": [
    "- roc_auc_score"
   ]
  },
  {
   "cell_type": "markdown",
   "metadata": {},
   "source": [
    "我们先来看一下ROC曲线（接收者操作特征曲线）\n",
    "\n",
    "![%E5%9B%BE%E7%89%87.png](https://upload-images.jianshu.io/upload_images/145616-ce8221a29d9c01ef.png?imageMogr2/auto-orient/strip|imageView2/2/w/795)"
   ]
  },
  {
   "cell_type": "markdown",
   "metadata": {},
   "source": [
    "- 是什么：表示反映敏感性和特异性连续变量的综合指标，roc曲线上每个点反映着对同一信号刺激的感受性。  \n",
    "\n",
    "横坐标为FPR，即$\\frac{FP}{FP+TN}$，表示的是预测的结果中，假阳性占所有阴性的比例。    \n",
    "\n",
    "纵坐标为TPR，即$\\frac{TP}{TP+FN}$，表示的是预测的结果中，真阳性占所有阳性的比例。"
   ]
  },
  {
   "cell_type": "markdown",
   "metadata": {},
   "source": [
    "- 怎么画  \n",
    "\n",
    "如(b)图所示，我们可以把二分类样本的分布（近似正态分布）绘出，$\\theta$表示我们切分正负样本的阈值，阈值左侧预测为阳性，右侧预测为阴性。  \n",
    "\n",
    "我们先把阈值拉到图中的最左边，也就是将全部样本都预测为阴性，这时候，TP与FP均为0，那么横纵坐标也都为0，即原点坐标；  \n",
    "然后，我们将阈值逐渐移动至图像的最右方，在这个过程中：  \n",
    "    - TP逐渐增大，FN逐渐减少，那么TPR逐渐增大\n",
    "    - TN逐渐减小，FP逐渐增大，那么FPR逐渐增大\n",
    "    \n",
    "直到移动到最右方时，将所有的样本都预测为阳性，这时候，FPR=TPR=1，也就是（1,1）这个点。\n",
    "\n",
    "所以整个曲线大致就是如图(a)所示的亚子。"
   ]
  },
  {
   "cell_type": "markdown",
   "metadata": {},
   "source": [
    "但是对于我们的模型来说，分类是已经确定的，所以，会按照正样本的概率从大到小依次设定阈值，绘出roc曲线。\n",
    "<img src=\"https://upload-images.jianshu.io/upload_images/145616-ca9d12fa24fe2842.png?imageMogr2/auto-orient/strip|imageView2/2/w/718\" width=\"300px\"></img>"
   ]
  },
  {
   "cell_type": "markdown",
   "metadata": {},
   "source": [
    "- roc_auc  \n",
    "\n",
    "表示的是roc曲线下的面积，面积的计算可以根据积分或近似逼近来计算，我们姑且简单计算为$FPR*TPR = (1 - TNR)*TPR$，所以想要面积尽可能大，就要让两个乘数相差越少。\n",
    "\n",
    "- 意义：\n",
    "\n",
    "我们的目的是将正负样本尽可能多的区分开，那就要求TP尽可能大，而且TN也尽可能大，所以，最佳分裂的阈值就是图中的两个正态分布交叉点的位置，这个时候$(1 - TNR)$与$TPR$相差最少，roc_auc_score最大。"
   ]
  },
  {
   "cell_type": "markdown",
   "metadata": {},
   "source": [
    "所以，roc_auc_score越接近于1，就说明我们的模型将正负样本分离的能力越强。这跟样本大小没有关系。"
   ]
  },
  {
   "cell_type": "code",
   "execution_count": null,
   "metadata": {},
   "outputs": [],
   "source": [
    "#使用\n",
    "from sklearn.metrics import roc_auc_score"
   ]
  },
  {
   "cell_type": "code",
   "execution_count": null,
   "metadata": {},
   "outputs": [],
   "source": [
    "lr_normal.predict_proba(x_test)"
   ]
  },
  {
   "cell_type": "code",
   "execution_count": null,
   "metadata": {},
   "outputs": [],
   "source": [
    "y_pred_prob = lr_normal.predict_proba(x_test)[:,1]"
   ]
  },
  {
   "cell_type": "code",
   "execution_count": null,
   "metadata": {
    "scrolled": true
   },
   "outputs": [],
   "source": [
    "roc_auc_score(y_test,y_pred_prob)"
   ]
  },
  {
   "cell_type": "code",
   "execution_count": null,
   "metadata": {},
   "outputs": [],
   "source": [
    "y_balanced_pred_prob = lr_balanced.predict_proba(x_test)[:,1]"
   ]
  },
  {
   "cell_type": "code",
   "execution_count": null,
   "metadata": {
    "scrolled": true
   },
   "outputs": [],
   "source": [
    "roc_auc_score(y_test,y_balanced_pred_prob)"
   ]
  },
  {
   "cell_type": "markdown",
   "metadata": {},
   "source": [
    "#### 进行重采样"
   ]
  },
  {
   "cell_type": "code",
   "execution_count": null,
   "metadata": {},
   "outputs": [],
   "source": [
    "from collections import Counter\n",
    "from imblearn.over_sampling import SMOTE\n",
    "\n",
    "#SMOTE合成\n",
    "sm = SMOTE(random_state=42)\n",
    "X_res, y_res = sm.fit_resample(X, y)\n",
    "print('Resampled dataset shape %s' % Counter(y_res))"
   ]
  },
  {
   "cell_type": "code",
   "execution_count": null,
   "metadata": {},
   "outputs": [],
   "source": [
    "x_train_res,x_test_res,y_train_res,y_test_res = train_test_split(X_res,y_res,test_size=0.3,random_state=7,stratify=y_res)#stratify=y 可以按照y的比例去拆分数据"
   ]
  },
  {
   "cell_type": "code",
   "execution_count": null,
   "metadata": {},
   "outputs": [],
   "source": [
    "lr = LogisticRegression(random_state=7)\n",
    "lr.fit(x_train_res,y_train_res)"
   ]
  },
  {
   "cell_type": "code",
   "execution_count": null,
   "metadata": {},
   "outputs": [],
   "source": [
    "y_res_pred = lr.predict(x_test_res)\n",
    "y_res_pred_prob = lr.predict_proba(x_test_res)[:,1]"
   ]
  },
  {
   "cell_type": "code",
   "execution_count": null,
   "metadata": {},
   "outputs": [],
   "source": [
    "roc_auc_score(y_test_res,y_res_pred_prob)"
   ]
  },
  {
   "cell_type": "markdown",
   "metadata": {},
   "source": [
    "### 更多的特征工程"
   ]
  },
  {
   "cell_type": "code",
   "execution_count": null,
   "metadata": {},
   "outputs": [],
   "source": [
    "from Chi_Square_Bins import chiMerge"
   ]
  },
  {
   "cell_type": "code",
   "execution_count": null,
   "metadata": {},
   "outputs": [],
   "source": [
    "df_pro = df.set_index('ID')"
   ]
  },
  {
   "cell_type": "code",
   "execution_count": null,
   "metadata": {},
   "outputs": [],
   "source": [
    "df_pro.head()"
   ]
  },
  {
   "cell_type": "markdown",
   "metadata": {},
   "source": [
    "#### age分箱"
   ]
  },
  {
   "cell_type": "code",
   "execution_count": null,
   "metadata": {},
   "outputs": [],
   "source": [
    "#卡方分箱\n",
    "cutoffs = chiMerge(df_pro,'age','coupon_ind')"
   ]
  },
  {
   "cell_type": "code",
   "execution_count": null,
   "metadata": {},
   "outputs": [],
   "source": [
    "cutoffs = np.append(cutoffs,df_pro['age'].max()+1)"
   ]
  },
  {
   "cell_type": "code",
   "execution_count": null,
   "metadata": {},
   "outputs": [],
   "source": [
    "df_pro['age_bins'] = pd.cut(df_pro['age'],bins=cutoffs,right=False)"
   ]
  },
  {
   "cell_type": "markdown",
   "metadata": {},
   "source": [
    "#### coupon_used_in_last6_month分箱"
   ]
  },
  {
   "cell_type": "code",
   "execution_count": null,
   "metadata": {},
   "outputs": [],
   "source": [
    "cutoffs = chiMerge(df_pro,'coupon_used_in_last6_month','coupon_ind')"
   ]
  },
  {
   "cell_type": "code",
   "execution_count": null,
   "metadata": {},
   "outputs": [],
   "source": [
    "cutoffs = np.append(cutoffs,df_pro['coupon_used_in_last6_month'].max()+1)"
   ]
  },
  {
   "cell_type": "code",
   "execution_count": null,
   "metadata": {},
   "outputs": [],
   "source": [
    "df_pro['last6_month_bins'] = pd.cut(df_pro['coupon_used_in_last6_month'],bins=cutoffs,right=False)"
   ]
  },
  {
   "cell_type": "markdown",
   "metadata": {},
   "source": [
    "#### 多feature之间交互"
   ]
  },
  {
   "cell_type": "code",
   "execution_count": null,
   "metadata": {
    "scrolled": true
   },
   "outputs": [],
   "source": [
    "df_pro[['default','returned','loan']] = df_pro[['default','returned','loan']].applymap(lambda x: False if x=='no' else True)"
   ]
  },
  {
   "cell_type": "code",
   "execution_count": null,
   "metadata": {},
   "outputs": [],
   "source": [
    "from itertools import combinations"
   ]
  },
  {
   "cell_type": "code",
   "execution_count": null,
   "metadata": {},
   "outputs": [],
   "source": [
    "for i in combinations(['default','returned','loan'],2):\n",
    "    df_pro[f'{i[0]}&{i[1]}'] = df_pro[i[0]]&df_pro[i[1]]\n",
    "    df_pro[f'{i[0]}|{i[1]}'] = df_pro[i[0]]|df_pro[i[1]]"
   ]
  },
  {
   "cell_type": "code",
   "execution_count": null,
   "metadata": {
    "scrolled": true
   },
   "outputs": [],
   "source": [
    "df_pro['sub'] = df_pro['coupon_used_in_last6_month'] - df_pro['coupon_used_in_last_month']\n",
    "df_pro['div'] = df_pro['coupon_used_in_last_month'] / df_pro['coupon_used_in_last6_month']"
   ]
  },
  {
   "cell_type": "markdown",
   "metadata": {},
   "source": [
    "#### 特征编码"
   ]
  },
  {
   "cell_type": "markdown",
   "metadata": {},
   "source": [
    "##### label_count_rank encoding"
   ]
  },
  {
   "cell_type": "code",
   "execution_count": null,
   "metadata": {},
   "outputs": [],
   "source": [
    "def label_count_rank_encoding(series):\n",
    "    map_dict = dict(zip(series.value_counts().index,range(series.nunique())))\n",
    "    return series.apply(lambda x:map_dict[x])"
   ]
  },
  {
   "cell_type": "code",
   "execution_count": null,
   "metadata": {},
   "outputs": [],
   "source": [
    "df_pro.head(1)"
   ]
  },
  {
   "cell_type": "code",
   "execution_count": null,
   "metadata": {
    "scrolled": true
   },
   "outputs": [],
   "source": [
    "for col in ['job','marital','coupon_used_in_last6_month','coupon_used_in_last_month','age_bins','last6_month_bins','sub','div']:\n",
    "    print(col)\n",
    "    df_pro[f'{col}_count_rank'] = label_count_rank_encoding(df_pro[col])"
   ]
  },
  {
   "cell_type": "markdown",
   "metadata": {},
   "source": [
    "##### kfold-target-encoder"
   ]
  },
  {
   "cell_type": "code",
   "execution_count": null,
   "metadata": {},
   "outputs": [],
   "source": [
    "from sklearn import base"
   ]
  },
  {
   "cell_type": "code",
   "execution_count": null,
   "metadata": {},
   "outputs": [],
   "source": [
    "from sklearn.model_selection import KFold"
   ]
  },
  {
   "cell_type": "code",
   "execution_count": null,
   "metadata": {},
   "outputs": [],
   "source": [
    "class KFoldTargetEncoderTrain(base.BaseEstimator,base.TransformerMixin):    \n",
    "    def __init__(self,colnames,targetName,n_fold=5, verbosity=True,\n",
    "                 discardOriginal_col=False):        \n",
    "        self.colnames = colnames\n",
    "        self.targetName = targetName\n",
    "        self.n_fold = n_fold\n",
    "        self.verbosity = verbosity\n",
    "        self.discardOriginal_col = discardOriginal_col    \n",
    "        \n",
    "    def fit(self, X, y=None):\n",
    "        return self    \n",
    "    def transform(self,X):        \n",
    "        assert(type(self.targetName) == str)\n",
    "        assert(type(self.colnames) == str)\n",
    "        assert(self.colnames in X.columns)\n",
    "        assert(self.targetName in X.columns)        \n",
    "        mean_of_target = X[self.targetName].mean()\n",
    "        kf = KFold(n_splits = self.n_fold,shuffle = False, random_state=2019)        \n",
    "        col_mean_name = self.colnames + '_' + 'Kfold_Target_Enc'\n",
    "        X[col_mean_name] = np.nan        \n",
    "        for tr_ind, val_ind in kf.split(X):\n",
    "            X_tr, X_val = X.iloc[tr_ind], X.iloc[val_ind]\n",
    "            X.loc[X.index[val_ind], col_mean_name] = X_val[self.colnames].map(X_tr.groupby(self.colnames)[self.targetName].mean())\n",
    "            X[col_mean_name].fillna(mean_of_target, inplace = True)\n",
    "            if self.verbosity:      \n",
    "                encoded_feature = X[col_mean_name].values\n",
    "            print('Correlation between the new feature, {} and, {} is {}.'.format(col_mean_name,self.targetName,\n",
    "                                                                                  np.corrcoef(X[self.targetName].values,\n",
    "                                                                                              encoded_feature)[0][1]))\n",
    "        if self.discardOriginal_col:\n",
    "            X = X.drop(self.targetName, axis=1)\n",
    "        return X"
   ]
  },
  {
   "cell_type": "code",
   "execution_count": 481,
   "metadata": {},
   "outputs": [],
   "source": [
    "class KFoldTargetEncoderTest(base.BaseEstimator, base.TransformerMixin):\n",
    "    \n",
    "    def __init__(self,train,colNames,encodedName):        \n",
    "        self.train = train\n",
    "        self.colNames = colNames\n",
    "        self.encodedName = encodedName\n",
    "        \n",
    "    def fit(self, X, y=None):\n",
    "        return self    \n",
    "    def transform(self,X):        \n",
    "        mean =  self.train[[self.colNames,\n",
    "                            self.encodedName]].groupby(self.colNames).mean().reset_index() \n",
    "        \n",
    "        dd = {}\n",
    "        for index, row in mean.iterrows():\n",
    "            dd[row[self.colNames]] = row[self.encodedName]        \n",
    "            X[self.encodedName] = X[self.colNames]\n",
    "        X = X.replace({self.encodedName: dd})   \n",
    "        return X"
   ]
  },
  {
   "cell_type": "code",
   "execution_count": 522,
   "metadata": {},
   "outputs": [],
   "source": [
    "df_pro_new = df_pro.copy()"
   ]
  },
  {
   "cell_type": "code",
   "execution_count": 511,
   "metadata": {},
   "outputs": [],
   "source": [
    "X = df_pro_new.drop('coupon_ind',axis=1)\n",
    "y = df_pro_new['coupon_ind']\n",
    "X_train,X_test,y_train,y_test = train_test_split(X,y,random_state=7,stratify=y)"
   ]
  },
  {
   "cell_type": "code",
   "execution_count": 512,
   "metadata": {},
   "outputs": [],
   "source": [
    "df_pro_new_train = X_train.join(y_train)\n",
    "df_pro_new_test = X_test.join(y_test)"
   ]
  },
  {
   "cell_type": "code",
   "execution_count": 523,
   "metadata": {},
   "outputs": [
    {
     "name": "stdout",
     "output_type": "stream",
     "text": [
      "Correlation between the new feature, job_Kfold_Target_Enc and, coupon_ind is -0.07614789300098393.\n",
      "Correlation between the new feature, job_Kfold_Target_Enc and, coupon_ind is -0.11018748803135701.\n",
      "Correlation between the new feature, job_Kfold_Target_Enc and, coupon_ind is -0.13866982430312827.\n",
      "Correlation between the new feature, job_Kfold_Target_Enc and, coupon_ind is -0.1642337369192713.\n",
      "Correlation between the new feature, job_Kfold_Target_Enc and, coupon_ind is -0.5721559274352102.\n",
      "Correlation between the new feature, marital_Kfold_Target_Enc and, coupon_ind is -0.13641577647808334.\n",
      "Correlation between the new feature, marital_Kfold_Target_Enc and, coupon_ind is -0.20534047390953228.\n",
      "Correlation between the new feature, marital_Kfold_Target_Enc and, coupon_ind is -0.27497073703062397.\n",
      "Correlation between the new feature, marital_Kfold_Target_Enc and, coupon_ind is -0.3544392243596925.\n",
      "Correlation between the new feature, marital_Kfold_Target_Enc and, coupon_ind is -0.686400738493172.\n",
      "Correlation between the new feature, age_bins_Kfold_Target_Enc and, coupon_ind is -0.06482613938804899.\n",
      "Correlation between the new feature, age_bins_Kfold_Target_Enc and, coupon_ind is -0.09347842712891813.\n",
      "Correlation between the new feature, age_bins_Kfold_Target_Enc and, coupon_ind is -0.11514952317252379.\n",
      "Correlation between the new feature, age_bins_Kfold_Target_Enc and, coupon_ind is -0.1345630918796194.\n",
      "Correlation between the new feature, age_bins_Kfold_Target_Enc and, coupon_ind is -0.5413167913645496.\n",
      "Correlation between the new feature, last6_month_bins_Kfold_Target_Enc and, coupon_ind is -0.10259305713257592.\n",
      "Correlation between the new feature, last6_month_bins_Kfold_Target_Enc and, coupon_ind is -0.1528991084505028.\n",
      "Correlation between the new feature, last6_month_bins_Kfold_Target_Enc and, coupon_ind is -0.19661061587541878.\n",
      "Correlation between the new feature, last6_month_bins_Kfold_Target_Enc and, coupon_ind is -0.23814572870087963.\n",
      "Correlation between the new feature, last6_month_bins_Kfold_Target_Enc and, coupon_ind is -0.6358667591109809.\n"
     ]
    }
   ],
   "source": [
    "str_cols = ['job','marital','age_bins','last6_month_bins']\n",
    "for col in str_cols:\n",
    "    targetc = KFoldTargetEncoderTrain(col,'coupon_ind',n_fold=5)\n",
    "    df_pro_new = targetc.fit_transform(df_pro_new)"
   ]
  },
  {
   "cell_type": "code",
   "execution_count": 514,
   "metadata": {},
   "outputs": [],
   "source": [
    "for col in str_cols:\n",
    "    test_targetc = KFoldTargetEncoderTest(df_pro_new_train,\n",
    "                                          col,\n",
    "                                          f'{col}_Kfold_Target_Enc')\n",
    "    df_pro_new_test = test_targetc.fit_transform(df_pro_new_test)"
   ]
  },
  {
   "cell_type": "markdown",
   "metadata": {},
   "source": [
    "##### 修改精度"
   ]
  },
  {
   "cell_type": "code",
   "execution_count": 515,
   "metadata": {
    "scrolled": true
   },
   "outputs": [],
   "source": [
    "df_pro_new_train['div'] = df_pro_new_train['div'].apply(lambda x: round(x,1))\n",
    "df_pro_new_test['div'] = df_pro_new_test['div'].apply(lambda x: round(x,1))"
   ]
  },
  {
   "cell_type": "code",
   "execution_count": 516,
   "metadata": {},
   "outputs": [],
   "source": [
    "df_pro_new_train = df_pro_new_train.drop(str_cols,axis=1)\n",
    "df_pro_new_test = df_pro_new_test.drop(str_cols,axis=1)"
   ]
  },
  {
   "cell_type": "code",
   "execution_count": 517,
   "metadata": {
    "scrolled": true
   },
   "outputs": [
    {
     "name": "stderr",
     "output_type": "stream",
     "text": [
      "d:\\ProgramData\\Anaconda3\\lib\\site-packages\\sklearn\\utils\\validation.py:595: DataConversionWarning: Data with input dtype int64 was converted to float64 by MinMaxScaler.\n",
      "  warnings.warn(msg, DataConversionWarning)\n"
     ]
    }
   ],
   "source": [
    "scaler = MinMaxScaler()\n",
    "df_pro_new_train['age'] = scaler.fit_transform(df_pro_new_train['age'].values.reshape(-1, 1))\n",
    "df_pro_new_test['age'] = scaler.transform(df_pro_new_test['age'].values.reshape(-1, 1))"
   ]
  },
  {
   "cell_type": "markdown",
   "metadata": {},
   "source": [
    "### 训练"
   ]
  },
  {
   "cell_type": "code",
   "execution_count": null,
   "metadata": {},
   "outputs": [],
   "source": [
    "def pipeline(data,model,label_name):\n",
    "    X = data.drop(label_name,axis=1)\n",
    "    y = data[label_name]\n",
    "    x_train,x_test,y_train,y_test = train_test_split(X,y,random_state=7,stratify=y)\n",
    "    \n",
    "    \n",
    "    model.fit(x_train,y_train)\n",
    "    y_pred = model.predict(x_test)\n",
    "    y_pred_prob = model.predict_proba(x_test)[:,1]\n",
    "    print('roc_auc_score',roc_auc_score(y_test,y_pred_prob))\n",
    "    confusion_matrix_plot(y_test,y_pred)\n",
    "    return(model)"
   ]
  },
  {
   "cell_type": "code",
   "execution_count": null,
   "metadata": {
    "scrolled": true
   },
   "outputs": [],
   "source": [
    "lrm = LogisticRegression(random_state=7,class_weight='balanced')\n",
    "pipeline(df_pro_encode,lrm,'coupon_ind')"
   ]
  },
  {
   "cell_type": "code",
   "execution_count": 525,
   "metadata": {},
   "outputs": [],
   "source": [
    "df_pro_new = df_pro_new.drop(str_cols,axis=1)"
   ]
  },
  {
   "cell_type": "code",
   "execution_count": 526,
   "metadata": {
    "scrolled": false
   },
   "outputs": [
    {
     "name": "stderr",
     "output_type": "stream",
     "text": [
      "d:\\ProgramData\\Anaconda3\\lib\\site-packages\\sklearn\\linear_model\\logistic.py:433: FutureWarning: Default solver will be changed to 'lbfgs' in 0.22. Specify a solver to silence this warning.\n",
      "  FutureWarning)\n"
     ]
    },
    {
     "name": "stdout",
     "output_type": "stream",
     "text": [
      "roc_auc_score 0.9750076149494754\n"
     ]
    },
    {
     "data": {
      "text/plain": [
       "LogisticRegression(C=1.0, class_weight='balanced', dual=False,\n",
       "          fit_intercept=True, intercept_scaling=1, max_iter=100,\n",
       "          multi_class='warn', n_jobs=None, penalty='l2', random_state=7,\n",
       "          solver='warn', tol=0.0001, verbose=0, warm_start=False)"
      ]
     },
     "execution_count": 526,
     "metadata": {},
     "output_type": "execute_result"
    },
    {
     "data": {
      "image/png": "[encoded data removed]",
      "text/plain": [
       "<Figure size 432x288 with 1 Axes>"
      ]
     },
     "metadata": {
      "needs_background": "light"
     },
     "output_type": "display_data"
    }
   ],
   "source": [
    "lrm = LogisticRegression(random_state=7,class_weight='balanced')\n",
    "pipeline(df_pro_new,lrm,'coupon_ind')"
   ]
  },
  {
   "cell_type": "code",
   "execution_count": 520,
   "metadata": {
    "scrolled": true
   },
   "outputs": [],
   "source": [
    "new_pred = lrm.predict_proba(df_pro_new_test.drop('coupon_ind',axis=1))[:,1]"
   ]
  },
  {
   "cell_type": "code",
   "execution_count": 521,
   "metadata": {},
   "outputs": [
    {
     "data": {
      "text/plain": [
       "0.7207831310738289"
      ]
     },
     "execution_count": 521,
     "metadata": {},
     "output_type": "execute_result"
    }
   ],
   "source": [
    "roc_auc_score(df_pro_new_test['coupon_ind'],new_pred)"
   ]
  },
  {
   "cell_type": "code",
   "execution_count": 518,
   "metadata": {
    "scrolled": false
   },
   "outputs": [
    {
     "name": "stdout",
     "output_type": "stream",
     "text": [
      "roc_auc_score 0.7224797555188777\n"
     ]
    },
    {
     "name": "stderr",
     "output_type": "stream",
     "text": [
      "d:\\ProgramData\\Anaconda3\\lib\\site-packages\\sklearn\\linear_model\\logistic.py:433: FutureWarning: Default solver will be changed to 'lbfgs' in 0.22. Specify a solver to silence this warning.\n",
      "  FutureWarning)\n"
     ]
    },
    {
     "data": {
      "text/plain": [
       "LogisticRegression(C=1.0, class_weight='balanced', dual=False,\n",
       "          fit_intercept=True, intercept_scaling=1, max_iter=100,\n",
       "          multi_class='warn', n_jobs=None, penalty='l2', random_state=7,\n",
       "          solver='warn', tol=0.0001, verbose=0, warm_start=False)"
      ]
     },
     "execution_count": 518,
     "metadata": {},
     "output_type": "execute_result"
    },
    {
     "data": {
      "image/png": "[encoded data removed]",
      "text/plain": [
       "<Figure size 432x288 with 1 Axes>"
      ]
     },
     "metadata": {
      "needs_background": "light"
     },
     "output_type": "display_data"
    }
   ],
   "source": [
    "lrm = LogisticRegression(random_state=7,class_weight='balanced')\n",
    "pipeline(df_pro_new_train,lrm,'coupon_ind')"
   ]
  },
  {
   "attachments": {
    "%E5%9B%BE%E7%89%87.png": {
     "image/png": "[encoded data removed]"
    }
   },
   "cell_type": "markdown",
   "metadata": {},
   "source": [
    "- 初始模型\n",
    "![%E5%9B%BE%E7%89%87.png](attachment:%E5%9B%BE%E7%89%87.png)"
   ]
  },
  {
   "attachments": {
    "%E5%9B%BE%E7%89%87.png": {
     "image/png": "[encoded data removed]"
    }
   },
   "cell_type": "markdown",
   "metadata": {},
   "source": [
    "- 更新权重模型\n",
    "![%E5%9B%BE%E7%89%87.png](attachment:%E5%9B%BE%E7%89%87.png)"
   ]
  },
  {
   "cell_type": "markdown",
   "metadata": {},
   "source": [
    "### 使用其他算法"
   ]
  },
  {
   "cell_type": "code",
   "execution_count": null,
   "metadata": {},
   "outputs": [],
   "source": [
    "from lightgbm import LGBMClassifier"
   ]
  },
  {
   "cell_type": "code",
   "execution_count": null,
   "metadata": {},
   "outputs": [],
   "source": [
    "from sklearn.preprocessing import LabelEncoder\n",
    "from sklearn.model_selection import StratifiedKFold"
   ]
  },
  {
   "cell_type": "code",
   "execution_count": null,
   "metadata": {},
   "outputs": [],
   "source": [
    "X = df_pro_new.drop('coupon_ind',axis=1)\n",
    "y = df_pro_new['coupon_ind']\n",
    "X_train,X_test,y_train,y_test = train_test_split(X,y,random_state=7,stratify=y)"
   ]
  },
  {
   "cell_type": "code",
   "execution_count": null,
   "metadata": {},
   "outputs": [],
   "source": [
    "folds = StratifiedKFold(n_splits=5, shuffle=True, random_state=2019)\n",
    "prob_oof = np.zeros((X_train.shape[0], ))\n",
    "test_pred_prob = np.zeros((X_test.shape[0], ))"
   ]
  },
  {
   "cell_type": "code",
   "execution_count": null,
   "metadata": {
    "scrolled": false
   },
   "outputs": [],
   "source": [
    "features = list(X_train.columns)\n",
    "lgb_feature_importance = pd.DataFrame()\n",
    "for fold_,(trn_idx,val_idx) in enumerate(folds.split(X_train,y_train)):\n",
    "    print(f'fold {fold_+1}')\n",
    "\n",
    "    lgb_model = LGBMClassifier(boosting_type='gbdt',objective='binary',metrics='binary_logloss',learning_rate=0.01, n_estimators=1000, max_depth=10, num_leaves=15,max_bin=205,min_data_in_leaf=91,\n",
    "                         bagging_fraction=0.6,bagging_freq= 0, feature_fraction= 0.8,lambda_l1=0.9,lambda_l2=0.3,min_split_gain=0)\n",
    "    lgb_model.fit(X_train.iloc[trn_idx],y_train.iloc[trn_idx],eval_set=[(X_train.iloc[val_idx],y_train.iloc[val_idx])],\n",
    "                 eval_metric='auc',verbose=200, early_stopping_rounds=200)\n",
    "    prob_oof[val_idx] = lgb_model.predict_proba(X_train.iloc[val_idx], num_iteration=lgb_model.best_iteration_)[:,1]\n",
    "    \n",
    "    fold_importance_df = pd.DataFrame()\n",
    "    fold_importance_df[\"Feature\"] = features\n",
    "    fold_importance_df[\"importance\"] = lgb_model.feature_importances_\n",
    "    fold_importance_df[\"fold\"] = fold_ + 1\n",
    "    lgb_feature_importance = pd.concat([lgb_feature_importance, fold_importance_df], axis=0)\n",
    "\n",
    "    test_pred_prob += lgb_model.predict_proba(X_test, num_iteration=lgb_model.best_iteration_)[:,1] / folds.n_splits    "
   ]
  },
  {
   "cell_type": "code",
   "execution_count": null,
   "metadata": {},
   "outputs": [],
   "source": [
    "lgb_feature_importance.groupby('Feature')['importance'].sum().sort_values()"
   ]
  },
  {
   "cell_type": "code",
   "execution_count": null,
   "metadata": {},
   "outputs": [],
   "source": [
    "roc_auc_score(y_test,test_pred_prob)"
   ]
  }
 ],
 "metadata": {
  "kernelspec": {
   "display_name": "Python 3",
   "language": "python",
   "name": "python3"
  },
  "language_info": {
   "codemirror_mode": {
    "name": "ipython",
    "version": 3
   },
   "file_extension": ".py",
   "mimetype": "text/x-python",
   "name": "python",
   "nbconvert_exporter": "python",
   "pygments_lexer": "ipython3",
   "version": "3.6.8"
  },
  "toc": {
   "base_numbering": 1,
   "nav_menu": {},
   "number_sections": true,
   "sideBar": true,
   "skip_h1_title": false,
   "title_cell": "Table of Contents",
   "title_sidebar": "Contents",
   "toc_cell": false,
   "toc_position": {
    "height": "calc(100% - 180px)",
    "left": "10px",
    "top": "150px",
    "width": "165px"
   },
   "toc_section_display": true,
   "toc_window_display": true
  }
 },
 "nbformat": 4,
 "nbformat_minor": 2
}
